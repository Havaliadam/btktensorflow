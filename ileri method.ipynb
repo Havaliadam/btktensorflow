{
 "cells": [
  {
   "cell_type": "code",
   "execution_count": 1,
   "id": "eca55e5b",
   "metadata": {},
   "outputs": [],
   "source": [
    "benimlistem=[0,1,2,3,4,5,6]"
   ]
  },
  {
   "cell_type": "code",
   "execution_count": 2,
   "id": "ca6ef60c",
   "metadata": {},
   "outputs": [
    {
     "name": "stdout",
     "output_type": "stream",
     "text": [
      "0\n",
      "1\n",
      "2\n",
      "3\n",
      "4\n",
      "5\n",
      "6\n"
     ]
    }
   ],
   "source": [
    "for numara in benimlistem:\n",
    "    print(numara)"
   ]
  },
  {
   "cell_type": "markdown",
   "id": "98caae23",
   "metadata": {},
   "source": [
    "## range\n"
   ]
  },
  {
   "cell_type": "code",
   "execution_count": 3,
   "id": "95c8b9e0",
   "metadata": {},
   "outputs": [
    {
     "data": {
      "text/plain": [
       "range(0, 15)"
      ]
     },
     "execution_count": 3,
     "metadata": {},
     "output_type": "execute_result"
    }
   ],
   "source": [
    "range(15)"
   ]
  },
  {
   "cell_type": "code",
   "execution_count": 4,
   "id": "f262252b",
   "metadata": {},
   "outputs": [
    {
     "data": {
      "text/plain": [
       "[0, 1, 2, 3, 4, 5, 6, 7, 8, 9, 10, 11, 12, 13, 14, 15, 16, 17, 18, 19]"
      ]
     },
     "execution_count": 4,
     "metadata": {},
     "output_type": "execute_result"
    }
   ],
   "source": [
    "list(range(20))"
   ]
  },
  {
   "cell_type": "code",
   "execution_count": 5,
   "id": "576d90d4",
   "metadata": {},
   "outputs": [
    {
     "name": "stdout",
     "output_type": "stream",
     "text": [
      "0\n",
      "5\n",
      "10\n",
      "15\n",
      "20\n",
      "25\n",
      "30\n",
      "35\n",
      "40\n",
      "45\n",
      "50\n",
      "55\n",
      "60\n",
      "65\n",
      "70\n"
     ]
    }
   ],
   "source": [
    "for numara in list(range(15)):\n",
    "    print(numara*5)"
   ]
  },
  {
   "cell_type": "code",
   "execution_count": 6,
   "id": "665bd64f",
   "metadata": {},
   "outputs": [
    {
     "data": {
      "text/plain": [
       "[5, 9, 13, 17, 21]"
      ]
     },
     "execution_count": 6,
     "metadata": {},
     "output_type": "execute_result"
    }
   ],
   "source": [
    "list(range(5,25,4))"
   ]
  },
  {
   "cell_type": "markdown",
   "id": "7aae68e3",
   "metadata": {},
   "source": [
    "## enumerate"
   ]
  },
  {
   "cell_type": "code",
   "execution_count": 7,
   "id": "486d81b3",
   "metadata": {},
   "outputs": [
    {
     "name": "stdout",
     "output_type": "stream",
     "text": [
      " güncel numara:5 güncel index:0\n",
      " güncel numara:6 güncel index:1\n",
      " güncel numara:7 güncel index:2\n",
      " güncel numara:8 güncel index:3\n",
      " güncel numara:9 güncel index:4\n",
      " güncel numara:10 güncel index:5\n",
      " güncel numara:11 güncel index:6\n",
      " güncel numara:12 güncel index:7\n",
      " güncel numara:13 güncel index:8\n",
      " güncel numara:14 güncel index:9\n"
     ]
    }
   ],
   "source": [
    "index=0\n",
    "for numara in list(range(5,15)):\n",
    "    print(f' güncel numara:{numara} güncel index:{index}')\n",
    "    index=index+1"
   ]
  },
  {
   "cell_type": "code",
   "execution_count": 10,
   "id": "dba0b401",
   "metadata": {},
   "outputs": [
    {
     "name": "stdout",
     "output_type": "stream",
     "text": [
      "(0, 5)\n",
      "<class 'tuple'>\n",
      "(1, 6)\n",
      "<class 'tuple'>\n",
      "(2, 7)\n",
      "<class 'tuple'>\n",
      "(3, 8)\n",
      "<class 'tuple'>\n",
      "(4, 9)\n",
      "<class 'tuple'>\n",
      "(5, 10)\n",
      "<class 'tuple'>\n",
      "(6, 11)\n",
      "<class 'tuple'>\n",
      "(7, 12)\n",
      "<class 'tuple'>\n",
      "(8, 13)\n",
      "<class 'tuple'>\n",
      "(9, 14)\n",
      "<class 'tuple'>\n"
     ]
    }
   ],
   "source": [
    "for eleman in enumerate(list(range(5,15))):\n",
    "    print(eleman)\n",
    "    print(type(eleman))"
   ]
  },
  {
   "cell_type": "code",
   "execution_count": 12,
   "id": "49ed4fb6",
   "metadata": {},
   "outputs": [
    {
     "name": "stdout",
     "output_type": "stream",
     "text": [
      "5\n",
      "6\n",
      "7\n",
      "8\n",
      "9\n",
      "10\n",
      "11\n",
      "12\n",
      "13\n",
      "14\n"
     ]
    }
   ],
   "source": [
    "for (index,numara) in enumerate(list(range(5,15))):\n",
    "    print(numara)"
   ]
  },
  {
   "cell_type": "markdown",
   "id": "b06647a8",
   "metadata": {},
   "source": [
    "## random\n"
   ]
  },
  {
   "cell_type": "code",
   "execution_count": 13,
   "id": "934ce260",
   "metadata": {},
   "outputs": [],
   "source": [
    "from random import randint"
   ]
  },
  {
   "cell_type": "code",
   "execution_count": 14,
   "id": "7c7fce59",
   "metadata": {},
   "outputs": [
    {
     "data": {
      "text/plain": [
       "35"
      ]
     },
     "execution_count": 14,
     "metadata": {},
     "output_type": "execute_result"
    }
   ],
   "source": [
    "randint(0,100)"
   ]
  },
  {
   "cell_type": "code",
   "execution_count": 15,
   "id": "580f5205",
   "metadata": {},
   "outputs": [
    {
     "data": {
      "text/plain": [
       "96"
      ]
     },
     "execution_count": 15,
     "metadata": {},
     "output_type": "execute_result"
    }
   ],
   "source": [
    "randint(0,100)"
   ]
  },
  {
   "cell_type": "code",
   "execution_count": 16,
   "id": "216bd98c",
   "metadata": {},
   "outputs": [
    {
     "data": {
      "text/plain": [
       "43"
      ]
     },
     "execution_count": 16,
     "metadata": {},
     "output_type": "execute_result"
    }
   ],
   "source": [
    "randint(0,100)"
   ]
  },
  {
   "cell_type": "code",
   "execution_count": 17,
   "id": "8ead3b56",
   "metadata": {},
   "outputs": [],
   "source": [
    "yeniliste=list(range(0,10))"
   ]
  },
  {
   "cell_type": "code",
   "execution_count": 18,
   "id": "87a94a7a",
   "metadata": {},
   "outputs": [
    {
     "data": {
      "text/plain": [
       "[0, 1, 2, 3, 4, 5, 6, 7, 8, 9]"
      ]
     },
     "execution_count": 18,
     "metadata": {},
     "output_type": "execute_result"
    }
   ],
   "source": [
    "yeniliste"
   ]
  },
  {
   "cell_type": "code",
   "execution_count": 19,
   "id": "2645b8e8",
   "metadata": {},
   "outputs": [
    {
     "data": {
      "text/plain": [
       "4"
      ]
     },
     "execution_count": 19,
     "metadata": {},
     "output_type": "execute_result"
    }
   ],
   "source": [
    "yeniliste[4]"
   ]
  },
  {
   "cell_type": "code",
   "execution_count": 20,
   "id": "23523f09",
   "metadata": {},
   "outputs": [
    {
     "data": {
      "text/plain": [
       "7"
      ]
     },
     "execution_count": 20,
     "metadata": {},
     "output_type": "execute_result"
    }
   ],
   "source": [
    "yeniliste[randint(0,9)]"
   ]
  },
  {
   "cell_type": "code",
   "execution_count": 21,
   "id": "d321c22a",
   "metadata": {},
   "outputs": [],
   "source": [
    "from random import shuffle"
   ]
  },
  {
   "cell_type": "code",
   "execution_count": 22,
   "id": "cab4e582",
   "metadata": {},
   "outputs": [],
   "source": [
    "shuffle(yeniliste)"
   ]
  },
  {
   "cell_type": "code",
   "execution_count": 23,
   "id": "cb016f80",
   "metadata": {},
   "outputs": [
    {
     "data": {
      "text/plain": [
       "[6, 7, 5, 0, 2, 1, 9, 8, 4, 3]"
      ]
     },
     "execution_count": 23,
     "metadata": {},
     "output_type": "execute_result"
    }
   ],
   "source": [
    "yeniliste"
   ]
  },
  {
   "cell_type": "markdown",
   "id": "93105d54",
   "metadata": {},
   "source": [
    "## zip"
   ]
  },
  {
   "cell_type": "code",
   "execution_count": 26,
   "id": "9105ceb4",
   "metadata": {},
   "outputs": [],
   "source": [
    "yemeklistesi=[\"muz\",\"elma\",\"kayısı\"]\n",
    "kalorilistesi=[100,200,300]\n",
    "günlistesi=[\"pazartesi\",\"sali\",\"cuma\"]"
   ]
  },
  {
   "cell_type": "code",
   "execution_count": 30,
   "id": "1b68acaa",
   "metadata": {},
   "outputs": [],
   "source": [
    "ziplenmis=list(zip(yemeklistesi,kalorilistesi,günlistesi))"
   ]
  },
  {
   "cell_type": "code",
   "execution_count": 31,
   "id": "38cc6648",
   "metadata": {},
   "outputs": [
    {
     "name": "stdout",
     "output_type": "stream",
     "text": [
      "<class 'tuple'>\n",
      "<class 'tuple'>\n",
      "<class 'tuple'>\n"
     ]
    }
   ],
   "source": [
    "for mm in ziplenmis:\n",
    "    print(type(mm))"
   ]
  },
  {
   "cell_type": "code",
   "execution_count": 32,
   "id": "5b296028",
   "metadata": {},
   "outputs": [
    {
     "data": {
      "text/plain": [
       "[('muz', 100, 'pazartesi'), ('elma', 200, 'sali'), ('kayısı', 300, 'cuma')]"
      ]
     },
     "execution_count": 32,
     "metadata": {},
     "output_type": "execute_result"
    }
   ],
   "source": [
    "ziplenmis"
   ]
  },
  {
   "cell_type": "code",
   "execution_count": 33,
   "id": "2bcd3ddd",
   "metadata": {},
   "outputs": [],
   "source": [
    "##zip"
   ]
  },
  {
   "cell_type": "markdown",
   "id": "9f779ac4",
   "metadata": {},
   "source": [
    "## listeler ileri seviye"
   ]
  },
  {
   "cell_type": "code",
   "execution_count": 34,
   "id": "f392f4a6",
   "metadata": {},
   "outputs": [],
   "source": [
    "listeornegi=[]\n",
    "benimString=\"ayhan celik\"\n",
    "for harf in benimString:\n",
    "    listeornegi.append(harf)"
   ]
  },
  {
   "cell_type": "code",
   "execution_count": 36,
   "id": "9f022527",
   "metadata": {},
   "outputs": [],
   "source": [
    "yeniString=\"ayhan celik\""
   ]
  },
  {
   "cell_type": "code",
   "execution_count": 37,
   "id": "49ddb4fe",
   "metadata": {},
   "outputs": [],
   "source": [
    "yenilisteornegi=[eleman for eleman in yeniString]"
   ]
  },
  {
   "cell_type": "code",
   "execution_count": 38,
   "id": "03e1b1c7",
   "metadata": {},
   "outputs": [
    {
     "data": {
      "text/plain": [
       "['a', 'y', 'h', 'a', 'n', ' ', 'c', 'e', 'l', 'i', 'k']"
      ]
     },
     "execution_count": 38,
     "metadata": {},
     "output_type": "execute_result"
    }
   ],
   "source": [
    "yenilisteornegi"
   ]
  },
  {
   "cell_type": "code",
   "execution_count": 39,
   "id": "e1fc4bd1",
   "metadata": {},
   "outputs": [],
   "source": [
    "ikincilisteornegi=[numara**5 for numara in list(range(0,10))]"
   ]
  },
  {
   "cell_type": "code",
   "execution_count": 40,
   "id": "c0307be5",
   "metadata": {},
   "outputs": [
    {
     "data": {
      "text/plain": [
       "[0, 1, 32, 243, 1024, 3125, 7776, 16807, 32768, 59049]"
      ]
     },
     "execution_count": 40,
     "metadata": {},
     "output_type": "execute_result"
    }
   ],
   "source": [
    "ikincilisteornegi"
   ]
  },
  {
   "cell_type": "code",
   "execution_count": null,
   "id": "01a2c42e",
   "metadata": {},
   "outputs": [],
   "source": []
  }
 ],
 "metadata": {
  "kernelspec": {
   "display_name": "Python 3 (ipykernel)",
   "language": "python",
   "name": "python3"
  },
  "language_info": {
   "codemirror_mode": {
    "name": "ipython",
    "version": 3
   },
   "file_extension": ".py",
   "mimetype": "text/x-python",
   "name": "python",
   "nbconvert_exporter": "python",
   "pygments_lexer": "ipython3",
   "version": "3.11.4"
  }
 },
 "nbformat": 4,
 "nbformat_minor": 5
}
