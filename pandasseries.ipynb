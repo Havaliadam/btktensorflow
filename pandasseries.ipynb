{
 "cells": [
  {
   "cell_type": "code",
   "execution_count": 2,
   "id": "75d4c2f2",
   "metadata": {},
   "outputs": [],
   "source": [
    "import pandas as pd \n",
    "import numpy as np"
   ]
  },
  {
   "cell_type": "markdown",
   "id": "ea26c2e5",
   "metadata": {},
   "source": [
    "## series/seriler"
   ]
  },
  {
   "cell_type": "code",
   "execution_count": 3,
   "id": "73c59749",
   "metadata": {},
   "outputs": [],
   "source": [
    "benimsozluk={\"atıl\":50,\"zeynep\":40,\"mehmet\":30}"
   ]
  },
  {
   "cell_type": "code",
   "execution_count": 4,
   "id": "16a29777",
   "metadata": {},
   "outputs": [
    {
     "data": {
      "text/plain": [
       "atıl      50\n",
       "zeynep    40\n",
       "mehmet    30\n",
       "dtype: int64"
      ]
     },
     "execution_count": 4,
     "metadata": {},
     "output_type": "execute_result"
    }
   ],
   "source": [
    "pd.Series(benimsozluk)"
   ]
  },
  {
   "cell_type": "code",
   "execution_count": 5,
   "id": "113a9190",
   "metadata": {},
   "outputs": [
    {
     "data": {
      "text/plain": [
       "pandas.core.series.Series"
      ]
     },
     "execution_count": 5,
     "metadata": {},
     "output_type": "execute_result"
    }
   ],
   "source": [
    "type(pd.Series(benimsozluk))"
   ]
  },
  {
   "cell_type": "code",
   "execution_count": 6,
   "id": "5e8dfd12",
   "metadata": {},
   "outputs": [],
   "source": [
    "benimyas=[50,40,30]\n",
    "benimisimlerim=[\"atıl\",\"ayhan\",\"mehmet\"]"
   ]
  },
  {
   "cell_type": "code",
   "execution_count": 7,
   "id": "05c229a8",
   "metadata": {},
   "outputs": [
    {
     "data": {
      "text/plain": [
       "0    50\n",
       "1    40\n",
       "2    30\n",
       "dtype: int64"
      ]
     },
     "execution_count": 7,
     "metadata": {},
     "output_type": "execute_result"
    }
   ],
   "source": [
    "pd.Series(benimyas)"
   ]
  },
  {
   "cell_type": "code",
   "execution_count": 9,
   "id": "72812f4a",
   "metadata": {},
   "outputs": [
    {
     "data": {
      "text/plain": [
       "atıl      50\n",
       "ayhan     40\n",
       "mehmet    30\n",
       "dtype: int64"
      ]
     },
     "execution_count": 9,
     "metadata": {},
     "output_type": "execute_result"
    }
   ],
   "source": [
    "pd.Series(benimyas,benimisimlerim)"
   ]
  },
  {
   "cell_type": "code",
   "execution_count": 10,
   "id": "524431fa",
   "metadata": {},
   "outputs": [
    {
     "data": {
      "text/plain": [
       "atıl      50\n",
       "ayhan     40\n",
       "mehmet    30\n",
       "dtype: int64"
      ]
     },
     "execution_count": 10,
     "metadata": {},
     "output_type": "execute_result"
    }
   ],
   "source": [
    "pd.Series(data=benimyas,index=benimisimlerim)"
   ]
  },
  {
   "cell_type": "code",
   "execution_count": 11,
   "id": "e931e7a5",
   "metadata": {},
   "outputs": [],
   "source": [
    "numpydizi=np.array([50,40,30])"
   ]
  },
  {
   "cell_type": "code",
   "execution_count": 12,
   "id": "38e23681",
   "metadata": {},
   "outputs": [
    {
     "data": {
      "text/plain": [
       "array([50, 40, 30])"
      ]
     },
     "execution_count": 12,
     "metadata": {},
     "output_type": "execute_result"
    }
   ],
   "source": [
    "numpydizi"
   ]
  },
  {
   "cell_type": "code",
   "execution_count": 14,
   "id": "d8883924",
   "metadata": {},
   "outputs": [
    {
     "data": {
      "text/plain": [
       "0    50\n",
       "1    40\n",
       "2    30\n",
       "dtype: int32"
      ]
     },
     "execution_count": 14,
     "metadata": {},
     "output_type": "execute_result"
    }
   ],
   "source": [
    "pd.Series(numpydizi)"
   ]
  },
  {
   "cell_type": "code",
   "execution_count": 15,
   "id": "9d5421ed",
   "metadata": {},
   "outputs": [
    {
     "data": {
      "text/plain": [
       "atıl      50\n",
       "ayhan     40\n",
       "mehmet    30\n",
       "dtype: int32"
      ]
     },
     "execution_count": 15,
     "metadata": {},
     "output_type": "execute_result"
    }
   ],
   "source": [
    "pd.Series(numpydizi,benimisimlerim)"
   ]
  },
  {
   "cell_type": "code",
   "execution_count": 17,
   "id": "7e804169",
   "metadata": {},
   "outputs": [
    {
     "data": {
      "text/plain": [
       "1    ayhan\n",
       "2     arda\n",
       "3    osman\n",
       "dtype: object"
      ]
     },
     "execution_count": 17,
     "metadata": {},
     "output_type": "execute_result"
    }
   ],
   "source": [
    "pd.Series([\"ayhan\",\"arda\",\"osman\"],[1,2,3])"
   ]
  },
  {
   "cell_type": "code",
   "execution_count": 18,
   "id": "f246ba5b",
   "metadata": {},
   "outputs": [],
   "source": [
    "yarismasonucu=pd.Series([60,70,80],[\"ayhan\",\"demir\",\"hakan\"])"
   ]
  },
  {
   "cell_type": "code",
   "execution_count": 19,
   "id": "045e1feb",
   "metadata": {},
   "outputs": [
    {
     "data": {
      "text/plain": [
       "ayhan    60\n",
       "demir    70\n",
       "hakan    80\n",
       "dtype: int64"
      ]
     },
     "execution_count": 19,
     "metadata": {},
     "output_type": "execute_result"
    }
   ],
   "source": [
    "pd.Series(yarismasonucu)"
   ]
  },
  {
   "cell_type": "code",
   "execution_count": 20,
   "id": "aab3cf99",
   "metadata": {},
   "outputs": [],
   "source": [
    "yarismasonucu2=pd.Series([65,40,50],[\"ayhan\",\"demir\",\"hakan\"])"
   ]
  },
  {
   "cell_type": "code",
   "execution_count": 21,
   "id": "5f2d3967",
   "metadata": {},
   "outputs": [
    {
     "data": {
      "text/plain": [
       "ayhan    65\n",
       "demir    40\n",
       "hakan    50\n",
       "dtype: int64"
      ]
     },
     "execution_count": 21,
     "metadata": {},
     "output_type": "execute_result"
    }
   ],
   "source": [
    "yarismasonucu2"
   ]
  },
  {
   "cell_type": "code",
   "execution_count": 22,
   "id": "58bfcf11",
   "metadata": {},
   "outputs": [
    {
     "data": {
      "text/plain": [
       "65"
      ]
     },
     "execution_count": 22,
     "metadata": {},
     "output_type": "execute_result"
    }
   ],
   "source": [
    "yarismasonucu2[\"ayhan\"]"
   ]
  },
  {
   "cell_type": "code",
   "execution_count": 23,
   "id": "999bb940",
   "metadata": {},
   "outputs": [],
   "source": [
    "sonuc=yarismasonucu+yarismasonucu2"
   ]
  },
  {
   "cell_type": "code",
   "execution_count": 24,
   "id": "5119bb31",
   "metadata": {},
   "outputs": [
    {
     "data": {
      "text/plain": [
       "ayhan    125\n",
       "demir    110\n",
       "hakan    130\n",
       "dtype: int64"
      ]
     },
     "execution_count": 24,
     "metadata": {},
     "output_type": "execute_result"
    }
   ],
   "source": [
    "sonuc"
   ]
  },
  {
   "cell_type": "code",
   "execution_count": 28,
   "id": "84cc0fd2",
   "metadata": {},
   "outputs": [],
   "source": [
    "farkliSeries=pd.Series([20,30,40,50],[\"a\",\"b\",\"c\",\"d\"])"
   ]
  },
  {
   "cell_type": "code",
   "execution_count": 27,
   "id": "0fa95461",
   "metadata": {},
   "outputs": [],
   "source": [
    "farkliSeries2=pd.Series([10,5,3,1],[\"a\",\"c\",\"f\",\"g\"])"
   ]
  },
  {
   "cell_type": "code",
   "execution_count": 29,
   "id": "5500c02f",
   "metadata": {},
   "outputs": [
    {
     "data": {
      "text/plain": [
       "a    20\n",
       "b    30\n",
       "c    40\n",
       "d    50\n",
       "dtype: int64"
      ]
     },
     "execution_count": 29,
     "metadata": {},
     "output_type": "execute_result"
    }
   ],
   "source": [
    "farkliSeries"
   ]
  },
  {
   "cell_type": "code",
   "execution_count": 30,
   "id": "35069ebb",
   "metadata": {},
   "outputs": [
    {
     "data": {
      "text/plain": [
       "a    10\n",
       "c     5\n",
       "f     3\n",
       "g     1\n",
       "dtype: int64"
      ]
     },
     "execution_count": 30,
     "metadata": {},
     "output_type": "execute_result"
    }
   ],
   "source": [
    "farkliSeries2"
   ]
  },
  {
   "cell_type": "code",
   "execution_count": 31,
   "id": "502042da",
   "metadata": {},
   "outputs": [],
   "source": [
    "deger=farkliSeries+farkliSeries2"
   ]
  },
  {
   "cell_type": "code",
   "execution_count": 32,
   "id": "c35c6c5b",
   "metadata": {},
   "outputs": [
    {
     "data": {
      "text/plain": [
       "a    30.0\n",
       "b     NaN\n",
       "c    45.0\n",
       "d     NaN\n",
       "f     NaN\n",
       "g     NaN\n",
       "dtype: float64"
      ]
     },
     "execution_count": 32,
     "metadata": {},
     "output_type": "execute_result"
    }
   ],
   "source": [
    "deger"
   ]
  },
  {
   "cell_type": "code",
   "execution_count": null,
   "id": "422535ed",
   "metadata": {},
   "outputs": [],
   "source": []
  }
 ],
 "metadata": {
  "kernelspec": {
   "display_name": "Python 3 (ipykernel)",
   "language": "python",
   "name": "python3"
  },
  "language_info": {
   "codemirror_mode": {
    "name": "ipython",
    "version": 3
   },
   "file_extension": ".py",
   "mimetype": "text/x-python",
   "name": "python",
   "nbconvert_exporter": "python",
   "pygments_lexer": "ipython3",
   "version": "3.11.4"
  }
 },
 "nbformat": 4,
 "nbformat_minor": 5
}
