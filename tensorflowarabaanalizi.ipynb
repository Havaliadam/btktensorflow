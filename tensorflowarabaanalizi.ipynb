{
 "cells": [
  {
   "cell_type": "code",
   "execution_count": 1,
   "id": "299bd756",
   "metadata": {},
   "outputs": [],
   "source": [
    "import pandas as pd \n",
    "import numpy as np \n",
    "import matplotlib.pyplot as plt \n",
    "import seaborn as sbn"
   ]
  },
  {
   "cell_type": "code",
   "execution_count": 2,
   "id": "91d9d813",
   "metadata": {},
   "outputs": [],
   "source": [
    "dataFrame=pd.read_excel(\"merc.xlsx\")"
   ]
  },
  {
   "cell_type": "code",
   "execution_count": 3,
   "id": "2947cd80",
   "metadata": {},
   "outputs": [
    {
     "data": {
      "text/html": [
       "<div>\n",
       "<style scoped>\n",
       "    .dataframe tbody tr th:only-of-type {\n",
       "        vertical-align: middle;\n",
       "    }\n",
       "\n",
       "    .dataframe tbody tr th {\n",
       "        vertical-align: top;\n",
       "    }\n",
       "\n",
       "    .dataframe thead th {\n",
       "        text-align: right;\n",
       "    }\n",
       "</style>\n",
       "<table border=\"1\" class=\"dataframe\">\n",
       "  <thead>\n",
       "    <tr style=\"text-align: right;\">\n",
       "      <th></th>\n",
       "      <th>year</th>\n",
       "      <th>price</th>\n",
       "      <th>transmission</th>\n",
       "      <th>mileage</th>\n",
       "      <th>tax</th>\n",
       "      <th>mpg</th>\n",
       "      <th>engineSize</th>\n",
       "    </tr>\n",
       "  </thead>\n",
       "  <tbody>\n",
       "    <tr>\n",
       "      <th>0</th>\n",
       "      <td>2005</td>\n",
       "      <td>5200</td>\n",
       "      <td>Automatic</td>\n",
       "      <td>63000</td>\n",
       "      <td>325</td>\n",
       "      <td>32.1</td>\n",
       "      <td>1.8</td>\n",
       "    </tr>\n",
       "    <tr>\n",
       "      <th>1</th>\n",
       "      <td>2017</td>\n",
       "      <td>34948</td>\n",
       "      <td>Automatic</td>\n",
       "      <td>27000</td>\n",
       "      <td>20</td>\n",
       "      <td>61.4</td>\n",
       "      <td>2.1</td>\n",
       "    </tr>\n",
       "    <tr>\n",
       "      <th>2</th>\n",
       "      <td>2016</td>\n",
       "      <td>49948</td>\n",
       "      <td>Automatic</td>\n",
       "      <td>6200</td>\n",
       "      <td>555</td>\n",
       "      <td>28.0</td>\n",
       "      <td>5.5</td>\n",
       "    </tr>\n",
       "    <tr>\n",
       "      <th>3</th>\n",
       "      <td>2016</td>\n",
       "      <td>61948</td>\n",
       "      <td>Automatic</td>\n",
       "      <td>16000</td>\n",
       "      <td>325</td>\n",
       "      <td>30.4</td>\n",
       "      <td>4.0</td>\n",
       "    </tr>\n",
       "    <tr>\n",
       "      <th>4</th>\n",
       "      <td>2016</td>\n",
       "      <td>73948</td>\n",
       "      <td>Automatic</td>\n",
       "      <td>4000</td>\n",
       "      <td>325</td>\n",
       "      <td>30.1</td>\n",
       "      <td>4.0</td>\n",
       "    </tr>\n",
       "  </tbody>\n",
       "</table>\n",
       "</div>"
      ],
      "text/plain": [
       "   year  price transmission  mileage  tax   mpg  engineSize\n",
       "0  2005   5200    Automatic    63000  325  32.1         1.8\n",
       "1  2017  34948    Automatic    27000   20  61.4         2.1\n",
       "2  2016  49948    Automatic     6200  555  28.0         5.5\n",
       "3  2016  61948    Automatic    16000  325  30.4         4.0\n",
       "4  2016  73948    Automatic     4000  325  30.1         4.0"
      ]
     },
     "execution_count": 3,
     "metadata": {},
     "output_type": "execute_result"
    }
   ],
   "source": [
    "dataFrame.head()"
   ]
  },
  {
   "cell_type": "code",
   "execution_count": 4,
   "id": "c10122c6",
   "metadata": {},
   "outputs": [
    {
     "data": {
      "text/html": [
       "<div>\n",
       "<style scoped>\n",
       "    .dataframe tbody tr th:only-of-type {\n",
       "        vertical-align: middle;\n",
       "    }\n",
       "\n",
       "    .dataframe tbody tr th {\n",
       "        vertical-align: top;\n",
       "    }\n",
       "\n",
       "    .dataframe thead th {\n",
       "        text-align: right;\n",
       "    }\n",
       "</style>\n",
       "<table border=\"1\" class=\"dataframe\">\n",
       "  <thead>\n",
       "    <tr style=\"text-align: right;\">\n",
       "      <th></th>\n",
       "      <th>year</th>\n",
       "      <th>price</th>\n",
       "      <th>mileage</th>\n",
       "      <th>tax</th>\n",
       "      <th>mpg</th>\n",
       "      <th>engineSize</th>\n",
       "    </tr>\n",
       "  </thead>\n",
       "  <tbody>\n",
       "    <tr>\n",
       "      <th>count</th>\n",
       "      <td>13119.000000</td>\n",
       "      <td>13119.000000</td>\n",
       "      <td>13119.000000</td>\n",
       "      <td>13119.000000</td>\n",
       "      <td>13119.000000</td>\n",
       "      <td>13119.000000</td>\n",
       "    </tr>\n",
       "    <tr>\n",
       "      <th>mean</th>\n",
       "      <td>2017.296288</td>\n",
       "      <td>24698.596920</td>\n",
       "      <td>21949.559037</td>\n",
       "      <td>129.972178</td>\n",
       "      <td>55.155843</td>\n",
       "      <td>2.071530</td>\n",
       "    </tr>\n",
       "    <tr>\n",
       "      <th>std</th>\n",
       "      <td>2.224709</td>\n",
       "      <td>11842.675542</td>\n",
       "      <td>21176.512267</td>\n",
       "      <td>65.260286</td>\n",
       "      <td>15.220082</td>\n",
       "      <td>0.572426</td>\n",
       "    </tr>\n",
       "    <tr>\n",
       "      <th>min</th>\n",
       "      <td>1970.000000</td>\n",
       "      <td>650.000000</td>\n",
       "      <td>1.000000</td>\n",
       "      <td>0.000000</td>\n",
       "      <td>1.100000</td>\n",
       "      <td>0.000000</td>\n",
       "    </tr>\n",
       "    <tr>\n",
       "      <th>25%</th>\n",
       "      <td>2016.000000</td>\n",
       "      <td>17450.000000</td>\n",
       "      <td>6097.500000</td>\n",
       "      <td>125.000000</td>\n",
       "      <td>45.600000</td>\n",
       "      <td>1.800000</td>\n",
       "    </tr>\n",
       "    <tr>\n",
       "      <th>50%</th>\n",
       "      <td>2018.000000</td>\n",
       "      <td>22480.000000</td>\n",
       "      <td>15189.000000</td>\n",
       "      <td>145.000000</td>\n",
       "      <td>56.500000</td>\n",
       "      <td>2.000000</td>\n",
       "    </tr>\n",
       "    <tr>\n",
       "      <th>75%</th>\n",
       "      <td>2019.000000</td>\n",
       "      <td>28980.000000</td>\n",
       "      <td>31779.500000</td>\n",
       "      <td>145.000000</td>\n",
       "      <td>64.200000</td>\n",
       "      <td>2.100000</td>\n",
       "    </tr>\n",
       "    <tr>\n",
       "      <th>max</th>\n",
       "      <td>2020.000000</td>\n",
       "      <td>159999.000000</td>\n",
       "      <td>259000.000000</td>\n",
       "      <td>580.000000</td>\n",
       "      <td>217.300000</td>\n",
       "      <td>6.200000</td>\n",
       "    </tr>\n",
       "  </tbody>\n",
       "</table>\n",
       "</div>"
      ],
      "text/plain": [
       "               year          price        mileage           tax           mpg  \\\n",
       "count  13119.000000   13119.000000   13119.000000  13119.000000  13119.000000   \n",
       "mean    2017.296288   24698.596920   21949.559037    129.972178     55.155843   \n",
       "std        2.224709   11842.675542   21176.512267     65.260286     15.220082   \n",
       "min     1970.000000     650.000000       1.000000      0.000000      1.100000   \n",
       "25%     2016.000000   17450.000000    6097.500000    125.000000     45.600000   \n",
       "50%     2018.000000   22480.000000   15189.000000    145.000000     56.500000   \n",
       "75%     2019.000000   28980.000000   31779.500000    145.000000     64.200000   \n",
       "max     2020.000000  159999.000000  259000.000000    580.000000    217.300000   \n",
       "\n",
       "         engineSize  \n",
       "count  13119.000000  \n",
       "mean       2.071530  \n",
       "std        0.572426  \n",
       "min        0.000000  \n",
       "25%        1.800000  \n",
       "50%        2.000000  \n",
       "75%        2.100000  \n",
       "max        6.200000  "
      ]
     },
     "execution_count": 4,
     "metadata": {},
     "output_type": "execute_result"
    }
   ],
   "source": [
    "dataFrame.describe()"
   ]
  },
  {
   "cell_type": "code",
   "execution_count": 5,
   "id": "e49f314d",
   "metadata": {},
   "outputs": [
    {
     "data": {
      "text/html": [
       "<div>\n",
       "<style scoped>\n",
       "    .dataframe tbody tr th:only-of-type {\n",
       "        vertical-align: middle;\n",
       "    }\n",
       "\n",
       "    .dataframe tbody tr th {\n",
       "        vertical-align: top;\n",
       "    }\n",
       "\n",
       "    .dataframe thead th {\n",
       "        text-align: right;\n",
       "    }\n",
       "</style>\n",
       "<table border=\"1\" class=\"dataframe\">\n",
       "  <thead>\n",
       "    <tr style=\"text-align: right;\">\n",
       "      <th></th>\n",
       "      <th>year</th>\n",
       "      <th>price</th>\n",
       "      <th>transmission</th>\n",
       "      <th>mileage</th>\n",
       "      <th>tax</th>\n",
       "      <th>mpg</th>\n",
       "      <th>engineSize</th>\n",
       "    </tr>\n",
       "  </thead>\n",
       "  <tbody>\n",
       "    <tr>\n",
       "      <th>0</th>\n",
       "      <td>False</td>\n",
       "      <td>False</td>\n",
       "      <td>False</td>\n",
       "      <td>False</td>\n",
       "      <td>False</td>\n",
       "      <td>False</td>\n",
       "      <td>False</td>\n",
       "    </tr>\n",
       "    <tr>\n",
       "      <th>1</th>\n",
       "      <td>False</td>\n",
       "      <td>False</td>\n",
       "      <td>False</td>\n",
       "      <td>False</td>\n",
       "      <td>False</td>\n",
       "      <td>False</td>\n",
       "      <td>False</td>\n",
       "    </tr>\n",
       "    <tr>\n",
       "      <th>2</th>\n",
       "      <td>False</td>\n",
       "      <td>False</td>\n",
       "      <td>False</td>\n",
       "      <td>False</td>\n",
       "      <td>False</td>\n",
       "      <td>False</td>\n",
       "      <td>False</td>\n",
       "    </tr>\n",
       "    <tr>\n",
       "      <th>3</th>\n",
       "      <td>False</td>\n",
       "      <td>False</td>\n",
       "      <td>False</td>\n",
       "      <td>False</td>\n",
       "      <td>False</td>\n",
       "      <td>False</td>\n",
       "      <td>False</td>\n",
       "    </tr>\n",
       "    <tr>\n",
       "      <th>4</th>\n",
       "      <td>False</td>\n",
       "      <td>False</td>\n",
       "      <td>False</td>\n",
       "      <td>False</td>\n",
       "      <td>False</td>\n",
       "      <td>False</td>\n",
       "      <td>False</td>\n",
       "    </tr>\n",
       "    <tr>\n",
       "      <th>...</th>\n",
       "      <td>...</td>\n",
       "      <td>...</td>\n",
       "      <td>...</td>\n",
       "      <td>...</td>\n",
       "      <td>...</td>\n",
       "      <td>...</td>\n",
       "      <td>...</td>\n",
       "    </tr>\n",
       "    <tr>\n",
       "      <th>13114</th>\n",
       "      <td>False</td>\n",
       "      <td>False</td>\n",
       "      <td>False</td>\n",
       "      <td>False</td>\n",
       "      <td>False</td>\n",
       "      <td>False</td>\n",
       "      <td>False</td>\n",
       "    </tr>\n",
       "    <tr>\n",
       "      <th>13115</th>\n",
       "      <td>False</td>\n",
       "      <td>False</td>\n",
       "      <td>False</td>\n",
       "      <td>False</td>\n",
       "      <td>False</td>\n",
       "      <td>False</td>\n",
       "      <td>False</td>\n",
       "    </tr>\n",
       "    <tr>\n",
       "      <th>13116</th>\n",
       "      <td>False</td>\n",
       "      <td>False</td>\n",
       "      <td>False</td>\n",
       "      <td>False</td>\n",
       "      <td>False</td>\n",
       "      <td>False</td>\n",
       "      <td>False</td>\n",
       "    </tr>\n",
       "    <tr>\n",
       "      <th>13117</th>\n",
       "      <td>False</td>\n",
       "      <td>False</td>\n",
       "      <td>False</td>\n",
       "      <td>False</td>\n",
       "      <td>False</td>\n",
       "      <td>False</td>\n",
       "      <td>False</td>\n",
       "    </tr>\n",
       "    <tr>\n",
       "      <th>13118</th>\n",
       "      <td>False</td>\n",
       "      <td>False</td>\n",
       "      <td>False</td>\n",
       "      <td>False</td>\n",
       "      <td>False</td>\n",
       "      <td>False</td>\n",
       "      <td>False</td>\n",
       "    </tr>\n",
       "  </tbody>\n",
       "</table>\n",
       "<p>13119 rows × 7 columns</p>\n",
       "</div>"
      ],
      "text/plain": [
       "        year  price  transmission  mileage    tax    mpg  engineSize\n",
       "0      False  False         False    False  False  False       False\n",
       "1      False  False         False    False  False  False       False\n",
       "2      False  False         False    False  False  False       False\n",
       "3      False  False         False    False  False  False       False\n",
       "4      False  False         False    False  False  False       False\n",
       "...      ...    ...           ...      ...    ...    ...         ...\n",
       "13114  False  False         False    False  False  False       False\n",
       "13115  False  False         False    False  False  False       False\n",
       "13116  False  False         False    False  False  False       False\n",
       "13117  False  False         False    False  False  False       False\n",
       "13118  False  False         False    False  False  False       False\n",
       "\n",
       "[13119 rows x 7 columns]"
      ]
     },
     "execution_count": 5,
     "metadata": {},
     "output_type": "execute_result"
    }
   ],
   "source": [
    "dataFrame.isnull()"
   ]
  },
  {
   "cell_type": "code",
   "execution_count": 6,
   "id": "f45c2270",
   "metadata": {},
   "outputs": [
    {
     "data": {
      "text/plain": [
       "year            0\n",
       "price           0\n",
       "transmission    0\n",
       "mileage         0\n",
       "tax             0\n",
       "mpg             0\n",
       "engineSize      0\n",
       "dtype: int64"
      ]
     },
     "execution_count": 6,
     "metadata": {},
     "output_type": "execute_result"
    }
   ],
   "source": [
    "dataFrame.isnull().sum()"
   ]
  },
  {
   "cell_type": "code",
   "execution_count": 7,
   "id": "48c229a7",
   "metadata": {},
   "outputs": [
    {
     "data": {
      "text/plain": [
       "<Axes: xlabel='price', ylabel='Count'>"
      ]
     },
     "execution_count": 7,
     "metadata": {},
     "output_type": "execute_result"
    },
    {
     "data": {
      "image/png": "[encoded data removed]",
      "text/plain": [
       "<Figure size 700x500 with 1 Axes>"
      ]
     },
     "metadata": {},
     "output_type": "display_data"
    }
   ],
   "source": [
    "plt.figure(figsize=(7,5))\n",
    "sbn.histplot(dataFrame[\"price\"])"
   ]
  },
  {
   "cell_type": "code",
   "execution_count": 8,
   "id": "09a5b172",
   "metadata": {},
   "outputs": [
    {
     "data": {
      "text/plain": [
       "<Axes: xlabel='year', ylabel='Count'>"
      ]
     },
     "execution_count": 8,
     "metadata": {},
     "output_type": "execute_result"
    },
    {
     "data": {
      "image/png": "[encoded data removed]",
      "text/plain": [
       "<Figure size 640x480 with 1 Axes>"
      ]
     },
     "metadata": {},
     "output_type": "display_data"
    }
   ],
   "source": [
    "sbn.histplot(dataFrame[\"year\"])"
   ]
  },
  {
   "cell_type": "code",
   "execution_count": 9,
   "id": "ff573d49",
   "metadata": {},
   "outputs": [
    {
     "name": "stderr",
     "output_type": "stream",
     "text": [
      "C:\\Users\\Acer\\AppData\\Local\\Temp\\ipykernel_17804\\3497904997.py:1: FutureWarning: The default value of numeric_only in DataFrame.corr is deprecated. In a future version, it will default to False. Select only valid columns or specify the value of numeric_only to silence this warning.\n",
      "  dataFrame.corr()\n"
     ]
    },
    {
     "data": {
      "text/html": [
       "<div>\n",
       "<style scoped>\n",
       "    .dataframe tbody tr th:only-of-type {\n",
       "        vertical-align: middle;\n",
       "    }\n",
       "\n",
       "    .dataframe tbody tr th {\n",
       "        vertical-align: top;\n",
       "    }\n",
       "\n",
       "    .dataframe thead th {\n",
       "        text-align: right;\n",
       "    }\n",
       "</style>\n",
       "<table border=\"1\" class=\"dataframe\">\n",
       "  <thead>\n",
       "    <tr style=\"text-align: right;\">\n",
       "      <th></th>\n",
       "      <th>year</th>\n",
       "      <th>price</th>\n",
       "      <th>mileage</th>\n",
       "      <th>tax</th>\n",
       "      <th>mpg</th>\n",
       "      <th>engineSize</th>\n",
       "    </tr>\n",
       "  </thead>\n",
       "  <tbody>\n",
       "    <tr>\n",
       "      <th>year</th>\n",
       "      <td>1.000000</td>\n",
       "      <td>0.520712</td>\n",
       "      <td>-0.738027</td>\n",
       "      <td>0.012480</td>\n",
       "      <td>-0.094626</td>\n",
       "      <td>-0.142147</td>\n",
       "    </tr>\n",
       "    <tr>\n",
       "      <th>price</th>\n",
       "      <td>0.520712</td>\n",
       "      <td>1.000000</td>\n",
       "      <td>-0.537214</td>\n",
       "      <td>0.268717</td>\n",
       "      <td>-0.438445</td>\n",
       "      <td>0.516126</td>\n",
       "    </tr>\n",
       "    <tr>\n",
       "      <th>mileage</th>\n",
       "      <td>-0.738027</td>\n",
       "      <td>-0.537214</td>\n",
       "      <td>1.000000</td>\n",
       "      <td>-0.160223</td>\n",
       "      <td>0.202850</td>\n",
       "      <td>0.063652</td>\n",
       "    </tr>\n",
       "    <tr>\n",
       "      <th>tax</th>\n",
       "      <td>0.012480</td>\n",
       "      <td>0.268717</td>\n",
       "      <td>-0.160223</td>\n",
       "      <td>1.000000</td>\n",
       "      <td>-0.513742</td>\n",
       "      <td>0.338341</td>\n",
       "    </tr>\n",
       "    <tr>\n",
       "      <th>mpg</th>\n",
       "      <td>-0.094626</td>\n",
       "      <td>-0.438445</td>\n",
       "      <td>0.202850</td>\n",
       "      <td>-0.513742</td>\n",
       "      <td>1.000000</td>\n",
       "      <td>-0.339862</td>\n",
       "    </tr>\n",
       "    <tr>\n",
       "      <th>engineSize</th>\n",
       "      <td>-0.142147</td>\n",
       "      <td>0.516126</td>\n",
       "      <td>0.063652</td>\n",
       "      <td>0.338341</td>\n",
       "      <td>-0.339862</td>\n",
       "      <td>1.000000</td>\n",
       "    </tr>\n",
       "  </tbody>\n",
       "</table>\n",
       "</div>"
      ],
      "text/plain": [
       "                year     price   mileage       tax       mpg  engineSize\n",
       "year        1.000000  0.520712 -0.738027  0.012480 -0.094626   -0.142147\n",
       "price       0.520712  1.000000 -0.537214  0.268717 -0.438445    0.516126\n",
       "mileage    -0.738027 -0.537214  1.000000 -0.160223  0.202850    0.063652\n",
       "tax         0.012480  0.268717 -0.160223  1.000000 -0.513742    0.338341\n",
       "mpg        -0.094626 -0.438445  0.202850 -0.513742  1.000000   -0.339862\n",
       "engineSize -0.142147  0.516126  0.063652  0.338341 -0.339862    1.000000"
      ]
     },
     "execution_count": 9,
     "metadata": {},
     "output_type": "execute_result"
    }
   ],
   "source": [
    "dataFrame.corr()"
   ]
  },
  {
   "cell_type": "code",
   "execution_count": 10,
   "id": "7b1bc730",
   "metadata": {},
   "outputs": [
    {
     "name": "stderr",
     "output_type": "stream",
     "text": [
      "C:\\Users\\Acer\\AppData\\Local\\Temp\\ipykernel_17804\\625300545.py:1: FutureWarning: The default value of numeric_only in DataFrame.corr is deprecated. In a future version, it will default to False. Select only valid columns or specify the value of numeric_only to silence this warning.\n",
      "  dataFrame.corr()[\"price\"].sort_values()\n"
     ]
    },
    {
     "data": {
      "text/plain": [
       "mileage      -0.537214\n",
       "mpg          -0.438445\n",
       "tax           0.268717\n",
       "engineSize    0.516126\n",
       "year          0.520712\n",
       "price         1.000000\n",
       "Name: price, dtype: float64"
      ]
     },
     "execution_count": 10,
     "metadata": {},
     "output_type": "execute_result"
    }
   ],
   "source": [
    "dataFrame.corr()[\"price\"].sort_values()"
   ]
  },
  {
   "cell_type": "code",
   "execution_count": 11,
   "id": "b6d3b301",
   "metadata": {},
   "outputs": [
    {
     "data": {
      "text/plain": [
       "<Axes: xlabel='mileage', ylabel='price'>"
      ]
     },
     "execution_count": 11,
     "metadata": {},
     "output_type": "execute_result"
    },
    {
     "data": {
      "image/png": "[encoded data removed]",
      "text/plain": [
       "<Figure size 640x480 with 1 Axes>"
      ]
     },
     "metadata": {},
     "output_type": "display_data"
    }
   ],
   "source": [
    "sbn.scatterplot(x=\"mileage\",y=\"price\",data=dataFrame)"
   ]
  },
  {
   "cell_type": "code",
   "execution_count": 12,
   "id": "a31190f1",
   "metadata": {},
   "outputs": [
    {
     "data": {
      "text/html": [
       "<div>\n",
       "<style scoped>\n",
       "    .dataframe tbody tr th:only-of-type {\n",
       "        vertical-align: middle;\n",
       "    }\n",
       "\n",
       "    .dataframe tbody tr th {\n",
       "        vertical-align: top;\n",
       "    }\n",
       "\n",
       "    .dataframe thead th {\n",
       "        text-align: right;\n",
       "    }\n",
       "</style>\n",
       "<table border=\"1\" class=\"dataframe\">\n",
       "  <thead>\n",
       "    <tr style=\"text-align: right;\">\n",
       "      <th></th>\n",
       "      <th>year</th>\n",
       "      <th>price</th>\n",
       "      <th>transmission</th>\n",
       "      <th>mileage</th>\n",
       "      <th>tax</th>\n",
       "      <th>mpg</th>\n",
       "      <th>engineSize</th>\n",
       "    </tr>\n",
       "  </thead>\n",
       "  <tbody>\n",
       "    <tr>\n",
       "      <th>6199</th>\n",
       "      <td>2020</td>\n",
       "      <td>159999</td>\n",
       "      <td>Semi-Auto</td>\n",
       "      <td>1350</td>\n",
       "      <td>145</td>\n",
       "      <td>21.4</td>\n",
       "      <td>4.0</td>\n",
       "    </tr>\n",
       "    <tr>\n",
       "      <th>10044</th>\n",
       "      <td>2020</td>\n",
       "      <td>154998</td>\n",
       "      <td>Automatic</td>\n",
       "      <td>3000</td>\n",
       "      <td>150</td>\n",
       "      <td>21.4</td>\n",
       "      <td>4.0</td>\n",
       "    </tr>\n",
       "    <tr>\n",
       "      <th>5</th>\n",
       "      <td>2011</td>\n",
       "      <td>149948</td>\n",
       "      <td>Automatic</td>\n",
       "      <td>3000</td>\n",
       "      <td>570</td>\n",
       "      <td>21.4</td>\n",
       "      <td>6.2</td>\n",
       "    </tr>\n",
       "    <tr>\n",
       "      <th>8737</th>\n",
       "      <td>2019</td>\n",
       "      <td>140319</td>\n",
       "      <td>Semi-Auto</td>\n",
       "      <td>785</td>\n",
       "      <td>150</td>\n",
       "      <td>22.1</td>\n",
       "      <td>4.0</td>\n",
       "    </tr>\n",
       "    <tr>\n",
       "      <th>6386</th>\n",
       "      <td>2018</td>\n",
       "      <td>139995</td>\n",
       "      <td>Semi-Auto</td>\n",
       "      <td>13046</td>\n",
       "      <td>145</td>\n",
       "      <td>21.4</td>\n",
       "      <td>4.0</td>\n",
       "    </tr>\n",
       "    <tr>\n",
       "      <th>8</th>\n",
       "      <td>2019</td>\n",
       "      <td>139948</td>\n",
       "      <td>Automatic</td>\n",
       "      <td>12000</td>\n",
       "      <td>145</td>\n",
       "      <td>21.4</td>\n",
       "      <td>4.0</td>\n",
       "    </tr>\n",
       "    <tr>\n",
       "      <th>9133</th>\n",
       "      <td>2019</td>\n",
       "      <td>139559</td>\n",
       "      <td>Semi-Auto</td>\n",
       "      <td>1000</td>\n",
       "      <td>145</td>\n",
       "      <td>22.1</td>\n",
       "      <td>4.0</td>\n",
       "    </tr>\n",
       "    <tr>\n",
       "      <th>8821</th>\n",
       "      <td>2020</td>\n",
       "      <td>138439</td>\n",
       "      <td>Semi-Auto</td>\n",
       "      <td>1000</td>\n",
       "      <td>145</td>\n",
       "      <td>22.1</td>\n",
       "      <td>4.0</td>\n",
       "    </tr>\n",
       "    <tr>\n",
       "      <th>5902</th>\n",
       "      <td>2018</td>\n",
       "      <td>135771</td>\n",
       "      <td>Semi-Auto</td>\n",
       "      <td>19000</td>\n",
       "      <td>145</td>\n",
       "      <td>21.4</td>\n",
       "      <td>4.0</td>\n",
       "    </tr>\n",
       "    <tr>\n",
       "      <th>7864</th>\n",
       "      <td>2018</td>\n",
       "      <td>135124</td>\n",
       "      <td>Semi-Auto</td>\n",
       "      <td>18234</td>\n",
       "      <td>150</td>\n",
       "      <td>21.4</td>\n",
       "      <td>4.0</td>\n",
       "    </tr>\n",
       "    <tr>\n",
       "      <th>8673</th>\n",
       "      <td>2019</td>\n",
       "      <td>134219</td>\n",
       "      <td>Semi-Auto</td>\n",
       "      <td>1000</td>\n",
       "      <td>145</td>\n",
       "      <td>24.8</td>\n",
       "      <td>4.0</td>\n",
       "    </tr>\n",
       "    <tr>\n",
       "      <th>6210</th>\n",
       "      <td>2019</td>\n",
       "      <td>129990</td>\n",
       "      <td>Automatic</td>\n",
       "      <td>1000</td>\n",
       "      <td>145</td>\n",
       "      <td>24.8</td>\n",
       "      <td>4.0</td>\n",
       "    </tr>\n",
       "    <tr>\n",
       "      <th>4759</th>\n",
       "      <td>2019</td>\n",
       "      <td>126000</td>\n",
       "      <td>Automatic</td>\n",
       "      <td>250</td>\n",
       "      <td>145</td>\n",
       "      <td>24.6</td>\n",
       "      <td>4.0</td>\n",
       "    </tr>\n",
       "    <tr>\n",
       "      <th>2647</th>\n",
       "      <td>2019</td>\n",
       "      <td>125796</td>\n",
       "      <td>Automatic</td>\n",
       "      <td>637</td>\n",
       "      <td>145</td>\n",
       "      <td>24.8</td>\n",
       "      <td>4.0</td>\n",
       "    </tr>\n",
       "    <tr>\n",
       "      <th>6223</th>\n",
       "      <td>2019</td>\n",
       "      <td>124999</td>\n",
       "      <td>Automatic</td>\n",
       "      <td>1500</td>\n",
       "      <td>145</td>\n",
       "      <td>31.7</td>\n",
       "      <td>4.0</td>\n",
       "    </tr>\n",
       "    <tr>\n",
       "      <th>4094</th>\n",
       "      <td>2019</td>\n",
       "      <td>124366</td>\n",
       "      <td>Semi-Auto</td>\n",
       "      <td>880</td>\n",
       "      <td>145</td>\n",
       "      <td>24.8</td>\n",
       "      <td>4.0</td>\n",
       "    </tr>\n",
       "    <tr>\n",
       "      <th>2629</th>\n",
       "      <td>2019</td>\n",
       "      <td>123846</td>\n",
       "      <td>Semi-Auto</td>\n",
       "      <td>2951</td>\n",
       "      <td>145</td>\n",
       "      <td>22.1</td>\n",
       "      <td>4.0</td>\n",
       "    </tr>\n",
       "    <tr>\n",
       "      <th>7134</th>\n",
       "      <td>2019</td>\n",
       "      <td>115359</td>\n",
       "      <td>Semi-Auto</td>\n",
       "      <td>1000</td>\n",
       "      <td>145</td>\n",
       "      <td>30.1</td>\n",
       "      <td>4.0</td>\n",
       "    </tr>\n",
       "    <tr>\n",
       "      <th>9159</th>\n",
       "      <td>2019</td>\n",
       "      <td>114199</td>\n",
       "      <td>Semi-Auto</td>\n",
       "      <td>891</td>\n",
       "      <td>145</td>\n",
       "      <td>22.6</td>\n",
       "      <td>4.0</td>\n",
       "    </tr>\n",
       "    <tr>\n",
       "      <th>1980</th>\n",
       "      <td>2019</td>\n",
       "      <td>109995</td>\n",
       "      <td>Semi-Auto</td>\n",
       "      <td>4688</td>\n",
       "      <td>150</td>\n",
       "      <td>31.7</td>\n",
       "      <td>4.0</td>\n",
       "    </tr>\n",
       "  </tbody>\n",
       "</table>\n",
       "</div>"
      ],
      "text/plain": [
       "       year   price transmission  mileage  tax   mpg  engineSize\n",
       "6199   2020  159999    Semi-Auto     1350  145  21.4         4.0\n",
       "10044  2020  154998    Automatic     3000  150  21.4         4.0\n",
       "5      2011  149948    Automatic     3000  570  21.4         6.2\n",
       "8737   2019  140319    Semi-Auto      785  150  22.1         4.0\n",
       "6386   2018  139995    Semi-Auto    13046  145  21.4         4.0\n",
       "8      2019  139948    Automatic    12000  145  21.4         4.0\n",
       "9133   2019  139559    Semi-Auto     1000  145  22.1         4.0\n",
       "8821   2020  138439    Semi-Auto     1000  145  22.1         4.0\n",
       "5902   2018  135771    Semi-Auto    19000  145  21.4         4.0\n",
       "7864   2018  135124    Semi-Auto    18234  150  21.4         4.0\n",
       "8673   2019  134219    Semi-Auto     1000  145  24.8         4.0\n",
       "6210   2019  129990    Automatic     1000  145  24.8         4.0\n",
       "4759   2019  126000    Automatic      250  145  24.6         4.0\n",
       "2647   2019  125796    Automatic      637  145  24.8         4.0\n",
       "6223   2019  124999    Automatic     1500  145  31.7         4.0\n",
       "4094   2019  124366    Semi-Auto      880  145  24.8         4.0\n",
       "2629   2019  123846    Semi-Auto     2951  145  22.1         4.0\n",
       "7134   2019  115359    Semi-Auto     1000  145  30.1         4.0\n",
       "9159   2019  114199    Semi-Auto      891  145  22.6         4.0\n",
       "1980   2019  109995    Semi-Auto     4688  150  31.7         4.0"
      ]
     },
     "execution_count": 12,
     "metadata": {},
     "output_type": "execute_result"
    }
   ],
   "source": [
    "dataFrame.sort_values(\"price\",ascending=False).head(20)"
   ]
  },
  {
   "cell_type": "code",
   "execution_count": 13,
   "id": "f7f2f6a8",
   "metadata": {},
   "outputs": [
    {
     "data": {
      "text/plain": [
       "13119"
      ]
     },
     "execution_count": 13,
     "metadata": {},
     "output_type": "execute_result"
    }
   ],
   "source": [
    "len(dataFrame)"
   ]
  },
  {
   "cell_type": "code",
   "execution_count": 14,
   "id": "69667c33",
   "metadata": {},
   "outputs": [
    {
     "data": {
      "text/plain": [
       "131.19"
      ]
     },
     "execution_count": 14,
     "metadata": {},
     "output_type": "execute_result"
    }
   ],
   "source": [
    "len(dataFrame)*0.01"
   ]
  },
  {
   "cell_type": "code",
   "execution_count": 17,
   "id": "8bbcc858",
   "metadata": {},
   "outputs": [],
   "source": [
    "yuzdeDoksanDokuzDf=dataFrame.sort_values(\"price\",ascending=False).iloc[131:]"
   ]
  },
  {
   "cell_type": "code",
   "execution_count": 18,
   "id": "0be3fd24",
   "metadata": {},
   "outputs": [
    {
     "data": {
      "text/html": [
       "<div>\n",
       "<style scoped>\n",
       "    .dataframe tbody tr th:only-of-type {\n",
       "        vertical-align: middle;\n",
       "    }\n",
       "\n",
       "    .dataframe tbody tr th {\n",
       "        vertical-align: top;\n",
       "    }\n",
       "\n",
       "    .dataframe thead th {\n",
       "        text-align: right;\n",
       "    }\n",
       "</style>\n",
       "<table border=\"1\" class=\"dataframe\">\n",
       "  <thead>\n",
       "    <tr style=\"text-align: right;\">\n",
       "      <th></th>\n",
       "      <th>year</th>\n",
       "      <th>price</th>\n",
       "      <th>mileage</th>\n",
       "      <th>tax</th>\n",
       "      <th>mpg</th>\n",
       "      <th>engineSize</th>\n",
       "    </tr>\n",
       "  </thead>\n",
       "  <tbody>\n",
       "    <tr>\n",
       "      <th>count</th>\n",
       "      <td>12988.000000</td>\n",
       "      <td>12988.000000</td>\n",
       "      <td>12988.000000</td>\n",
       "      <td>12988.000000</td>\n",
       "      <td>12988.000000</td>\n",
       "      <td>12988.000000</td>\n",
       "    </tr>\n",
       "    <tr>\n",
       "      <th>mean</th>\n",
       "      <td>2017.281876</td>\n",
       "      <td>24074.926933</td>\n",
       "      <td>22132.741146</td>\n",
       "      <td>129.689714</td>\n",
       "      <td>55.437142</td>\n",
       "      <td>2.050901</td>\n",
       "    </tr>\n",
       "    <tr>\n",
       "      <th>std</th>\n",
       "      <td>2.228515</td>\n",
       "      <td>9866.224575</td>\n",
       "      <td>21196.776401</td>\n",
       "      <td>65.183076</td>\n",
       "      <td>15.025999</td>\n",
       "      <td>0.532596</td>\n",
       "    </tr>\n",
       "    <tr>\n",
       "      <th>min</th>\n",
       "      <td>1970.000000</td>\n",
       "      <td>650.000000</td>\n",
       "      <td>1.000000</td>\n",
       "      <td>0.000000</td>\n",
       "      <td>1.100000</td>\n",
       "      <td>0.000000</td>\n",
       "    </tr>\n",
       "    <tr>\n",
       "      <th>25%</th>\n",
       "      <td>2016.000000</td>\n",
       "      <td>17357.500000</td>\n",
       "      <td>6322.000000</td>\n",
       "      <td>125.000000</td>\n",
       "      <td>45.600000</td>\n",
       "      <td>1.675000</td>\n",
       "    </tr>\n",
       "    <tr>\n",
       "      <th>50%</th>\n",
       "      <td>2018.000000</td>\n",
       "      <td>22299.000000</td>\n",
       "      <td>15369.500000</td>\n",
       "      <td>145.000000</td>\n",
       "      <td>56.500000</td>\n",
       "      <td>2.000000</td>\n",
       "    </tr>\n",
       "    <tr>\n",
       "      <th>75%</th>\n",
       "      <td>2019.000000</td>\n",
       "      <td>28706.000000</td>\n",
       "      <td>31982.250000</td>\n",
       "      <td>145.000000</td>\n",
       "      <td>64.200000</td>\n",
       "      <td>2.100000</td>\n",
       "    </tr>\n",
       "    <tr>\n",
       "      <th>max</th>\n",
       "      <td>2020.000000</td>\n",
       "      <td>65990.000000</td>\n",
       "      <td>259000.000000</td>\n",
       "      <td>580.000000</td>\n",
       "      <td>217.300000</td>\n",
       "      <td>6.200000</td>\n",
       "    </tr>\n",
       "  </tbody>\n",
       "</table>\n",
       "</div>"
      ],
      "text/plain": [
       "               year         price        mileage           tax           mpg  \\\n",
       "count  12988.000000  12988.000000   12988.000000  12988.000000  12988.000000   \n",
       "mean    2017.281876  24074.926933   22132.741146    129.689714     55.437142   \n",
       "std        2.228515   9866.224575   21196.776401     65.183076     15.025999   \n",
       "min     1970.000000    650.000000       1.000000      0.000000      1.100000   \n",
       "25%     2016.000000  17357.500000    6322.000000    125.000000     45.600000   \n",
       "50%     2018.000000  22299.000000   15369.500000    145.000000     56.500000   \n",
       "75%     2019.000000  28706.000000   31982.250000    145.000000     64.200000   \n",
       "max     2020.000000  65990.000000  259000.000000    580.000000    217.300000   \n",
       "\n",
       "         engineSize  \n",
       "count  12988.000000  \n",
       "mean       2.050901  \n",
       "std        0.532596  \n",
       "min        0.000000  \n",
       "25%        1.675000  \n",
       "50%        2.000000  \n",
       "75%        2.100000  \n",
       "max        6.200000  "
      ]
     },
     "execution_count": 18,
     "metadata": {},
     "output_type": "execute_result"
    }
   ],
   "source": [
    "yuzdeDoksanDokuzDf.describe()"
   ]
  },
  {
   "cell_type": "code",
   "execution_count": 19,
   "id": "815d3a08",
   "metadata": {},
   "outputs": [
    {
     "data": {
      "text/plain": [
       "<Axes: xlabel='price', ylabel='Count'>"
      ]
     },
     "execution_count": 19,
     "metadata": {},
     "output_type": "execute_result"
    },
    {
     "data": {
      "image/png": "[encoded data removed]",
      "text/plain": [
       "<Figure size 700x500 with 1 Axes>"
      ]
     },
     "metadata": {},
     "output_type": "display_data"
    }
   ],
   "source": [
    "plt.figure(figsize=(7,5))\n",
    "sbn.histplot(yuzdeDoksanDokuzDf[\"price\"])"
   ]
  },
  {
   "cell_type": "code",
   "execution_count": 21,
   "id": "8b15c184",
   "metadata": {},
   "outputs": [
    {
     "name": "stderr",
     "output_type": "stream",
     "text": [
      "C:\\Users\\Acer\\AppData\\Local\\Temp\\ipykernel_17804\\1442147304.py:2: UserWarning: \n",
      "\n",
      "`distplot` is a deprecated function and will be removed in seaborn v0.14.0.\n",
      "\n",
      "Please adapt your code to use either `displot` (a figure-level function with\n",
      "similar flexibility) or `histplot` (an axes-level function for histograms).\n",
      "\n",
      "For a guide to updating your code to use the new functions, please see\n",
      "https://gist.github.com/mwaskom/de44147ed2974457ad6372750bbe5751\n",
      "\n",
      "  sbn.distplot(yuzdeDoksanDokuzDf[\"price\"])\n"
     ]
    },
    {
     "data": {
      "text/plain": [
       "<Axes: xlabel='price', ylabel='Density'>"
      ]
     },
     "execution_count": 21,
     "metadata": {},
     "output_type": "execute_result"
    },
    {
     "data": {
      "image/png": "[encoded data removed]",
      "text/plain": [
       "<Figure size 700x500 with 1 Axes>"
      ]
     },
     "metadata": {},
     "output_type": "display_data"
    }
   ],
   "source": [
    "plt.figure(figsize=(7,5))\n",
    "sbn.distplot(yuzdeDoksanDokuzDf[\"price\"])"
   ]
  },
  {
   "cell_type": "code",
   "execution_count": 22,
   "id": "8ecd2b2e",
   "metadata": {},
   "outputs": [
    {
     "data": {
      "text/html": [
       "<div>\n",
       "<style scoped>\n",
       "    .dataframe tbody tr th:only-of-type {\n",
       "        vertical-align: middle;\n",
       "    }\n",
       "\n",
       "    .dataframe tbody tr th {\n",
       "        vertical-align: top;\n",
       "    }\n",
       "\n",
       "    .dataframe thead th {\n",
       "        text-align: right;\n",
       "    }\n",
       "</style>\n",
       "<table border=\"1\" class=\"dataframe\">\n",
       "  <thead>\n",
       "    <tr style=\"text-align: right;\">\n",
       "      <th></th>\n",
       "      <th>year</th>\n",
       "      <th>price</th>\n",
       "      <th>mileage</th>\n",
       "      <th>tax</th>\n",
       "      <th>mpg</th>\n",
       "      <th>engineSize</th>\n",
       "    </tr>\n",
       "  </thead>\n",
       "  <tbody>\n",
       "    <tr>\n",
       "      <th>count</th>\n",
       "      <td>13119.000000</td>\n",
       "      <td>13119.000000</td>\n",
       "      <td>13119.000000</td>\n",
       "      <td>13119.000000</td>\n",
       "      <td>13119.000000</td>\n",
       "      <td>13119.000000</td>\n",
       "    </tr>\n",
       "    <tr>\n",
       "      <th>mean</th>\n",
       "      <td>2017.296288</td>\n",
       "      <td>24698.596920</td>\n",
       "      <td>21949.559037</td>\n",
       "      <td>129.972178</td>\n",
       "      <td>55.155843</td>\n",
       "      <td>2.071530</td>\n",
       "    </tr>\n",
       "    <tr>\n",
       "      <th>std</th>\n",
       "      <td>2.224709</td>\n",
       "      <td>11842.675542</td>\n",
       "      <td>21176.512267</td>\n",
       "      <td>65.260286</td>\n",
       "      <td>15.220082</td>\n",
       "      <td>0.572426</td>\n",
       "    </tr>\n",
       "    <tr>\n",
       "      <th>min</th>\n",
       "      <td>1970.000000</td>\n",
       "      <td>650.000000</td>\n",
       "      <td>1.000000</td>\n",
       "      <td>0.000000</td>\n",
       "      <td>1.100000</td>\n",
       "      <td>0.000000</td>\n",
       "    </tr>\n",
       "    <tr>\n",
       "      <th>25%</th>\n",
       "      <td>2016.000000</td>\n",
       "      <td>17450.000000</td>\n",
       "      <td>6097.500000</td>\n",
       "      <td>125.000000</td>\n",
       "      <td>45.600000</td>\n",
       "      <td>1.800000</td>\n",
       "    </tr>\n",
       "    <tr>\n",
       "      <th>50%</th>\n",
       "      <td>2018.000000</td>\n",
       "      <td>22480.000000</td>\n",
       "      <td>15189.000000</td>\n",
       "      <td>145.000000</td>\n",
       "      <td>56.500000</td>\n",
       "      <td>2.000000</td>\n",
       "    </tr>\n",
       "    <tr>\n",
       "      <th>75%</th>\n",
       "      <td>2019.000000</td>\n",
       "      <td>28980.000000</td>\n",
       "      <td>31779.500000</td>\n",
       "      <td>145.000000</td>\n",
       "      <td>64.200000</td>\n",
       "      <td>2.100000</td>\n",
       "    </tr>\n",
       "    <tr>\n",
       "      <th>max</th>\n",
       "      <td>2020.000000</td>\n",
       "      <td>159999.000000</td>\n",
       "      <td>259000.000000</td>\n",
       "      <td>580.000000</td>\n",
       "      <td>217.300000</td>\n",
       "      <td>6.200000</td>\n",
       "    </tr>\n",
       "  </tbody>\n",
       "</table>\n",
       "</div>"
      ],
      "text/plain": [
       "               year          price        mileage           tax           mpg  \\\n",
       "count  13119.000000   13119.000000   13119.000000  13119.000000  13119.000000   \n",
       "mean    2017.296288   24698.596920   21949.559037    129.972178     55.155843   \n",
       "std        2.224709   11842.675542   21176.512267     65.260286     15.220082   \n",
       "min     1970.000000     650.000000       1.000000      0.000000      1.100000   \n",
       "25%     2016.000000   17450.000000    6097.500000    125.000000     45.600000   \n",
       "50%     2018.000000   22480.000000   15189.000000    145.000000     56.500000   \n",
       "75%     2019.000000   28980.000000   31779.500000    145.000000     64.200000   \n",
       "max     2020.000000  159999.000000  259000.000000    580.000000    217.300000   \n",
       "\n",
       "         engineSize  \n",
       "count  13119.000000  \n",
       "mean       2.071530  \n",
       "std        0.572426  \n",
       "min        0.000000  \n",
       "25%        1.800000  \n",
       "50%        2.000000  \n",
       "75%        2.100000  \n",
       "max        6.200000  "
      ]
     },
     "execution_count": 22,
     "metadata": {},
     "output_type": "execute_result"
    }
   ],
   "source": [
    "dataFrame.describe()"
   ]
  },
  {
   "cell_type": "code",
   "execution_count": 23,
   "id": "ea3f2cc6",
   "metadata": {},
   "outputs": [
    {
     "name": "stderr",
     "output_type": "stream",
     "text": [
      "C:\\Users\\Acer\\AppData\\Local\\Temp\\ipykernel_17804\\2092793654.py:1: FutureWarning: The default value of numeric_only in DataFrameGroupBy.mean is deprecated. In a future version, numeric_only will default to False. Either specify numeric_only or select only columns which should be valid for the function.\n",
      "  dataFrame.groupby(\"year\").mean()[\"price\"]\n"
     ]
    },
    {
     "data": {
      "text/plain": [
       "year\n",
       "1970    24999.000000\n",
       "1997     9995.000000\n",
       "1998     8605.000000\n",
       "1999     5995.000000\n",
       "2000     5743.333333\n",
       "2001     4957.900000\n",
       "2002     5820.444444\n",
       "2003     4878.000000\n",
       "2004     4727.615385\n",
       "2005     4426.111111\n",
       "2006     4036.875000\n",
       "2007     5136.045455\n",
       "2008     6967.437500\n",
       "2009     6166.764706\n",
       "2010     8308.473684\n",
       "2011    12624.894737\n",
       "2012    10845.140351\n",
       "2013    11939.842466\n",
       "2014    14042.936864\n",
       "2015    16731.780020\n",
       "2016    19307.892948\n",
       "2017    21514.307854\n",
       "2018    25720.162918\n",
       "2019    31290.020865\n",
       "2020    35433.282337\n",
       "Name: price, dtype: float64"
      ]
     },
     "execution_count": 23,
     "metadata": {},
     "output_type": "execute_result"
    }
   ],
   "source": [
    "dataFrame.groupby(\"year\").mean()[\"price\"]"
   ]
  },
  {
   "cell_type": "code",
   "execution_count": 24,
   "id": "4b221e07",
   "metadata": {},
   "outputs": [
    {
     "name": "stderr",
     "output_type": "stream",
     "text": [
      "C:\\Users\\Acer\\AppData\\Local\\Temp\\ipykernel_17804\\3963167876.py:1: FutureWarning: The default value of numeric_only in DataFrameGroupBy.mean is deprecated. In a future version, numeric_only will default to False. Either specify numeric_only or select only columns which should be valid for the function.\n",
      "  yuzdeDoksanDokuzDf.groupby(\"year\").mean()[\"price\"]\n"
     ]
    },
    {
     "data": {
      "text/plain": [
       "year\n",
       "1970    24999.000000\n",
       "1997     9995.000000\n",
       "1998     8605.000000\n",
       "1999     5995.000000\n",
       "2000     5743.333333\n",
       "2001     4957.900000\n",
       "2002     5820.444444\n",
       "2003     4878.000000\n",
       "2004     4727.615385\n",
       "2005     4426.111111\n",
       "2006     4036.875000\n",
       "2007     5136.045455\n",
       "2008     6967.437500\n",
       "2009     6166.764706\n",
       "2010     8308.473684\n",
       "2011     8913.459459\n",
       "2012    10845.140351\n",
       "2013    11939.842466\n",
       "2014    14042.936864\n",
       "2015    16647.822222\n",
       "2016    19223.558943\n",
       "2017    21356.280421\n",
       "2018    24800.844506\n",
       "2019    30289.524832\n",
       "2020    34234.794872\n",
       "Name: price, dtype: float64"
      ]
     },
     "execution_count": 24,
     "metadata": {},
     "output_type": "execute_result"
    }
   ],
   "source": [
    "yuzdeDoksanDokuzDf.groupby(\"year\").mean()[\"price\"]"
   ]
  },
  {
   "cell_type": "code",
   "execution_count": 25,
   "id": "372008c9",
   "metadata": {},
   "outputs": [
    {
     "name": "stderr",
     "output_type": "stream",
     "text": [
      "C:\\Users\\Acer\\AppData\\Local\\Temp\\ipykernel_17804\\302033975.py:1: FutureWarning: The default value of numeric_only in DataFrameGroupBy.mean is deprecated. In a future version, numeric_only will default to False. Either specify numeric_only or select only columns which should be valid for the function.\n",
      "  dataFrame[dataFrame.year !=1970].groupby(\"year\").mean()[\"price\"]\n"
     ]
    },
    {
     "data": {
      "text/plain": [
       "year\n",
       "1997     9995.000000\n",
       "1998     8605.000000\n",
       "1999     5995.000000\n",
       "2000     5743.333333\n",
       "2001     4957.900000\n",
       "2002     5820.444444\n",
       "2003     4878.000000\n",
       "2004     4727.615385\n",
       "2005     4426.111111\n",
       "2006     4036.875000\n",
       "2007     5136.045455\n",
       "2008     6967.437500\n",
       "2009     6166.764706\n",
       "2010     8308.473684\n",
       "2011    12624.894737\n",
       "2012    10845.140351\n",
       "2013    11939.842466\n",
       "2014    14042.936864\n",
       "2015    16731.780020\n",
       "2016    19307.892948\n",
       "2017    21514.307854\n",
       "2018    25720.162918\n",
       "2019    31290.020865\n",
       "2020    35433.282337\n",
       "Name: price, dtype: float64"
      ]
     },
     "execution_count": 25,
     "metadata": {},
     "output_type": "execute_result"
    }
   ],
   "source": [
    "dataFrame[dataFrame.year !=1970].groupby(\"year\").mean()[\"price\"]"
   ]
  },
  {
   "cell_type": "code",
   "execution_count": 26,
   "id": "2fd8b5ba",
   "metadata": {},
   "outputs": [],
   "source": [
    "dataFrame=yuzdeDoksanDokuzDf"
   ]
  },
  {
   "cell_type": "code",
   "execution_count": 27,
   "id": "d76c89d8",
   "metadata": {},
   "outputs": [
    {
     "data": {
      "text/html": [
       "<div>\n",
       "<style scoped>\n",
       "    .dataframe tbody tr th:only-of-type {\n",
       "        vertical-align: middle;\n",
       "    }\n",
       "\n",
       "    .dataframe tbody tr th {\n",
       "        vertical-align: top;\n",
       "    }\n",
       "\n",
       "    .dataframe thead th {\n",
       "        text-align: right;\n",
       "    }\n",
       "</style>\n",
       "<table border=\"1\" class=\"dataframe\">\n",
       "  <thead>\n",
       "    <tr style=\"text-align: right;\">\n",
       "      <th></th>\n",
       "      <th>year</th>\n",
       "      <th>price</th>\n",
       "      <th>mileage</th>\n",
       "      <th>tax</th>\n",
       "      <th>mpg</th>\n",
       "      <th>engineSize</th>\n",
       "    </tr>\n",
       "  </thead>\n",
       "  <tbody>\n",
       "    <tr>\n",
       "      <th>count</th>\n",
       "      <td>12988.000000</td>\n",
       "      <td>12988.000000</td>\n",
       "      <td>12988.000000</td>\n",
       "      <td>12988.000000</td>\n",
       "      <td>12988.000000</td>\n",
       "      <td>12988.000000</td>\n",
       "    </tr>\n",
       "    <tr>\n",
       "      <th>mean</th>\n",
       "      <td>2017.281876</td>\n",
       "      <td>24074.926933</td>\n",
       "      <td>22132.741146</td>\n",
       "      <td>129.689714</td>\n",
       "      <td>55.437142</td>\n",
       "      <td>2.050901</td>\n",
       "    </tr>\n",
       "    <tr>\n",
       "      <th>std</th>\n",
       "      <td>2.228515</td>\n",
       "      <td>9866.224575</td>\n",
       "      <td>21196.776401</td>\n",
       "      <td>65.183076</td>\n",
       "      <td>15.025999</td>\n",
       "      <td>0.532596</td>\n",
       "    </tr>\n",
       "    <tr>\n",
       "      <th>min</th>\n",
       "      <td>1970.000000</td>\n",
       "      <td>650.000000</td>\n",
       "      <td>1.000000</td>\n",
       "      <td>0.000000</td>\n",
       "      <td>1.100000</td>\n",
       "      <td>0.000000</td>\n",
       "    </tr>\n",
       "    <tr>\n",
       "      <th>25%</th>\n",
       "      <td>2016.000000</td>\n",
       "      <td>17357.500000</td>\n",
       "      <td>6322.000000</td>\n",
       "      <td>125.000000</td>\n",
       "      <td>45.600000</td>\n",
       "      <td>1.675000</td>\n",
       "    </tr>\n",
       "    <tr>\n",
       "      <th>50%</th>\n",
       "      <td>2018.000000</td>\n",
       "      <td>22299.000000</td>\n",
       "      <td>15369.500000</td>\n",
       "      <td>145.000000</td>\n",
       "      <td>56.500000</td>\n",
       "      <td>2.000000</td>\n",
       "    </tr>\n",
       "    <tr>\n",
       "      <th>75%</th>\n",
       "      <td>2019.000000</td>\n",
       "      <td>28706.000000</td>\n",
       "      <td>31982.250000</td>\n",
       "      <td>145.000000</td>\n",
       "      <td>64.200000</td>\n",
       "      <td>2.100000</td>\n",
       "    </tr>\n",
       "    <tr>\n",
       "      <th>max</th>\n",
       "      <td>2020.000000</td>\n",
       "      <td>65990.000000</td>\n",
       "      <td>259000.000000</td>\n",
       "      <td>580.000000</td>\n",
       "      <td>217.300000</td>\n",
       "      <td>6.200000</td>\n",
       "    </tr>\n",
       "  </tbody>\n",
       "</table>\n",
       "</div>"
      ],
      "text/plain": [
       "               year         price        mileage           tax           mpg  \\\n",
       "count  12988.000000  12988.000000   12988.000000  12988.000000  12988.000000   \n",
       "mean    2017.281876  24074.926933   22132.741146    129.689714     55.437142   \n",
       "std        2.228515   9866.224575   21196.776401     65.183076     15.025999   \n",
       "min     1970.000000    650.000000       1.000000      0.000000      1.100000   \n",
       "25%     2016.000000  17357.500000    6322.000000    125.000000     45.600000   \n",
       "50%     2018.000000  22299.000000   15369.500000    145.000000     56.500000   \n",
       "75%     2019.000000  28706.000000   31982.250000    145.000000     64.200000   \n",
       "max     2020.000000  65990.000000  259000.000000    580.000000    217.300000   \n",
       "\n",
       "         engineSize  \n",
       "count  12988.000000  \n",
       "mean       2.050901  \n",
       "std        0.532596  \n",
       "min        0.000000  \n",
       "25%        1.675000  \n",
       "50%        2.000000  \n",
       "75%        2.100000  \n",
       "max        6.200000  "
      ]
     },
     "execution_count": 27,
     "metadata": {},
     "output_type": "execute_result"
    }
   ],
   "source": [
    "dataFrame.describe()"
   ]
  },
  {
   "cell_type": "code",
   "execution_count": 28,
   "id": "be894c83",
   "metadata": {},
   "outputs": [],
   "source": [
    "dataFrame=dataFrame[dataFrame.year!=1970]"
   ]
  },
  {
   "cell_type": "code",
   "execution_count": 29,
   "id": "d7a0def4",
   "metadata": {},
   "outputs": [
    {
     "name": "stderr",
     "output_type": "stream",
     "text": [
      "C:\\Users\\Acer\\AppData\\Local\\Temp\\ipykernel_17804\\2092793654.py:1: FutureWarning: The default value of numeric_only in DataFrameGroupBy.mean is deprecated. In a future version, numeric_only will default to False. Either specify numeric_only or select only columns which should be valid for the function.\n",
      "  dataFrame.groupby(\"year\").mean()[\"price\"]\n"
     ]
    },
    {
     "data": {
      "text/plain": [
       "year\n",
       "1997     9995.000000\n",
       "1998     8605.000000\n",
       "1999     5995.000000\n",
       "2000     5743.333333\n",
       "2001     4957.900000\n",
       "2002     5820.444444\n",
       "2003     4878.000000\n",
       "2004     4727.615385\n",
       "2005     4426.111111\n",
       "2006     4036.875000\n",
       "2007     5136.045455\n",
       "2008     6967.437500\n",
       "2009     6166.764706\n",
       "2010     8308.473684\n",
       "2011     8913.459459\n",
       "2012    10845.140351\n",
       "2013    11939.842466\n",
       "2014    14042.936864\n",
       "2015    16647.822222\n",
       "2016    19223.558943\n",
       "2017    21356.280421\n",
       "2018    24800.844506\n",
       "2019    30289.524832\n",
       "2020    34234.794872\n",
       "Name: price, dtype: float64"
      ]
     },
     "execution_count": 29,
     "metadata": {},
     "output_type": "execute_result"
    }
   ],
   "source": [
    "dataFrame.groupby(\"year\").mean()[\"price\"]"
   ]
  },
  {
   "cell_type": "code",
   "execution_count": 30,
   "id": "19bf0ef9",
   "metadata": {},
   "outputs": [
    {
     "data": {
      "text/html": [
       "<div>\n",
       "<style scoped>\n",
       "    .dataframe tbody tr th:only-of-type {\n",
       "        vertical-align: middle;\n",
       "    }\n",
       "\n",
       "    .dataframe tbody tr th {\n",
       "        vertical-align: top;\n",
       "    }\n",
       "\n",
       "    .dataframe thead th {\n",
       "        text-align: right;\n",
       "    }\n",
       "</style>\n",
       "<table border=\"1\" class=\"dataframe\">\n",
       "  <thead>\n",
       "    <tr style=\"text-align: right;\">\n",
       "      <th></th>\n",
       "      <th>year</th>\n",
       "      <th>price</th>\n",
       "      <th>transmission</th>\n",
       "      <th>mileage</th>\n",
       "      <th>tax</th>\n",
       "      <th>mpg</th>\n",
       "      <th>engineSize</th>\n",
       "    </tr>\n",
       "  </thead>\n",
       "  <tbody>\n",
       "    <tr>\n",
       "      <th>6177</th>\n",
       "      <td>2019</td>\n",
       "      <td>65990</td>\n",
       "      <td>Semi-Auto</td>\n",
       "      <td>5076</td>\n",
       "      <td>150</td>\n",
       "      <td>30.4</td>\n",
       "      <td>3.0</td>\n",
       "    </tr>\n",
       "    <tr>\n",
       "      <th>5779</th>\n",
       "      <td>2020</td>\n",
       "      <td>65990</td>\n",
       "      <td>Semi-Auto</td>\n",
       "      <td>999</td>\n",
       "      <td>145</td>\n",
       "      <td>28.0</td>\n",
       "      <td>4.0</td>\n",
       "    </tr>\n",
       "    <tr>\n",
       "      <th>3191</th>\n",
       "      <td>2020</td>\n",
       "      <td>65980</td>\n",
       "      <td>Semi-Auto</td>\n",
       "      <td>3999</td>\n",
       "      <td>145</td>\n",
       "      <td>28.0</td>\n",
       "      <td>4.0</td>\n",
       "    </tr>\n",
       "    <tr>\n",
       "      <th>4727</th>\n",
       "      <td>2019</td>\n",
       "      <td>65000</td>\n",
       "      <td>Semi-Auto</td>\n",
       "      <td>3398</td>\n",
       "      <td>145</td>\n",
       "      <td>27.2</td>\n",
       "      <td>4.0</td>\n",
       "    </tr>\n",
       "    <tr>\n",
       "      <th>8814</th>\n",
       "      <td>2019</td>\n",
       "      <td>64999</td>\n",
       "      <td>Semi-Auto</td>\n",
       "      <td>119</td>\n",
       "      <td>145</td>\n",
       "      <td>40.9</td>\n",
       "      <td>3.0</td>\n",
       "    </tr>\n",
       "  </tbody>\n",
       "</table>\n",
       "</div>"
      ],
      "text/plain": [
       "      year  price transmission  mileage  tax   mpg  engineSize\n",
       "6177  2019  65990    Semi-Auto     5076  150  30.4         3.0\n",
       "5779  2020  65990    Semi-Auto      999  145  28.0         4.0\n",
       "3191  2020  65980    Semi-Auto     3999  145  28.0         4.0\n",
       "4727  2019  65000    Semi-Auto     3398  145  27.2         4.0\n",
       "8814  2019  64999    Semi-Auto      119  145  40.9         3.0"
      ]
     },
     "execution_count": 30,
     "metadata": {},
     "output_type": "execute_result"
    }
   ],
   "source": [
    "dataFrame.head()"
   ]
  },
  {
   "cell_type": "code",
   "execution_count": 31,
   "id": "d26a8df3",
   "metadata": {},
   "outputs": [],
   "source": [
    "dataFrame=dataFrame.drop(\"transmission\",axis=1)"
   ]
  },
  {
   "cell_type": "code",
   "execution_count": 32,
   "id": "9ac9d412",
   "metadata": {},
   "outputs": [],
   "source": [
    "y=dataFrame[\"price\"].values\n",
    "x=dataFrame.drop(\"price\",axis=1).values"
   ]
  },
  {
   "cell_type": "code",
   "execution_count": 33,
   "id": "fa42a5f3",
   "metadata": {},
   "outputs": [
    {
     "data": {
      "text/plain": [
       "array([65990, 65990, 65980, ...,  1490,  1350,   650], dtype=int64)"
      ]
     },
     "execution_count": 33,
     "metadata": {},
     "output_type": "execute_result"
    }
   ],
   "source": [
    "y"
   ]
  },
  {
   "cell_type": "code",
   "execution_count": 34,
   "id": "0a70ec45",
   "metadata": {},
   "outputs": [
    {
     "data": {
      "text/plain": [
       "array([[2.01900e+03, 5.07600e+03, 1.50000e+02, 3.04000e+01, 3.00000e+00],\n",
       "       [2.02000e+03, 9.99000e+02, 1.45000e+02, 2.80000e+01, 4.00000e+00],\n",
       "       [2.02000e+03, 3.99900e+03, 1.45000e+02, 2.80000e+01, 4.00000e+00],\n",
       "       ...,\n",
       "       [2.00000e+03, 8.70000e+04, 2.65000e+02, 2.72000e+01, 3.20000e+00],\n",
       "       [2.01000e+03, 1.16126e+05, 1.45000e+02, 5.43000e+01, 2.00000e+00],\n",
       "       [2.00300e+03, 1.09090e+05, 2.35000e+02, 4.00000e+01, 1.40000e+00]])"
      ]
     },
     "execution_count": 34,
     "metadata": {},
     "output_type": "execute_result"
    }
   ],
   "source": [
    "x"
   ]
  },
  {
   "cell_type": "code",
   "execution_count": 35,
   "id": "53dc44c2",
   "metadata": {},
   "outputs": [],
   "source": [
    "from sklearn.model_selection import train_test_split"
   ]
  },
  {
   "cell_type": "code",
   "execution_count": 36,
   "id": "426e4d81",
   "metadata": {},
   "outputs": [],
   "source": [
    "x_train,x_test,y_train,y_test=train_test_split(x,y,test_size=0.3,random_state=10)"
   ]
  },
  {
   "cell_type": "code",
   "execution_count": 37,
   "id": "a56c1731",
   "metadata": {},
   "outputs": [
    {
     "data": {
      "text/plain": [
       "9090"
      ]
     },
     "execution_count": 37,
     "metadata": {},
     "output_type": "execute_result"
    }
   ],
   "source": [
    "len(x_train)"
   ]
  },
  {
   "cell_type": "code",
   "execution_count": 38,
   "id": "011fec13",
   "metadata": {},
   "outputs": [
    {
     "data": {
      "text/plain": [
       "3897"
      ]
     },
     "execution_count": 38,
     "metadata": {},
     "output_type": "execute_result"
    }
   ],
   "source": [
    "len(x_test)"
   ]
  },
  {
   "cell_type": "code",
   "execution_count": 39,
   "id": "658c9449",
   "metadata": {},
   "outputs": [],
   "source": [
    "from sklearn.preprocessing import MinMaxScaler"
   ]
  },
  {
   "cell_type": "code",
   "execution_count": 40,
   "id": "d08c9356",
   "metadata": {},
   "outputs": [],
   "source": [
    "scaler=MinMaxScaler()"
   ]
  },
  {
   "cell_type": "code",
   "execution_count": 41,
   "id": "30baf7c3",
   "metadata": {},
   "outputs": [],
   "source": [
    "x_train=scaler.fit_transform(x_train)"
   ]
  },
  {
   "cell_type": "code",
   "execution_count": 42,
   "id": "e7c630e7",
   "metadata": {},
   "outputs": [],
   "source": [
    "x_test=scaler.transform(x_test)"
   ]
  },
  {
   "cell_type": "code",
   "execution_count": 43,
   "id": "baea5144",
   "metadata": {},
   "outputs": [],
   "source": [
    "from tensorflow.keras.models import Sequential\n",
    "from tensorflow.keras.layers import Dense"
   ]
  },
  {
   "cell_type": "code",
   "execution_count": 44,
   "id": "2feea348",
   "metadata": {},
   "outputs": [
    {
     "data": {
      "text/plain": [
       "(9090, 5)"
      ]
     },
     "execution_count": 44,
     "metadata": {},
     "output_type": "execute_result"
    }
   ],
   "source": [
    "x_train.shape"
   ]
  },
  {
   "cell_type": "code",
   "execution_count": 46,
   "id": "8044fdf6",
   "metadata": {},
   "outputs": [],
   "source": [
    "model=Sequential()\n",
    "\n",
    "\n",
    "model.add(Dense(12,activation=\"relu\"))\n",
    "model.add(Dense(12,activation=\"relu\"))\n",
    "model.add(Dense(12,activation=\"relu\"))\n",
    "model.add(Dense(12,activation=\"relu\"))\n",
    "\n",
    "\n",
    "model.add(Dense(1))\n",
    "\n",
    "model.compile(optimizer=\"adam\",loss=\"mse\")"
   ]
  },
  {
   "cell_type": "code",
   "execution_count": 47,
   "id": "fac42a9f",
   "metadata": {},
   "outputs": [
    {
     "name": "stdout",
     "output_type": "stream",
     "text": [
      "Epoch 1/300\n",
      "37/37 [==============================] - 2s 16ms/step - loss: 672144960.0000 - val_loss: 688100864.0000\n",
      "Epoch 2/300\n",
      "37/37 [==============================] - 0s 8ms/step - loss: 672119616.0000 - val_loss: 688059008.0000\n",
      "Epoch 3/300\n",
      "37/37 [==============================] - 0s 12ms/step - loss: 672035968.0000 - val_loss: 687901824.0000\n",
      "Epoch 4/300\n",
      "37/37 [==============================] - 0s 12ms/step - loss: 671741376.0000 - val_loss: 687374272.0000\n",
      "Epoch 5/300\n",
      "37/37 [==============================] - 0s 11ms/step - loss: 670798272.0000 - val_loss: 685778368.0000\n",
      "Epoch 6/300\n",
      "37/37 [==============================] - 0s 11ms/step - loss: 668167296.0000 - val_loss: 681561024.0000\n",
      "Epoch 7/300\n",
      "37/37 [==============================] - 0s 11ms/step - loss: 661747200.0000 - val_loss: 671951680.0000\n",
      "Epoch 8/300\n",
      "37/37 [==============================] - 0s 11ms/step - loss: 648216448.0000 - val_loss: 652932032.0000\n",
      "Epoch 9/300\n",
      "37/37 [==============================] - 0s 11ms/step - loss: 623088384.0000 - val_loss: 619464256.0000\n",
      "Epoch 10/300\n",
      "37/37 [==============================] - 0s 11ms/step - loss: 581216640.0000 - val_loss: 566586944.0000\n",
      "Epoch 11/300\n",
      "37/37 [==============================] - 0s 10ms/step - loss: 518483968.0000 - val_loss: 491085760.0000\n",
      "Epoch 12/300\n",
      "37/37 [==============================] - 0s 11ms/step - loss: 434252416.0000 - val_loss: 395636096.0000\n",
      "Epoch 13/300\n",
      "37/37 [==============================] - 0s 11ms/step - loss: 334824160.0000 - val_loss: 291171872.0000\n",
      "Epoch 14/300\n",
      "37/37 [==============================] - 0s 12ms/step - loss: 235727072.0000 - val_loss: 197148528.0000\n",
      "Epoch 15/300\n",
      "37/37 [==============================] - 0s 10ms/step - loss: 157063392.0000 - val_loss: 133100024.0000\n",
      "Epoch 16/300\n",
      "37/37 [==============================] - 0s 10ms/step - loss: 111921512.0000 - val_loss: 102771496.0000\n",
      "Epoch 17/300\n",
      "37/37 [==============================] - 0s 11ms/step - loss: 94613904.0000 - val_loss: 93440512.0000\n",
      "Epoch 18/300\n",
      "37/37 [==============================] - 0s 10ms/step - loss: 90153280.0000 - val_loss: 91159024.0000\n",
      "Epoch 19/300\n",
      "37/37 [==============================] - 0s 11ms/step - loss: 88923704.0000 - val_loss: 90088424.0000\n",
      "Epoch 20/300\n",
      "37/37 [==============================] - 0s 11ms/step - loss: 88095432.0000 - val_loss: 89318840.0000\n",
      "Epoch 21/300\n",
      "37/37 [==============================] - 0s 7ms/step - loss: 87337528.0000 - val_loss: 88535640.0000\n",
      "Epoch 22/300\n",
      "37/37 [==============================] - 0s 7ms/step - loss: 86588128.0000 - val_loss: 87811064.0000\n",
      "Epoch 23/300\n",
      "37/37 [==============================] - 0s 9ms/step - loss: 85854848.0000 - val_loss: 87080936.0000\n",
      "Epoch 24/300\n",
      "37/37 [==============================] - 0s 13ms/step - loss: 85121520.0000 - val_loss: 86376536.0000\n",
      "Epoch 25/300\n",
      "37/37 [==============================] - 0s 11ms/step - loss: 84402432.0000 - val_loss: 85639056.0000\n",
      "Epoch 26/300\n",
      "37/37 [==============================] - 0s 11ms/step - loss: 83679400.0000 - val_loss: 84925656.0000\n",
      "Epoch 27/300\n",
      "37/37 [==============================] - 0s 12ms/step - loss: 82959280.0000 - val_loss: 84228800.0000\n",
      "Epoch 28/300\n",
      "37/37 [==============================] - 0s 11ms/step - loss: 82242320.0000 - val_loss: 83498448.0000\n",
      "Epoch 29/300\n",
      "37/37 [==============================] - 0s 10ms/step - loss: 81536608.0000 - val_loss: 82808960.0000\n",
      "Epoch 30/300\n",
      "37/37 [==============================] - 0s 12ms/step - loss: 80825096.0000 - val_loss: 82129032.0000\n",
      "Epoch 31/300\n",
      "37/37 [==============================] - 0s 10ms/step - loss: 80117264.0000 - val_loss: 81401376.0000\n",
      "Epoch 32/300\n",
      "37/37 [==============================] - 0s 11ms/step - loss: 79405520.0000 - val_loss: 80698400.0000\n",
      "Epoch 33/300\n",
      "37/37 [==============================] - 0s 11ms/step - loss: 78701576.0000 - val_loss: 80007472.0000\n",
      "Epoch 34/300\n",
      "37/37 [==============================] - 0s 12ms/step - loss: 77997032.0000 - val_loss: 79321544.0000\n",
      "Epoch 35/300\n",
      "37/37 [==============================] - 0s 12ms/step - loss: 77297480.0000 - val_loss: 78593256.0000\n",
      "Epoch 36/300\n",
      "37/37 [==============================] - 0s 12ms/step - loss: 76598488.0000 - val_loss: 77925560.0000\n",
      "Epoch 37/300\n",
      "37/37 [==============================] - 0s 11ms/step - loss: 75885632.0000 - val_loss: 77193160.0000\n",
      "Epoch 38/300\n",
      "37/37 [==============================] - 0s 10ms/step - loss: 75178512.0000 - val_loss: 76527400.0000\n",
      "Epoch 39/300\n",
      "37/37 [==============================] - 0s 12ms/step - loss: 74484960.0000 - val_loss: 75837016.0000\n",
      "Epoch 40/300\n",
      "37/37 [==============================] - 0s 11ms/step - loss: 73775440.0000 - val_loss: 75113744.0000\n",
      "Epoch 41/300\n",
      "37/37 [==============================] - 0s 10ms/step - loss: 73070184.0000 - val_loss: 74410560.0000\n",
      "Epoch 42/300\n",
      "37/37 [==============================] - 0s 10ms/step - loss: 72386264.0000 - val_loss: 73765736.0000\n",
      "Epoch 43/300\n",
      "37/37 [==============================] - 0s 13ms/step - loss: 71674816.0000 - val_loss: 73054984.0000\n",
      "Epoch 44/300\n",
      "37/37 [==============================] - 0s 9ms/step - loss: 70974640.0000 - val_loss: 72334920.0000\n",
      "Epoch 45/300\n",
      "37/37 [==============================] - 0s 11ms/step - loss: 70268944.0000 - val_loss: 71649592.0000\n",
      "Epoch 46/300\n",
      "37/37 [==============================] - 0s 12ms/step - loss: 69568424.0000 - val_loss: 70967760.0000\n",
      "Epoch 47/300\n",
      "37/37 [==============================] - 0s 12ms/step - loss: 68894792.0000 - val_loss: 70264480.0000\n",
      "Epoch 48/300\n",
      "37/37 [==============================] - 0s 10ms/step - loss: 68197408.0000 - val_loss: 69572104.0000\n",
      "Epoch 49/300\n",
      "37/37 [==============================] - 0s 10ms/step - loss: 67505240.0000 - val_loss: 68891880.0000\n",
      "Epoch 50/300\n",
      "37/37 [==============================] - 0s 9ms/step - loss: 66809916.0000 - val_loss: 68178808.0000\n",
      "Epoch 51/300\n",
      "37/37 [==============================] - 0s 6ms/step - loss: 66091212.0000 - val_loss: 67508704.0000\n",
      "Epoch 52/300\n",
      "37/37 [==============================] - 0s 9ms/step - loss: 65390912.0000 - val_loss: 66801152.0000\n",
      "Epoch 53/300\n",
      "37/37 [==============================] - 0s 11ms/step - loss: 64688280.0000 - val_loss: 66135256.0000\n",
      "Epoch 54/300\n",
      "37/37 [==============================] - 0s 10ms/step - loss: 64016488.0000 - val_loss: 65408252.0000\n",
      "Epoch 55/300\n",
      "37/37 [==============================] - 0s 10ms/step - loss: 63292796.0000 - val_loss: 64720224.0000\n",
      "Epoch 56/300\n",
      "37/37 [==============================] - 0s 8ms/step - loss: 62582992.0000 - val_loss: 64003276.0000\n",
      "Epoch 57/300\n",
      "37/37 [==============================] - 0s 8ms/step - loss: 61902272.0000 - val_loss: 63292052.0000\n",
      "Epoch 58/300\n",
      "37/37 [==============================] - 0s 11ms/step - loss: 61176480.0000 - val_loss: 62595604.0000\n",
      "Epoch 59/300\n",
      "37/37 [==============================] - 0s 12ms/step - loss: 60464824.0000 - val_loss: 61882404.0000\n",
      "Epoch 60/300\n",
      "37/37 [==============================] - 0s 12ms/step - loss: 59728672.0000 - val_loss: 61177508.0000\n",
      "Epoch 61/300\n",
      "37/37 [==============================] - 0s 12ms/step - loss: 59010828.0000 - val_loss: 60454936.0000\n",
      "Epoch 62/300\n",
      "37/37 [==============================] - 0s 9ms/step - loss: 58292620.0000 - val_loss: 59735648.0000\n",
      "Epoch 63/300\n",
      "37/37 [==============================] - 0s 10ms/step - loss: 57566060.0000 - val_loss: 58977200.0000\n",
      "Epoch 64/300\n",
      "37/37 [==============================] - 0s 11ms/step - loss: 56825036.0000 - val_loss: 58271024.0000\n",
      "Epoch 65/300\n",
      "37/37 [==============================] - 1s 14ms/step - loss: 56107688.0000 - val_loss: 57529404.0000\n",
      "Epoch 66/300\n",
      "37/37 [==============================] - 0s 8ms/step - loss: 55376876.0000 - val_loss: 56800036.0000\n",
      "Epoch 67/300\n",
      "37/37 [==============================] - 0s 11ms/step - loss: 54628136.0000 - val_loss: 56051780.0000\n",
      "Epoch 68/300\n",
      "37/37 [==============================] - 0s 11ms/step - loss: 53889332.0000 - val_loss: 55292016.0000\n",
      "Epoch 69/300\n",
      "37/37 [==============================] - 0s 11ms/step - loss: 53143512.0000 - val_loss: 54557368.0000\n",
      "Epoch 70/300\n",
      "37/37 [==============================] - 0s 12ms/step - loss: 52391220.0000 - val_loss: 53798768.0000\n",
      "Epoch 71/300\n",
      "37/37 [==============================] - 0s 10ms/step - loss: 51640820.0000 - val_loss: 53036580.0000\n",
      "Epoch 72/300\n"
     ]
    },
    {
     "name": "stdout",
     "output_type": "stream",
     "text": [
      "37/37 [==============================] - 0s 10ms/step - loss: 50883732.0000 - val_loss: 52266912.0000\n",
      "Epoch 73/300\n",
      "37/37 [==============================] - 0s 11ms/step - loss: 50121248.0000 - val_loss: 51497576.0000\n",
      "Epoch 74/300\n",
      "37/37 [==============================] - 0s 10ms/step - loss: 49366120.0000 - val_loss: 50735584.0000\n",
      "Epoch 75/300\n",
      "37/37 [==============================] - 0s 11ms/step - loss: 48597004.0000 - val_loss: 49954740.0000\n",
      "Epoch 76/300\n",
      "37/37 [==============================] - 0s 11ms/step - loss: 47834732.0000 - val_loss: 49192560.0000\n",
      "Epoch 77/300\n",
      "37/37 [==============================] - 0s 11ms/step - loss: 47062880.0000 - val_loss: 48412348.0000\n",
      "Epoch 78/300\n",
      "37/37 [==============================] - 0s 11ms/step - loss: 46292432.0000 - val_loss: 47635660.0000\n",
      "Epoch 79/300\n",
      "37/37 [==============================] - 0s 10ms/step - loss: 45514220.0000 - val_loss: 46840512.0000\n",
      "Epoch 80/300\n",
      "37/37 [==============================] - 0s 10ms/step - loss: 44735484.0000 - val_loss: 46077324.0000\n",
      "Epoch 81/300\n",
      "37/37 [==============================] - 0s 12ms/step - loss: 43978092.0000 - val_loss: 45272220.0000\n",
      "Epoch 82/300\n",
      "37/37 [==============================] - 0s 11ms/step - loss: 43197512.0000 - val_loss: 44503496.0000\n",
      "Epoch 83/300\n",
      "37/37 [==============================] - 0s 10ms/step - loss: 42435560.0000 - val_loss: 43713108.0000\n",
      "Epoch 84/300\n",
      "37/37 [==============================] - 0s 10ms/step - loss: 41688776.0000 - val_loss: 42949592.0000\n",
      "Epoch 85/300\n",
      "37/37 [==============================] - 0s 10ms/step - loss: 40911492.0000 - val_loss: 42175208.0000\n",
      "Epoch 86/300\n",
      "37/37 [==============================] - 0s 10ms/step - loss: 40145512.0000 - val_loss: 41395792.0000\n",
      "Epoch 87/300\n",
      "37/37 [==============================] - 0s 10ms/step - loss: 39402012.0000 - val_loss: 40654816.0000\n",
      "Epoch 88/300\n",
      "37/37 [==============================] - 0s 10ms/step - loss: 38651640.0000 - val_loss: 39908660.0000\n",
      "Epoch 89/300\n",
      "37/37 [==============================] - 0s 10ms/step - loss: 37931032.0000 - val_loss: 39146732.0000\n",
      "Epoch 90/300\n",
      "37/37 [==============================] - 0s 10ms/step - loss: 37206792.0000 - val_loss: 38459296.0000\n",
      "Epoch 91/300\n",
      "37/37 [==============================] - 0s 10ms/step - loss: 36491312.0000 - val_loss: 37678768.0000\n",
      "Epoch 92/300\n",
      "37/37 [==============================] - 0s 10ms/step - loss: 35768864.0000 - val_loss: 36961664.0000\n",
      "Epoch 93/300\n",
      "37/37 [==============================] - 0s 10ms/step - loss: 35075808.0000 - val_loss: 36262612.0000\n",
      "Epoch 94/300\n",
      "37/37 [==============================] - 0s 9ms/step - loss: 34401200.0000 - val_loss: 35621040.0000\n",
      "Epoch 95/300\n",
      "37/37 [==============================] - 0s 10ms/step - loss: 33770892.0000 - val_loss: 34916688.0000\n",
      "Epoch 96/300\n",
      "37/37 [==============================] - 0s 11ms/step - loss: 33100886.0000 - val_loss: 34267684.0000\n",
      "Epoch 97/300\n",
      "37/37 [==============================] - 0s 5ms/step - loss: 32465434.0000 - val_loss: 33636912.0000\n",
      "Epoch 98/300\n",
      "37/37 [==============================] - 0s 4ms/step - loss: 31849116.0000 - val_loss: 33045636.0000\n",
      "Epoch 99/300\n",
      "37/37 [==============================] - 0s 9ms/step - loss: 31265754.0000 - val_loss: 32446620.0000\n",
      "Epoch 100/300\n",
      "37/37 [==============================] - 0s 11ms/step - loss: 30688612.0000 - val_loss: 31865848.0000\n",
      "Epoch 101/300\n",
      "37/37 [==============================] - 0s 10ms/step - loss: 30140580.0000 - val_loss: 31313016.0000\n",
      "Epoch 102/300\n",
      "37/37 [==============================] - 0s 11ms/step - loss: 29608634.0000 - val_loss: 30801500.0000\n",
      "Epoch 103/300\n",
      "37/37 [==============================] - 0s 9ms/step - loss: 29095462.0000 - val_loss: 30285266.0000\n",
      "Epoch 104/300\n",
      "37/37 [==============================] - 0s 5ms/step - loss: 28626138.0000 - val_loss: 29812926.0000\n",
      "Epoch 105/300\n",
      "37/37 [==============================] - 0s 4ms/step - loss: 28132160.0000 - val_loss: 29334284.0000\n",
      "Epoch 106/300\n",
      "37/37 [==============================] - 0s 4ms/step - loss: 27685922.0000 - val_loss: 28924436.0000\n",
      "Epoch 107/300\n",
      "37/37 [==============================] - 0s 6ms/step - loss: 27273668.0000 - val_loss: 28476062.0000\n",
      "Epoch 108/300\n",
      "37/37 [==============================] - 0s 6ms/step - loss: 26874162.0000 - val_loss: 28099282.0000\n",
      "Epoch 109/300\n",
      "37/37 [==============================] - 0s 11ms/step - loss: 26478634.0000 - val_loss: 27724648.0000\n",
      "Epoch 110/300\n",
      "37/37 [==============================] - 0s 9ms/step - loss: 26152086.0000 - val_loss: 27403808.0000\n",
      "Epoch 111/300\n",
      "37/37 [==============================] - 0s 12ms/step - loss: 25787104.0000 - val_loss: 27032560.0000\n",
      "Epoch 112/300\n",
      "37/37 [==============================] - 0s 12ms/step - loss: 25461242.0000 - val_loss: 26723370.0000\n",
      "Epoch 113/300\n",
      "37/37 [==============================] - 0s 11ms/step - loss: 25164820.0000 - val_loss: 26422504.0000\n",
      "Epoch 114/300\n",
      "37/37 [==============================] - 0s 10ms/step - loss: 24881248.0000 - val_loss: 26135142.0000\n",
      "Epoch 115/300\n",
      "37/37 [==============================] - 0s 11ms/step - loss: 24616694.0000 - val_loss: 25876800.0000\n",
      "Epoch 116/300\n",
      "37/37 [==============================] - 0s 10ms/step - loss: 24356832.0000 - val_loss: 25628790.0000\n",
      "Epoch 117/300\n",
      "37/37 [==============================] - 0s 11ms/step - loss: 24135520.0000 - val_loss: 25408112.0000\n",
      "Epoch 118/300\n",
      "37/37 [==============================] - 0s 11ms/step - loss: 23903980.0000 - val_loss: 25192828.0000\n",
      "Epoch 119/300\n",
      "37/37 [==============================] - 0s 12ms/step - loss: 23711682.0000 - val_loss: 25001482.0000\n",
      "Epoch 120/300\n",
      "37/37 [==============================] - 0s 11ms/step - loss: 23508452.0000 - val_loss: 24847482.0000\n",
      "Epoch 121/300\n",
      "37/37 [==============================] - 0s 11ms/step - loss: 23353840.0000 - val_loss: 24656652.0000\n",
      "Epoch 122/300\n",
      "37/37 [==============================] - 0s 11ms/step - loss: 23190994.0000 - val_loss: 24517152.0000\n",
      "Epoch 123/300\n",
      "37/37 [==============================] - 0s 11ms/step - loss: 23031850.0000 - val_loss: 24362580.0000\n",
      "Epoch 124/300\n",
      "37/37 [==============================] - 0s 11ms/step - loss: 22876360.0000 - val_loss: 24281344.0000\n",
      "Epoch 125/300\n",
      "37/37 [==============================] - 0s 11ms/step - loss: 22774168.0000 - val_loss: 24121360.0000\n",
      "Epoch 126/300\n",
      "37/37 [==============================] - 0s 11ms/step - loss: 22641668.0000 - val_loss: 23984778.0000\n",
      "Epoch 127/300\n",
      "37/37 [==============================] - 0s 11ms/step - loss: 22514480.0000 - val_loss: 23874868.0000\n",
      "Epoch 128/300\n",
      "37/37 [==============================] - 0s 12ms/step - loss: 22411200.0000 - val_loss: 23776372.0000\n",
      "Epoch 129/300\n",
      "37/37 [==============================] - 0s 11ms/step - loss: 22310164.0000 - val_loss: 23688478.0000\n",
      "Epoch 130/300\n",
      "37/37 [==============================] - 0s 11ms/step - loss: 22216354.0000 - val_loss: 23601926.0000\n",
      "Epoch 131/300\n",
      "37/37 [==============================] - 0s 11ms/step - loss: 22127366.0000 - val_loss: 23516664.0000\n",
      "Epoch 132/300\n",
      "37/37 [==============================] - 0s 11ms/step - loss: 22047698.0000 - val_loss: 23444558.0000\n",
      "Epoch 133/300\n",
      "37/37 [==============================] - 0s 11ms/step - loss: 22006230.0000 - val_loss: 23401580.0000\n",
      "Epoch 134/300\n",
      "37/37 [==============================] - 0s 11ms/step - loss: 21948150.0000 - val_loss: 23301064.0000\n",
      "Epoch 135/300\n",
      "37/37 [==============================] - 0s 11ms/step - loss: 21847456.0000 - val_loss: 23291950.0000\n",
      "Epoch 136/300\n",
      "37/37 [==============================] - 0s 11ms/step - loss: 21795486.0000 - val_loss: 23188910.0000\n",
      "Epoch 137/300\n",
      "37/37 [==============================] - 0s 11ms/step - loss: 21743832.0000 - val_loss: 23131704.0000\n",
      "Epoch 138/300\n",
      "37/37 [==============================] - 0s 11ms/step - loss: 21685518.0000 - val_loss: 23093940.0000\n",
      "Epoch 139/300\n",
      "37/37 [==============================] - 0s 11ms/step - loss: 21632722.0000 - val_loss: 23065262.0000\n",
      "Epoch 140/300\n",
      "37/37 [==============================] - 0s 12ms/step - loss: 21593756.0000 - val_loss: 22995646.0000\n",
      "Epoch 141/300\n",
      "37/37 [==============================] - 0s 11ms/step - loss: 21544398.0000 - val_loss: 22950364.0000\n",
      "Epoch 142/300\n",
      "37/37 [==============================] - 0s 11ms/step - loss: 21502804.0000 - val_loss: 22921710.0000\n",
      "Epoch 143/300\n"
     ]
    },
    {
     "name": "stdout",
     "output_type": "stream",
     "text": [
      "37/37 [==============================] - 0s 10ms/step - loss: 21462636.0000 - val_loss: 22892180.0000\n",
      "Epoch 144/300\n",
      "37/37 [==============================] - 0s 11ms/step - loss: 21432388.0000 - val_loss: 22855818.0000\n",
      "Epoch 145/300\n",
      "37/37 [==============================] - 0s 11ms/step - loss: 21415198.0000 - val_loss: 22807740.0000\n",
      "Epoch 146/300\n",
      "37/37 [==============================] - 0s 11ms/step - loss: 21398996.0000 - val_loss: 22770632.0000\n",
      "Epoch 147/300\n",
      "37/37 [==============================] - 0s 11ms/step - loss: 21357746.0000 - val_loss: 22742484.0000\n",
      "Epoch 148/300\n",
      "37/37 [==============================] - 0s 11ms/step - loss: 21323804.0000 - val_loss: 22718752.0000\n",
      "Epoch 149/300\n",
      "37/37 [==============================] - 0s 12ms/step - loss: 21253852.0000 - val_loss: 22848816.0000\n",
      "Epoch 150/300\n",
      "37/37 [==============================] - 0s 11ms/step - loss: 21283390.0000 - val_loss: 22654200.0000\n",
      "Epoch 151/300\n",
      "37/37 [==============================] - 0s 12ms/step - loss: 21213860.0000 - val_loss: 22638954.0000\n",
      "Epoch 152/300\n",
      "37/37 [==============================] - 0s 11ms/step - loss: 21172736.0000 - val_loss: 22673188.0000\n",
      "Epoch 153/300\n",
      "37/37 [==============================] - 0s 10ms/step - loss: 21168396.0000 - val_loss: 22574970.0000\n",
      "Epoch 154/300\n",
      "37/37 [==============================] - 0s 10ms/step - loss: 21140190.0000 - val_loss: 22557022.0000\n",
      "Epoch 155/300\n",
      "37/37 [==============================] - 0s 9ms/step - loss: 21115768.0000 - val_loss: 22535422.0000\n",
      "Epoch 156/300\n",
      "37/37 [==============================] - 0s 11ms/step - loss: 21124224.0000 - val_loss: 22503040.0000\n",
      "Epoch 157/300\n",
      "37/37 [==============================] - 0s 11ms/step - loss: 21074728.0000 - val_loss: 22505700.0000\n",
      "Epoch 158/300\n",
      "37/37 [==============================] - 0s 11ms/step - loss: 21049308.0000 - val_loss: 22446704.0000\n",
      "Epoch 159/300\n",
      "37/37 [==============================] - 0s 11ms/step - loss: 21012110.0000 - val_loss: 22427470.0000\n",
      "Epoch 160/300\n",
      "37/37 [==============================] - 0s 13ms/step - loss: 20993252.0000 - val_loss: 22403894.0000\n",
      "Epoch 161/300\n",
      "37/37 [==============================] - 0s 12ms/step - loss: 20970282.0000 - val_loss: 22378064.0000\n",
      "Epoch 162/300\n",
      "37/37 [==============================] - 0s 11ms/step - loss: 20975584.0000 - val_loss: 22381206.0000\n",
      "Epoch 163/300\n",
      "37/37 [==============================] - 0s 11ms/step - loss: 20932074.0000 - val_loss: 22341612.0000\n",
      "Epoch 164/300\n",
      "37/37 [==============================] - 0s 11ms/step - loss: 20909936.0000 - val_loss: 22393328.0000\n",
      "Epoch 165/300\n",
      "37/37 [==============================] - 0s 12ms/step - loss: 20901130.0000 - val_loss: 22322424.0000\n",
      "Epoch 166/300\n",
      "37/37 [==============================] - 0s 11ms/step - loss: 20900470.0000 - val_loss: 22280762.0000\n",
      "Epoch 167/300\n",
      "37/37 [==============================] - 0s 11ms/step - loss: 20862662.0000 - val_loss: 22281248.0000\n",
      "Epoch 168/300\n",
      "37/37 [==============================] - 0s 11ms/step - loss: 20857218.0000 - val_loss: 22249626.0000\n",
      "Epoch 169/300\n",
      "37/37 [==============================] - 0s 11ms/step - loss: 20831700.0000 - val_loss: 22309962.0000\n",
      "Epoch 170/300\n",
      "37/37 [==============================] - 0s 11ms/step - loss: 20852092.0000 - val_loss: 22209542.0000\n",
      "Epoch 171/300\n",
      "37/37 [==============================] - 0s 11ms/step - loss: 20791904.0000 - val_loss: 22220128.0000\n",
      "Epoch 172/300\n",
      "37/37 [==============================] - 0s 11ms/step - loss: 20780818.0000 - val_loss: 22186288.0000\n",
      "Epoch 173/300\n",
      "37/37 [==============================] - 0s 11ms/step - loss: 20789794.0000 - val_loss: 22167580.0000\n",
      "Epoch 174/300\n",
      "37/37 [==============================] - 0s 11ms/step - loss: 20745006.0000 - val_loss: 22125944.0000\n",
      "Epoch 175/300\n",
      "37/37 [==============================] - 0s 11ms/step - loss: 20718638.0000 - val_loss: 22109258.0000\n",
      "Epoch 176/300\n",
      "37/37 [==============================] - 0s 9ms/step - loss: 20699130.0000 - val_loss: 22134892.0000\n",
      "Epoch 177/300\n",
      "37/37 [==============================] - 0s 11ms/step - loss: 20705816.0000 - val_loss: 22077618.0000\n",
      "Epoch 178/300\n",
      "37/37 [==============================] - 0s 11ms/step - loss: 20682714.0000 - val_loss: 22053128.0000\n",
      "Epoch 179/300\n",
      "37/37 [==============================] - 0s 11ms/step - loss: 20668894.0000 - val_loss: 22058392.0000\n",
      "Epoch 180/300\n",
      "37/37 [==============================] - 0s 11ms/step - loss: 20655736.0000 - val_loss: 22029194.0000\n",
      "Epoch 181/300\n",
      "37/37 [==============================] - 0s 11ms/step - loss: 20631920.0000 - val_loss: 22012896.0000\n",
      "Epoch 182/300\n",
      "37/37 [==============================] - 0s 10ms/step - loss: 20611540.0000 - val_loss: 22022782.0000\n",
      "Epoch 183/300\n",
      "37/37 [==============================] - 0s 10ms/step - loss: 20604140.0000 - val_loss: 21996402.0000\n",
      "Epoch 184/300\n",
      "37/37 [==============================] - 0s 10ms/step - loss: 20593240.0000 - val_loss: 21959310.0000\n",
      "Epoch 185/300\n",
      "37/37 [==============================] - 0s 11ms/step - loss: 20563622.0000 - val_loss: 21950706.0000\n",
      "Epoch 186/300\n",
      "37/37 [==============================] - 0s 10ms/step - loss: 20563904.0000 - val_loss: 21955360.0000\n",
      "Epoch 187/300\n",
      "37/37 [==============================] - 0s 7ms/step - loss: 20573586.0000 - val_loss: 21896950.0000\n",
      "Epoch 188/300\n",
      "37/37 [==============================] - 0s 4ms/step - loss: 20533958.0000 - val_loss: 21886160.0000\n",
      "Epoch 189/300\n",
      "37/37 [==============================] - 0s 9ms/step - loss: 20503048.0000 - val_loss: 21903770.0000\n",
      "Epoch 190/300\n",
      "37/37 [==============================] - 0s 11ms/step - loss: 20502902.0000 - val_loss: 21906638.0000\n",
      "Epoch 191/300\n",
      "37/37 [==============================] - 0s 11ms/step - loss: 20474400.0000 - val_loss: 21860938.0000\n",
      "Epoch 192/300\n",
      "37/37 [==============================] - 0s 11ms/step - loss: 20474440.0000 - val_loss: 21828584.0000\n",
      "Epoch 193/300\n",
      "37/37 [==============================] - 0s 10ms/step - loss: 20439446.0000 - val_loss: 21849708.0000\n",
      "Epoch 194/300\n",
      "37/37 [==============================] - 0s 8ms/step - loss: 20451176.0000 - val_loss: 21790364.0000\n",
      "Epoch 195/300\n",
      "37/37 [==============================] - 0s 6ms/step - loss: 20413918.0000 - val_loss: 21790114.0000\n",
      "Epoch 196/300\n",
      "37/37 [==============================] - 0s 6ms/step - loss: 20393610.0000 - val_loss: 21761952.0000\n",
      "Epoch 197/300\n",
      "37/37 [==============================] - 0s 5ms/step - loss: 20404604.0000 - val_loss: 21749134.0000\n",
      "Epoch 198/300\n",
      "37/37 [==============================] - 0s 5ms/step - loss: 20413398.0000 - val_loss: 21734064.0000\n",
      "Epoch 199/300\n",
      "37/37 [==============================] - 0s 6ms/step - loss: 20368214.0000 - val_loss: 21784598.0000\n",
      "Epoch 200/300\n",
      "37/37 [==============================] - 0s 7ms/step - loss: 20351582.0000 - val_loss: 21698860.0000\n",
      "Epoch 201/300\n",
      "37/37 [==============================] - 0s 9ms/step - loss: 20314190.0000 - val_loss: 21765916.0000\n",
      "Epoch 202/300\n",
      "37/37 [==============================] - 0s 10ms/step - loss: 20322966.0000 - val_loss: 21678504.0000\n",
      "Epoch 203/300\n",
      "37/37 [==============================] - 0s 10ms/step - loss: 20300630.0000 - val_loss: 21661164.0000\n",
      "Epoch 204/300\n",
      "37/37 [==============================] - 0s 8ms/step - loss: 20260514.0000 - val_loss: 21641360.0000\n",
      "Epoch 205/300\n",
      "37/37 [==============================] - 0s 11ms/step - loss: 20238808.0000 - val_loss: 21624748.0000\n",
      "Epoch 206/300\n",
      "37/37 [==============================] - 0s 10ms/step - loss: 20223792.0000 - val_loss: 21610140.0000\n",
      "Epoch 207/300\n",
      "37/37 [==============================] - 0s 10ms/step - loss: 20212798.0000 - val_loss: 21618270.0000\n",
      "Epoch 208/300\n",
      "37/37 [==============================] - 0s 10ms/step - loss: 20170944.0000 - val_loss: 21670898.0000\n",
      "Epoch 209/300\n",
      "37/37 [==============================] - 0s 11ms/step - loss: 20178614.0000 - val_loss: 21573110.0000\n",
      "Epoch 210/300\n",
      "37/37 [==============================] - 0s 10ms/step - loss: 20147982.0000 - val_loss: 21558322.0000\n",
      "Epoch 211/300\n",
      "37/37 [==============================] - 0s 10ms/step - loss: 20120780.0000 - val_loss: 21551350.0000\n",
      "Epoch 212/300\n",
      "37/37 [==============================] - 0s 11ms/step - loss: 20104066.0000 - val_loss: 21591140.0000\n",
      "Epoch 213/300\n",
      "37/37 [==============================] - 0s 10ms/step - loss: 20102626.0000 - val_loss: 21517668.0000\n"
     ]
    },
    {
     "name": "stdout",
     "output_type": "stream",
     "text": [
      "Epoch 214/300\n",
      "37/37 [==============================] - 0s 11ms/step - loss: 20067486.0000 - val_loss: 21505428.0000\n",
      "Epoch 215/300\n",
      "37/37 [==============================] - 0s 11ms/step - loss: 20047832.0000 - val_loss: 21534532.0000\n",
      "Epoch 216/300\n",
      "37/37 [==============================] - 0s 11ms/step - loss: 20038488.0000 - val_loss: 21481678.0000\n",
      "Epoch 217/300\n",
      "37/37 [==============================] - 0s 10ms/step - loss: 20026184.0000 - val_loss: 21466958.0000\n",
      "Epoch 218/300\n",
      "37/37 [==============================] - 0s 10ms/step - loss: 19984170.0000 - val_loss: 21450234.0000\n",
      "Epoch 219/300\n",
      "37/37 [==============================] - 0s 10ms/step - loss: 19967636.0000 - val_loss: 21439406.0000\n",
      "Epoch 220/300\n",
      "37/37 [==============================] - 0s 8ms/step - loss: 19961986.0000 - val_loss: 21424212.0000\n",
      "Epoch 221/300\n",
      "37/37 [==============================] - 0s 10ms/step - loss: 19966070.0000 - val_loss: 21465320.0000\n",
      "Epoch 222/300\n",
      "37/37 [==============================] - 0s 10ms/step - loss: 19974370.0000 - val_loss: 21435908.0000\n",
      "Epoch 223/300\n",
      "37/37 [==============================] - 0s 10ms/step - loss: 19909858.0000 - val_loss: 21385222.0000\n",
      "Epoch 224/300\n",
      "37/37 [==============================] - 0s 10ms/step - loss: 19882380.0000 - val_loss: 21374274.0000\n",
      "Epoch 225/300\n",
      "37/37 [==============================] - 0s 7ms/step - loss: 19880412.0000 - val_loss: 21361818.0000\n",
      "Epoch 226/300\n",
      "37/37 [==============================] - 0s 7ms/step - loss: 19873740.0000 - val_loss: 21361862.0000\n",
      "Epoch 227/300\n",
      "37/37 [==============================] - 0s 10ms/step - loss: 19836558.0000 - val_loss: 21349152.0000\n",
      "Epoch 228/300\n",
      "37/37 [==============================] - 0s 10ms/step - loss: 19839732.0000 - val_loss: 21325048.0000\n",
      "Epoch 229/300\n",
      "37/37 [==============================] - 0s 9ms/step - loss: 19828620.0000 - val_loss: 21306588.0000\n",
      "Epoch 230/300\n",
      "37/37 [==============================] - 0s 7ms/step - loss: 19809000.0000 - val_loss: 21311706.0000\n",
      "Epoch 231/300\n",
      "37/37 [==============================] - 0s 6ms/step - loss: 19789192.0000 - val_loss: 21282068.0000\n",
      "Epoch 232/300\n",
      "37/37 [==============================] - 0s 6ms/step - loss: 19761640.0000 - val_loss: 21261738.0000\n",
      "Epoch 233/300\n",
      "37/37 [==============================] - 0s 8ms/step - loss: 19756712.0000 - val_loss: 21256336.0000\n",
      "Epoch 234/300\n",
      "37/37 [==============================] - 0s 6ms/step - loss: 19732952.0000 - val_loss: 21234658.0000\n",
      "Epoch 235/300\n",
      "37/37 [==============================] - 0s 8ms/step - loss: 19735136.0000 - val_loss: 21219900.0000\n",
      "Epoch 236/300\n",
      "37/37 [==============================] - 0s 9ms/step - loss: 19698650.0000 - val_loss: 21221444.0000\n",
      "Epoch 237/300\n",
      "37/37 [==============================] - 0s 12ms/step - loss: 19676368.0000 - val_loss: 21189618.0000\n",
      "Epoch 238/300\n",
      "37/37 [==============================] - 0s 12ms/step - loss: 19672548.0000 - val_loss: 21190316.0000\n",
      "Epoch 239/300\n",
      "37/37 [==============================] - 0s 11ms/step - loss: 19720210.0000 - val_loss: 21206884.0000\n",
      "Epoch 240/300\n",
      "37/37 [==============================] - 0s 10ms/step - loss: 19651228.0000 - val_loss: 21168812.0000\n",
      "Epoch 241/300\n",
      "37/37 [==============================] - 0s 9ms/step - loss: 19648402.0000 - val_loss: 21143542.0000\n",
      "Epoch 242/300\n",
      "37/37 [==============================] - 0s 9ms/step - loss: 19616152.0000 - val_loss: 21171282.0000\n",
      "Epoch 243/300\n",
      "37/37 [==============================] - 0s 8ms/step - loss: 19599402.0000 - val_loss: 21165466.0000\n",
      "Epoch 244/300\n",
      "37/37 [==============================] - 0s 7ms/step - loss: 19598698.0000 - val_loss: 21102820.0000\n",
      "Epoch 245/300\n",
      "37/37 [==============================] - 0s 6ms/step - loss: 19619950.0000 - val_loss: 21180438.0000\n",
      "Epoch 246/300\n",
      "37/37 [==============================] - 0s 6ms/step - loss: 19594692.0000 - val_loss: 21070892.0000\n",
      "Epoch 247/300\n",
      "37/37 [==============================] - 0s 6ms/step - loss: 19538130.0000 - val_loss: 21114256.0000\n",
      "Epoch 248/300\n",
      "37/37 [==============================] - 0s 9ms/step - loss: 19547490.0000 - val_loss: 21120480.0000\n",
      "Epoch 249/300\n",
      "37/37 [==============================] - 0s 7ms/step - loss: 19519484.0000 - val_loss: 21039516.0000\n",
      "Epoch 250/300\n",
      "37/37 [==============================] - 0s 12ms/step - loss: 19510944.0000 - val_loss: 21045032.0000\n",
      "Epoch 251/300\n",
      "37/37 [==============================] - 0s 11ms/step - loss: 19487648.0000 - val_loss: 21007346.0000\n",
      "Epoch 252/300\n",
      "37/37 [==============================] - 0s 11ms/step - loss: 19489966.0000 - val_loss: 21019084.0000\n",
      "Epoch 253/300\n",
      "37/37 [==============================] - 0s 11ms/step - loss: 19461662.0000 - val_loss: 20985562.0000\n",
      "Epoch 254/300\n",
      "37/37 [==============================] - 0s 11ms/step - loss: 19452434.0000 - val_loss: 21010950.0000\n",
      "Epoch 255/300\n",
      "37/37 [==============================] - 0s 11ms/step - loss: 19436378.0000 - val_loss: 20968428.0000\n",
      "Epoch 256/300\n",
      "37/37 [==============================] - 0s 11ms/step - loss: 19446248.0000 - val_loss: 20965548.0000\n",
      "Epoch 257/300\n",
      "37/37 [==============================] - 0s 10ms/step - loss: 19405108.0000 - val_loss: 20936568.0000\n",
      "Epoch 258/300\n",
      "37/37 [==============================] - 0s 11ms/step - loss: 19398118.0000 - val_loss: 20938972.0000\n",
      "Epoch 259/300\n",
      "37/37 [==============================] - 0s 11ms/step - loss: 19392262.0000 - val_loss: 20913082.0000\n",
      "Epoch 260/300\n",
      "37/37 [==============================] - 0s 11ms/step - loss: 19379358.0000 - val_loss: 20902530.0000\n",
      "Epoch 261/300\n",
      "37/37 [==============================] - 0s 12ms/step - loss: 19376096.0000 - val_loss: 20887126.0000\n",
      "Epoch 262/300\n",
      "37/37 [==============================] - 0s 11ms/step - loss: 19346488.0000 - val_loss: 20922390.0000\n",
      "Epoch 263/300\n",
      "37/37 [==============================] - 0s 10ms/step - loss: 19342768.0000 - val_loss: 20879904.0000\n",
      "Epoch 264/300\n",
      "37/37 [==============================] - 0s 10ms/step - loss: 19322346.0000 - val_loss: 20856962.0000\n",
      "Epoch 265/300\n",
      "37/37 [==============================] - 0s 11ms/step - loss: 19299736.0000 - val_loss: 20860674.0000\n",
      "Epoch 266/300\n",
      "37/37 [==============================] - 0s 11ms/step - loss: 19296116.0000 - val_loss: 20829996.0000\n",
      "Epoch 267/300\n",
      "37/37 [==============================] - 0s 11ms/step - loss: 19276982.0000 - val_loss: 20820394.0000\n",
      "Epoch 268/300\n",
      "37/37 [==============================] - 0s 11ms/step - loss: 19280766.0000 - val_loss: 20848426.0000\n",
      "Epoch 269/300\n",
      "37/37 [==============================] - 0s 11ms/step - loss: 19288814.0000 - val_loss: 20870276.0000\n",
      "Epoch 270/300\n",
      "37/37 [==============================] - 0s 11ms/step - loss: 19264494.0000 - val_loss: 20786930.0000\n",
      "Epoch 271/300\n",
      "37/37 [==============================] - 0s 11ms/step - loss: 19221042.0000 - val_loss: 20775726.0000\n",
      "Epoch 272/300\n",
      "37/37 [==============================] - 0s 11ms/step - loss: 19205084.0000 - val_loss: 20781328.0000\n",
      "Epoch 273/300\n",
      "37/37 [==============================] - 0s 11ms/step - loss: 19203930.0000 - val_loss: 20753666.0000\n",
      "Epoch 274/300\n",
      "37/37 [==============================] - 0s 10ms/step - loss: 19184288.0000 - val_loss: 20739726.0000\n",
      "Epoch 275/300\n",
      "37/37 [==============================] - 0s 10ms/step - loss: 19177312.0000 - val_loss: 20732068.0000\n",
      "Epoch 276/300\n",
      "37/37 [==============================] - 0s 11ms/step - loss: 19176824.0000 - val_loss: 20714120.0000\n",
      "Epoch 277/300\n",
      "37/37 [==============================] - 0s 7ms/step - loss: 19159338.0000 - val_loss: 20718338.0000\n",
      "Epoch 278/300\n",
      "37/37 [==============================] - 0s 5ms/step - loss: 19147808.0000 - val_loss: 20702196.0000\n",
      "Epoch 279/300\n",
      "37/37 [==============================] - 0s 9ms/step - loss: 19118564.0000 - val_loss: 20721534.0000\n",
      "Epoch 280/300\n",
      "37/37 [==============================] - 0s 11ms/step - loss: 19125988.0000 - val_loss: 20680934.0000\n",
      "Epoch 281/300\n",
      "37/37 [==============================] - 0s 10ms/step - loss: 19107456.0000 - val_loss: 20671340.0000\n",
      "Epoch 282/300\n",
      "37/37 [==============================] - 0s 10ms/step - loss: 19097452.0000 - val_loss: 20660916.0000\n",
      "Epoch 283/300\n",
      "37/37 [==============================] - 0s 11ms/step - loss: 19110186.0000 - val_loss: 20643298.0000\n",
      "Epoch 284/300\n",
      "37/37 [==============================] - 0s 11ms/step - loss: 19115790.0000 - val_loss: 20641890.0000\n"
     ]
    },
    {
     "name": "stdout",
     "output_type": "stream",
     "text": [
      "Epoch 285/300\n",
      "37/37 [==============================] - 0s 10ms/step - loss: 19077338.0000 - val_loss: 20629640.0000\n",
      "Epoch 286/300\n",
      "37/37 [==============================] - 0s 9ms/step - loss: 19086728.0000 - val_loss: 20662668.0000\n",
      "Epoch 287/300\n",
      "37/37 [==============================] - 0s 7ms/step - loss: 19054410.0000 - val_loss: 20617624.0000\n",
      "Epoch 288/300\n",
      "37/37 [==============================] - 0s 7ms/step - loss: 19028272.0000 - val_loss: 20618514.0000\n",
      "Epoch 289/300\n",
      "37/37 [==============================] - 0s 11ms/step - loss: 19032076.0000 - val_loss: 20578346.0000\n",
      "Epoch 290/300\n",
      "37/37 [==============================] - 0s 11ms/step - loss: 19012196.0000 - val_loss: 20590610.0000\n",
      "Epoch 291/300\n",
      "37/37 [==============================] - 0s 11ms/step - loss: 19027096.0000 - val_loss: 20642472.0000\n",
      "Epoch 292/300\n",
      "37/37 [==============================] - 0s 11ms/step - loss: 19022900.0000 - val_loss: 20581652.0000\n",
      "Epoch 293/300\n",
      "37/37 [==============================] - 0s 11ms/step - loss: 18997652.0000 - val_loss: 20560648.0000\n",
      "Epoch 294/300\n",
      "37/37 [==============================] - 0s 11ms/step - loss: 18991596.0000 - val_loss: 20540074.0000\n",
      "Epoch 295/300\n",
      "37/37 [==============================] - 0s 11ms/step - loss: 18977122.0000 - val_loss: 20522682.0000\n",
      "Epoch 296/300\n",
      "37/37 [==============================] - 0s 9ms/step - loss: 18971002.0000 - val_loss: 20524664.0000\n",
      "Epoch 297/300\n",
      "37/37 [==============================] - 0s 9ms/step - loss: 18963144.0000 - val_loss: 20503098.0000\n",
      "Epoch 298/300\n",
      "37/37 [==============================] - 0s 8ms/step - loss: 18945642.0000 - val_loss: 20568468.0000\n",
      "Epoch 299/300\n",
      "37/37 [==============================] - 0s 9ms/step - loss: 18971046.0000 - val_loss: 20482790.0000\n",
      "Epoch 300/300\n",
      "37/37 [==============================] - 0s 8ms/step - loss: 18940686.0000 - val_loss: 20477562.0000\n"
     ]
    },
    {
     "data": {
      "text/plain": [
       "<keras.src.callbacks.History at 0x1be90e3a790>"
      ]
     },
     "execution_count": 47,
     "metadata": {},
     "output_type": "execute_result"
    }
   ],
   "source": [
    "model.fit(x=x_train,y=y_train,validation_data=(x_test,y_test),batch_size=250,epochs=300)"
   ]
  },
  {
   "cell_type": "code",
   "execution_count": 48,
   "id": "1da25136",
   "metadata": {},
   "outputs": [],
   "source": [
    "kayipVerisi=pd.DataFrame(model.history.history)"
   ]
  },
  {
   "cell_type": "code",
   "execution_count": 49,
   "id": "2789a108",
   "metadata": {},
   "outputs": [
    {
     "data": {
      "text/html": [
       "<div>\n",
       "<style scoped>\n",
       "    .dataframe tbody tr th:only-of-type {\n",
       "        vertical-align: middle;\n",
       "    }\n",
       "\n",
       "    .dataframe tbody tr th {\n",
       "        vertical-align: top;\n",
       "    }\n",
       "\n",
       "    .dataframe thead th {\n",
       "        text-align: right;\n",
       "    }\n",
       "</style>\n",
       "<table border=\"1\" class=\"dataframe\">\n",
       "  <thead>\n",
       "    <tr style=\"text-align: right;\">\n",
       "      <th></th>\n",
       "      <th>loss</th>\n",
       "      <th>val_loss</th>\n",
       "    </tr>\n",
       "  </thead>\n",
       "  <tbody>\n",
       "    <tr>\n",
       "      <th>0</th>\n",
       "      <td>672144960.0</td>\n",
       "      <td>688100864.0</td>\n",
       "    </tr>\n",
       "    <tr>\n",
       "      <th>1</th>\n",
       "      <td>672119616.0</td>\n",
       "      <td>688059008.0</td>\n",
       "    </tr>\n",
       "    <tr>\n",
       "      <th>2</th>\n",
       "      <td>672035968.0</td>\n",
       "      <td>687901824.0</td>\n",
       "    </tr>\n",
       "    <tr>\n",
       "      <th>3</th>\n",
       "      <td>671741376.0</td>\n",
       "      <td>687374272.0</td>\n",
       "    </tr>\n",
       "    <tr>\n",
       "      <th>4</th>\n",
       "      <td>670798272.0</td>\n",
       "      <td>685778368.0</td>\n",
       "    </tr>\n",
       "  </tbody>\n",
       "</table>\n",
       "</div>"
      ],
      "text/plain": [
       "          loss     val_loss\n",
       "0  672144960.0  688100864.0\n",
       "1  672119616.0  688059008.0\n",
       "2  672035968.0  687901824.0\n",
       "3  671741376.0  687374272.0\n",
       "4  670798272.0  685778368.0"
      ]
     },
     "execution_count": 49,
     "metadata": {},
     "output_type": "execute_result"
    }
   ],
   "source": [
    "kayipVerisi.head()"
   ]
  },
  {
   "cell_type": "code",
   "execution_count": 50,
   "id": "d3429a78",
   "metadata": {},
   "outputs": [
    {
     "data": {
      "text/plain": [
       "<Axes: >"
      ]
     },
     "execution_count": 50,
     "metadata": {},
     "output_type": "execute_result"
    },
    {
     "data": {
      "image/png": "[encoded data removed]",
      "text/plain": [
       "<Figure size 640x480 with 1 Axes>"
      ]
     },
     "metadata": {},
     "output_type": "display_data"
    }
   ],
   "source": [
    "kayipVerisi.plot()"
   ]
  },
  {
   "cell_type": "code",
   "execution_count": 51,
   "id": "8c6e2fb6",
   "metadata": {},
   "outputs": [],
   "source": [
    "from sklearn.metrics import mean_squared_error,mean_absolute_error"
   ]
  },
  {
   "cell_type": "code",
   "execution_count": 52,
   "id": "45b7196f",
   "metadata": {},
   "outputs": [
    {
     "name": "stdout",
     "output_type": "stream",
     "text": [
      "122/122 [==============================] - 0s 2ms/step\n"
     ]
    }
   ],
   "source": [
    "tahminDizisi=model.predict(x_test)"
   ]
  },
  {
   "cell_type": "code",
   "execution_count": 53,
   "id": "fbdd0985",
   "metadata": {},
   "outputs": [
    {
     "data": {
      "text/plain": [
       "array([[21206.34 ],\n",
       "       [22829.107],\n",
       "       [24537.686],\n",
       "       ...,\n",
       "       [26085.398],\n",
       "       [13273.648],\n",
       "       [24462.479]], dtype=float32)"
      ]
     },
     "execution_count": 53,
     "metadata": {},
     "output_type": "execute_result"
    }
   ],
   "source": [
    "tahminDizisi"
   ]
  },
  {
   "cell_type": "code",
   "execution_count": 54,
   "id": "710474ad",
   "metadata": {},
   "outputs": [
    {
     "data": {
      "text/plain": [
       "3216.2558154898297"
      ]
     },
     "execution_count": 54,
     "metadata": {},
     "output_type": "execute_result"
    }
   ],
   "source": [
    "mean_absolute_error(y_test,tahminDizisi)"
   ]
  },
  {
   "cell_type": "code",
   "execution_count": 55,
   "id": "727f5068",
   "metadata": {},
   "outputs": [
    {
     "data": {
      "text/html": [
       "<div>\n",
       "<style scoped>\n",
       "    .dataframe tbody tr th:only-of-type {\n",
       "        vertical-align: middle;\n",
       "    }\n",
       "\n",
       "    .dataframe tbody tr th {\n",
       "        vertical-align: top;\n",
       "    }\n",
       "\n",
       "    .dataframe thead th {\n",
       "        text-align: right;\n",
       "    }\n",
       "</style>\n",
       "<table border=\"1\" class=\"dataframe\">\n",
       "  <thead>\n",
       "    <tr style=\"text-align: right;\">\n",
       "      <th></th>\n",
       "      <th>year</th>\n",
       "      <th>price</th>\n",
       "      <th>mileage</th>\n",
       "      <th>tax</th>\n",
       "      <th>mpg</th>\n",
       "      <th>engineSize</th>\n",
       "    </tr>\n",
       "  </thead>\n",
       "  <tbody>\n",
       "    <tr>\n",
       "      <th>count</th>\n",
       "      <td>12987.000000</td>\n",
       "      <td>12987.000000</td>\n",
       "      <td>12987.000000</td>\n",
       "      <td>12987.000000</td>\n",
       "      <td>12987.000000</td>\n",
       "      <td>12987.000000</td>\n",
       "    </tr>\n",
       "    <tr>\n",
       "      <th>mean</th>\n",
       "      <td>2017.285516</td>\n",
       "      <td>24074.855779</td>\n",
       "      <td>22133.367367</td>\n",
       "      <td>129.676215</td>\n",
       "      <td>55.438392</td>\n",
       "      <td>2.051059</td>\n",
       "    </tr>\n",
       "    <tr>\n",
       "      <th>std</th>\n",
       "      <td>2.189633</td>\n",
       "      <td>9866.601115</td>\n",
       "      <td>21197.472376</td>\n",
       "      <td>65.167429</td>\n",
       "      <td>15.025902</td>\n",
       "      <td>0.532313</td>\n",
       "    </tr>\n",
       "    <tr>\n",
       "      <th>min</th>\n",
       "      <td>1997.000000</td>\n",
       "      <td>650.000000</td>\n",
       "      <td>1.000000</td>\n",
       "      <td>0.000000</td>\n",
       "      <td>1.100000</td>\n",
       "      <td>0.000000</td>\n",
       "    </tr>\n",
       "    <tr>\n",
       "      <th>25%</th>\n",
       "      <td>2016.000000</td>\n",
       "      <td>17355.000000</td>\n",
       "      <td>6320.000000</td>\n",
       "      <td>125.000000</td>\n",
       "      <td>45.600000</td>\n",
       "      <td>1.700000</td>\n",
       "    </tr>\n",
       "    <tr>\n",
       "      <th>50%</th>\n",
       "      <td>2018.000000</td>\n",
       "      <td>22299.000000</td>\n",
       "      <td>15371.000000</td>\n",
       "      <td>145.000000</td>\n",
       "      <td>56.500000</td>\n",
       "      <td>2.000000</td>\n",
       "    </tr>\n",
       "    <tr>\n",
       "      <th>75%</th>\n",
       "      <td>2019.000000</td>\n",
       "      <td>28706.000000</td>\n",
       "      <td>31986.500000</td>\n",
       "      <td>145.000000</td>\n",
       "      <td>64.200000</td>\n",
       "      <td>2.100000</td>\n",
       "    </tr>\n",
       "    <tr>\n",
       "      <th>max</th>\n",
       "      <td>2020.000000</td>\n",
       "      <td>65990.000000</td>\n",
       "      <td>259000.000000</td>\n",
       "      <td>580.000000</td>\n",
       "      <td>217.300000</td>\n",
       "      <td>6.200000</td>\n",
       "    </tr>\n",
       "  </tbody>\n",
       "</table>\n",
       "</div>"
      ],
      "text/plain": [
       "               year         price        mileage           tax           mpg  \\\n",
       "count  12987.000000  12987.000000   12987.000000  12987.000000  12987.000000   \n",
       "mean    2017.285516  24074.855779   22133.367367    129.676215     55.438392   \n",
       "std        2.189633   9866.601115   21197.472376     65.167429     15.025902   \n",
       "min     1997.000000    650.000000       1.000000      0.000000      1.100000   \n",
       "25%     2016.000000  17355.000000    6320.000000    125.000000     45.600000   \n",
       "50%     2018.000000  22299.000000   15371.000000    145.000000     56.500000   \n",
       "75%     2019.000000  28706.000000   31986.500000    145.000000     64.200000   \n",
       "max     2020.000000  65990.000000  259000.000000    580.000000    217.300000   \n",
       "\n",
       "         engineSize  \n",
       "count  12987.000000  \n",
       "mean       2.051059  \n",
       "std        0.532313  \n",
       "min        0.000000  \n",
       "25%        1.700000  \n",
       "50%        2.000000  \n",
       "75%        2.100000  \n",
       "max        6.200000  "
      ]
     },
     "execution_count": 55,
     "metadata": {},
     "output_type": "execute_result"
    }
   ],
   "source": [
    "dataFrame.describe()"
   ]
  },
  {
   "cell_type": "code",
   "execution_count": 59,
   "id": "d6c3d471",
   "metadata": {},
   "outputs": [
    {
     "data": {
      "text/plain": [
       "[<matplotlib.lines.Line2D at 0x1be991e0210>]"
      ]
     },
     "execution_count": 59,
     "metadata": {},
     "output_type": "execute_result"
    },
    {
     "data": {
      "image/png": "[encoded data removed]",
      "text/plain": [
       "<Figure size 640x480 with 1 Axes>"
      ]
     },
     "metadata": {},
     "output_type": "display_data"
    }
   ],
   "source": [
    "plt.scatter(y_test,tahminDizisi)\n",
    "plt.plot(y_test,y_test,\"g-*\")"
   ]
  },
  {
   "cell_type": "code",
   "execution_count": 60,
   "id": "5e53ad8a",
   "metadata": {},
   "outputs": [
    {
     "data": {
      "text/plain": [
       "year           2020.0\n",
       "price         65980.0\n",
       "mileage        3999.0\n",
       "tax             145.0\n",
       "mpg              28.0\n",
       "engineSize        4.0\n",
       "Name: 3191, dtype: float64"
      ]
     },
     "execution_count": 60,
     "metadata": {},
     "output_type": "execute_result"
    }
   ],
   "source": [
    "dataFrame.iloc[2]"
   ]
  },
  {
   "cell_type": "code",
   "execution_count": 61,
   "id": "5ba0e124",
   "metadata": {},
   "outputs": [],
   "source": [
    "yeniArabDf=dataFrame.drop(\"price\",axis=1).iloc[2]"
   ]
  },
  {
   "cell_type": "code",
   "execution_count": 63,
   "id": "b320e449",
   "metadata": {},
   "outputs": [
    {
     "data": {
      "text/plain": [
       "pandas.core.series.Series"
      ]
     },
     "execution_count": 63,
     "metadata": {},
     "output_type": "execute_result"
    }
   ],
   "source": [
    "type(yeniArabDf)"
   ]
  },
  {
   "cell_type": "code",
   "execution_count": 65,
   "id": "4d54c5b1",
   "metadata": {},
   "outputs": [],
   "source": [
    "yeniArabDf=scaler.transform(yeniArabDf.values.reshape(-1,5))"
   ]
  },
  {
   "cell_type": "code",
   "execution_count": 66,
   "id": "c22f6422",
   "metadata": {},
   "outputs": [
    {
     "name": "stdout",
     "output_type": "stream",
     "text": [
      "1/1 [==============================] - 0s 50ms/step\n"
     ]
    },
    {
     "data": {
      "text/plain": [
       "array([[62139.934]], dtype=float32)"
      ]
     },
     "execution_count": 66,
     "metadata": {},
     "output_type": "execute_result"
    }
   ],
   "source": [
    "model.predict(yeniArabDf)"
   ]
  },
  {
   "cell_type": "markdown",
   "id": "36da9cc5",
   "metadata": {},
   "source": [
    " ## type markdown latex a**2"
   ]
  },
  {
   "cell_type": "code",
   "execution_count": null,
   "id": "97b2b3a8",
   "metadata": {},
   "outputs": [],
   "source": []
  }
 ],
 "metadata": {
  "kernelspec": {
   "display_name": "Python 3 (ipykernel)",
   "language": "python",
   "name": "python3"
  },
  "language_info": {
   "codemirror_mode": {
    "name": "ipython",
    "version": 3
   },
   "file_extension": ".py",
   "mimetype": "text/x-python",
   "name": "python",
   "nbconvert_exporter": "python",
   "pygments_lexer": "ipython3",
   "version": "3.11.4"
  }
 },
 "nbformat": 4,
 "nbformat_minor": 5
}
