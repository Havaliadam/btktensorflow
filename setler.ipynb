{
 "cells": [
  {
   "cell_type": "code",
   "execution_count": 3,
   "id": "cac1e847",
   "metadata": {},
   "outputs": [],
   "source": [
    "benimlistem=[1,2,3,1,2,3]"
   ]
  },
  {
   "cell_type": "code",
   "execution_count": 5,
   "id": "daab4ec5",
   "metadata": {},
   "outputs": [
    {
     "data": {
      "text/plain": [
       "[1, 2, 3, 1, 2, 3]"
      ]
     },
     "execution_count": 5,
     "metadata": {},
     "output_type": "execute_result"
    }
   ],
   "source": [
    "benimlistem"
   ]
  },
  {
   "cell_type": "code",
   "execution_count": 6,
   "id": "f2159b68",
   "metadata": {},
   "outputs": [],
   "source": [
    "benimlistesetim=set(benimlistem)"
   ]
  },
  {
   "cell_type": "code",
   "execution_count": 7,
   "id": "6f64031f",
   "metadata": {},
   "outputs": [
    {
     "data": {
      "text/plain": [
       "list"
      ]
     },
     "execution_count": 7,
     "metadata": {},
     "output_type": "execute_result"
    }
   ],
   "source": [
    "type(benimlistem)"
   ]
  },
  {
   "cell_type": "code",
   "execution_count": 8,
   "id": "2b54603f",
   "metadata": {},
   "outputs": [
    {
     "data": {
      "text/plain": [
       "set"
      ]
     },
     "execution_count": 8,
     "metadata": {},
     "output_type": "execute_result"
    }
   ],
   "source": [
    "type(benimlistesetim)"
   ]
  },
  {
   "cell_type": "code",
   "execution_count": 9,
   "id": "ccacc548",
   "metadata": {},
   "outputs": [
    {
     "data": {
      "text/plain": [
       "{1, 2, 3}"
      ]
     },
     "execution_count": 9,
     "metadata": {},
     "output_type": "execute_result"
    }
   ],
   "source": [
    "benimlistesetim"
   ]
  },
  {
   "cell_type": "code",
   "execution_count": 12,
   "id": "524df657",
   "metadata": {},
   "outputs": [],
   "source": [
    "benset={\"a\",\"b\",\"c\",\"a\"}"
   ]
  },
  {
   "cell_type": "code",
   "execution_count": 13,
   "id": "ec1e6d42",
   "metadata": {},
   "outputs": [
    {
     "data": {
      "text/plain": [
       "set"
      ]
     },
     "execution_count": 13,
     "metadata": {},
     "output_type": "execute_result"
    }
   ],
   "source": [
    "type(benset)"
   ]
  },
  {
   "cell_type": "code",
   "execution_count": 14,
   "id": "ca49ffd7",
   "metadata": {},
   "outputs": [
    {
     "data": {
      "text/plain": [
       "{'a', 'b', 'c'}"
      ]
     },
     "execution_count": 14,
     "metadata": {},
     "output_type": "execute_result"
    }
   ],
   "source": [
    "benset"
   ]
  },
  {
   "cell_type": "code",
   "execution_count": 15,
   "id": "5e33143e",
   "metadata": {},
   "outputs": [],
   "source": [
    "bosliste=[]"
   ]
  },
  {
   "cell_type": "code",
   "execution_count": 16,
   "id": "19a1e7c6",
   "metadata": {},
   "outputs": [
    {
     "data": {
      "text/plain": [
       "list"
      ]
     },
     "execution_count": 16,
     "metadata": {},
     "output_type": "execute_result"
    }
   ],
   "source": [
    "type(bosliste)"
   ]
  },
  {
   "cell_type": "code",
   "execution_count": 17,
   "id": "97f5f94f",
   "metadata": {},
   "outputs": [
    {
     "data": {
      "text/plain": [
       "[]"
      ]
     },
     "execution_count": 17,
     "metadata": {},
     "output_type": "execute_result"
    }
   ],
   "source": [
    "bosliste"
   ]
  },
  {
   "cell_type": "code",
   "execution_count": 18,
   "id": "9166eac7",
   "metadata": {},
   "outputs": [],
   "source": [
    "bosliste.append(1)"
   ]
  },
  {
   "cell_type": "code",
   "execution_count": 19,
   "id": "0994146b",
   "metadata": {},
   "outputs": [
    {
     "data": {
      "text/plain": [
       "[1]"
      ]
     },
     "execution_count": 19,
     "metadata": {},
     "output_type": "execute_result"
    }
   ],
   "source": [
    "bosliste"
   ]
  },
  {
   "cell_type": "code",
   "execution_count": 20,
   "id": "358120f8",
   "metadata": {},
   "outputs": [],
   "source": [
    "bosset={}"
   ]
  },
  {
   "cell_type": "code",
   "execution_count": 21,
   "id": "6ec9b444",
   "metadata": {},
   "outputs": [
    {
     "data": {
      "text/plain": [
       "dict"
      ]
     },
     "execution_count": 21,
     "metadata": {},
     "output_type": "execute_result"
    }
   ],
   "source": [
    "type(bosset)"
   ]
  },
  {
   "cell_type": "code",
   "execution_count": 22,
   "id": "34907424",
   "metadata": {},
   "outputs": [],
   "source": [
    "bosset[\"anahtarkelime\"]=10"
   ]
  },
  {
   "cell_type": "code",
   "execution_count": 23,
   "id": "8a72599c",
   "metadata": {},
   "outputs": [
    {
     "data": {
      "text/plain": [
       "{'anahtarkelime': 10}"
      ]
     },
     "execution_count": 23,
     "metadata": {},
     "output_type": "execute_result"
    }
   ],
   "source": [
    "bosset"
   ]
  },
  {
   "cell_type": "code",
   "execution_count": 24,
   "id": "bc8679d9",
   "metadata": {},
   "outputs": [],
   "source": [
    "benimbossetim=set()"
   ]
  },
  {
   "cell_type": "code",
   "execution_count": 25,
   "id": "d793846c",
   "metadata": {},
   "outputs": [
    {
     "data": {
      "text/plain": [
       "set()"
      ]
     },
     "execution_count": 25,
     "metadata": {},
     "output_type": "execute_result"
    }
   ],
   "source": [
    "benimbossetim"
   ]
  },
  {
   "cell_type": "code",
   "execution_count": 26,
   "id": "6873a713",
   "metadata": {},
   "outputs": [],
   "source": [
    "benimbossetim.add(10)"
   ]
  },
  {
   "cell_type": "code",
   "execution_count": 27,
   "id": "b1f5a6ee",
   "metadata": {},
   "outputs": [],
   "source": [
    "benimbossetim.add(10)"
   ]
  },
  {
   "cell_type": "code",
   "execution_count": 28,
   "id": "34d502b1",
   "metadata": {},
   "outputs": [],
   "source": [
    "benimbossetim.add(20)"
   ]
  },
  {
   "cell_type": "code",
   "execution_count": 29,
   "id": "5c102194",
   "metadata": {},
   "outputs": [
    {
     "data": {
      "text/plain": [
       "{10, 20}"
      ]
     },
     "execution_count": 29,
     "metadata": {},
     "output_type": "execute_result"
    }
   ],
   "source": [
    "benimbossetim"
   ]
  },
  {
   "cell_type": "code",
   "execution_count": 33,
   "id": "c896b646",
   "metadata": {},
   "outputs": [],
   "source": [
    "benset=list()"
   ]
  },
  {
   "cell_type": "code",
   "execution_count": 35,
   "id": "83a6f1ab",
   "metadata": {},
   "outputs": [],
   "source": [
    "benset.append(10)"
   ]
  },
  {
   "cell_type": "code",
   "execution_count": 36,
   "id": "49ea1e50",
   "metadata": {},
   "outputs": [
    {
     "data": {
      "text/plain": [
       "[10]"
      ]
     },
     "execution_count": 36,
     "metadata": {},
     "output_type": "execute_result"
    }
   ],
   "source": [
    "benset"
   ]
  },
  {
   "cell_type": "code",
   "execution_count": 37,
   "id": "e8554155",
   "metadata": {},
   "outputs": [],
   "source": [
    "benimbossozlul=dict()"
   ]
  },
  {
   "cell_type": "code",
   "execution_count": 38,
   "id": "47b2ca5f",
   "metadata": {},
   "outputs": [],
   "source": [
    "benimbossozlul[\"key\"]=1234"
   ]
  },
  {
   "cell_type": "code",
   "execution_count": 39,
   "id": "40fd2e50",
   "metadata": {},
   "outputs": [
    {
     "data": {
      "text/plain": [
       "{'key': 1234}"
      ]
     },
     "execution_count": 39,
     "metadata": {},
     "output_type": "execute_result"
    }
   ],
   "source": [
    "benimbossozlul"
   ]
  },
  {
   "cell_type": "code",
   "execution_count": null,
   "id": "a815135d",
   "metadata": {},
   "outputs": [],
   "source": []
  }
 ],
 "metadata": {
  "kernelspec": {
   "display_name": "Python 3 (ipykernel)",
   "language": "python",
   "name": "python3"
  },
  "language_info": {
   "codemirror_mode": {
    "name": "ipython",
    "version": 3
   },
   "file_extension": ".py",
   "mimetype": "text/x-python",
   "name": "python",
   "nbconvert_exporter": "python",
   "pygments_lexer": "ipython3",
   "version": "3.11.4"
  }
 },
 "nbformat": 4,
 "nbformat_minor": 5
}
