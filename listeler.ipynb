{
 "cells": [
  {
   "cell_type": "code",
   "execution_count": 1,
   "id": "e6264b86",
   "metadata": {},
   "outputs": [],
   "source": [
    "benimString=\"ayhan çelik\""
   ]
  },
  {
   "cell_type": "code",
   "execution_count": 2,
   "id": "0a35bb0b",
   "metadata": {},
   "outputs": [
    {
     "data": {
      "text/plain": [
       "'a'"
      ]
     },
     "execution_count": 2,
     "metadata": {},
     "output_type": "execute_result"
    }
   ],
   "source": [
    "benimString[3]"
   ]
  },
  {
   "cell_type": "code",
   "execution_count": 3,
   "id": "fcc49526",
   "metadata": {},
   "outputs": [],
   "source": [
    "#imutability"
   ]
  },
  {
   "cell_type": "code",
   "execution_count": 5,
   "id": "91ec9408",
   "metadata": {},
   "outputs": [],
   "source": [
    "#benimString[0]=\"b\""
   ]
  },
  {
   "cell_type": "code",
   "execution_count": 6,
   "id": "50c7161a",
   "metadata": {},
   "outputs": [],
   "source": [
    "benimListem=[10,20,30,40]"
   ]
  },
  {
   "cell_type": "code",
   "execution_count": 7,
   "id": "459eae85",
   "metadata": {},
   "outputs": [
    {
     "data": {
      "text/plain": [
       "[10, 20, 30, 40]"
      ]
     },
     "execution_count": 7,
     "metadata": {},
     "output_type": "execute_result"
    }
   ],
   "source": [
    "benimListem"
   ]
  },
  {
   "cell_type": "code",
   "execution_count": 8,
   "id": "ffb489f3",
   "metadata": {},
   "outputs": [
    {
     "data": {
      "text/plain": [
       "list"
      ]
     },
     "execution_count": 8,
     "metadata": {},
     "output_type": "execute_result"
    }
   ],
   "source": [
    "type(benimListem)"
   ]
  },
  {
   "cell_type": "code",
   "execution_count": 9,
   "id": "e48c2faf",
   "metadata": {},
   "outputs": [],
   "source": [
    "benimNumaram=10\n",
    "benimDigernumaran=20"
   ]
  },
  {
   "cell_type": "code",
   "execution_count": 12,
   "id": "0a3afd0e",
   "metadata": {},
   "outputs": [],
   "source": [
    "benimnnumaraliste=[benimNumaram,benimDigernumaran]"
   ]
  },
  {
   "cell_type": "code",
   "execution_count": 14,
   "id": "6e928428",
   "metadata": {},
   "outputs": [
    {
     "data": {
      "text/plain": [
       "10"
      ]
     },
     "execution_count": 14,
     "metadata": {},
     "output_type": "execute_result"
    }
   ],
   "source": [
    "benimnnumaraliste[0]"
   ]
  },
  {
   "cell_type": "code",
   "execution_count": 15,
   "id": "5a369594",
   "metadata": {},
   "outputs": [
    {
     "data": {
      "text/plain": [
       "[10, 20, 30, 40]"
      ]
     },
     "execution_count": 15,
     "metadata": {},
     "output_type": "execute_result"
    }
   ],
   "source": [
    "benimListem"
   ]
  },
  {
   "cell_type": "code",
   "execution_count": 16,
   "id": "70acbfff",
   "metadata": {},
   "outputs": [],
   "source": [
    "benimListem[0]=100"
   ]
  },
  {
   "cell_type": "code",
   "execution_count": 18,
   "id": "629af009",
   "metadata": {},
   "outputs": [],
   "source": [
    "benimListem.append(50)"
   ]
  },
  {
   "cell_type": "code",
   "execution_count": 19,
   "id": "420230a9",
   "metadata": {},
   "outputs": [
    {
     "data": {
      "text/plain": [
       "[100, 20, 30, 40, 50]"
      ]
     },
     "execution_count": 19,
     "metadata": {},
     "output_type": "execute_result"
    }
   ],
   "source": [
    "benimListem"
   ]
  },
  {
   "cell_type": "code",
   "execution_count": 20,
   "id": "05378f06",
   "metadata": {},
   "outputs": [
    {
     "data": {
      "text/plain": [
       "[100, 20, 30, 40, 50]"
      ]
     },
     "execution_count": 20,
     "metadata": {},
     "output_type": "execute_result"
    }
   ],
   "source": [
    "benimListem"
   ]
  },
  {
   "cell_type": "code",
   "execution_count": null,
   "id": "75a1e59e",
   "metadata": {},
   "outputs": [],
   "source": [
    "be"
   ]
  }
 ],
 "metadata": {
  "kernelspec": {
   "display_name": "Python 3 (ipykernel)",
   "language": "python",
   "name": "python3"
  },
  "language_info": {
   "codemirror_mode": {
    "name": "ipython",
    "version": 3
   },
   "file_extension": ".py",
   "mimetype": "text/x-python",
   "name": "python",
   "nbconvert_exporter": "python",
   "pygments_lexer": "ipython3",
   "version": "3.11.4"
  }
 },
 "nbformat": 4,
 "nbformat_minor": 5
}
