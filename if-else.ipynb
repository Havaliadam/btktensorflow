{
 "cells": [
  {
   "cell_type": "code",
   "execution_count": 1,
   "id": "fd5505b3",
   "metadata": {},
   "outputs": [
    {
     "data": {
      "text/plain": [
       "True"
      ]
     },
     "execution_count": 1,
     "metadata": {},
     "output_type": "execute_result"
    }
   ],
   "source": [
    "3>1"
   ]
  },
  {
   "cell_type": "code",
   "execution_count": 2,
   "id": "e7b216d1",
   "metadata": {},
   "outputs": [
    {
     "name": "stdout",
     "output_type": "stream",
     "text": [
      "büyüktür\n"
     ]
    }
   ],
   "source": [
    "if 3>1:\n",
    "    print(\"büyüktür\")    \n",
    "else:\n",
    "    print(\"küçüktür\")"
   ]
  },
  {
   "cell_type": "code",
   "execution_count": 3,
   "id": "26839373",
   "metadata": {},
   "outputs": [],
   "source": [
    "x=4"
   ]
  },
  {
   "cell_type": "code",
   "execution_count": 6,
   "id": "8ce3bbb1",
   "metadata": {},
   "outputs": [],
   "source": [
    "y=4"
   ]
  },
  {
   "cell_type": "code",
   "execution_count": 7,
   "id": "c857858c",
   "metadata": {},
   "outputs": [
    {
     "name": "stdout",
     "output_type": "stream",
     "text": [
      "x ve y eşittir\n"
     ]
    }
   ],
   "source": [
    "if x>y:\n",
    "    print(\"x,y den büyüktür\")\n",
    "elif x<y:\n",
    "    print(\"y,x den büyüktür\")\n",
    "else:\n",
    "    print(\"x ve y eşittir\")"
   ]
  },
  {
   "cell_type": "code",
   "execution_count": 12,
   "id": "8f54fc8c",
   "metadata": {},
   "outputs": [
    {
     "name": "stdout",
     "output_type": "stream",
     "text": [
      "süper kahraman seçiniz:kemal sunal\n"
     ]
    }
   ],
   "source": [
    "benimkahraman=input(\"süper kahraman seçiniz:\")"
   ]
  },
  {
   "cell_type": "code",
   "execution_count": 13,
   "id": "ae7008b0",
   "metadata": {},
   "outputs": [
    {
     "name": "stdout",
     "output_type": "stream",
     "text": [
      "hicbiri\n"
     ]
    }
   ],
   "source": [
    "if benimkahraman==\"batman\":\n",
    "    print(\"batmani sectiniz\")\n",
    "elif benimkahraman==\"superman\":\n",
    "    print(\" keske batmani sectiniz\")\n",
    "elif benimkahraman==\"ironman\":\n",
    "    print(\"keske ironman sectiniz\")\n",
    "else:\n",
    "    print(\"hicbiri\")"
   ]
  },
  {
   "cell_type": "code",
   "execution_count": 14,
   "id": "96305e13",
   "metadata": {},
   "outputs": [],
   "source": [
    "a=20\n",
    "b=30\n",
    "c=40"
   ]
  },
  {
   "cell_type": "code",
   "execution_count": 16,
   "id": "9af2827d",
   "metadata": {},
   "outputs": [
    {
     "name": "stdout",
     "output_type": "stream",
     "text": [
      "a,b  den küçük ve b c,den küçük\n"
     ]
    }
   ],
   "source": [
    "if a>b and b>c:\n",
    "    print(\"a,b  den büyük ve b c,den büyük\")\n",
    "elif a<b and b<c:\n",
    "    print(\"a,b  den küçük ve b c,den küçük\")    \n",
    "    "
   ]
  },
  {
   "cell_type": "code",
   "execution_count": 19,
   "id": "a42d3eef",
   "metadata": {},
   "outputs": [],
   "source": [
    "karaktercanli=False"
   ]
  },
  {
   "cell_type": "code",
   "execution_count": 20,
   "id": "c91a009f",
   "metadata": {},
   "outputs": [
    {
     "name": "stdout",
     "output_type": "stream",
     "text": [
      "karakter cansiz\n"
     ]
    }
   ],
   "source": [
    "if karaktercanli==True:\n",
    "    print(\"karakter canli\")\n",
    "else:\n",
    "    print(\"karakter cansiz\")"
   ]
  },
  {
   "cell_type": "code",
   "execution_count": 21,
   "id": "33158bb8",
   "metadata": {},
   "outputs": [
    {
     "name": "stdout",
     "output_type": "stream",
     "text": [
      "karakter cansiz\n"
     ]
    }
   ],
   "source": [
    "if karaktercanli:\n",
    "    print(\"karakter canli\")\n",
    "else:\n",
    "    print(\"karakter cansiz\")"
   ]
  },
  {
   "cell_type": "code",
   "execution_count": 22,
   "id": "fe557213",
   "metadata": {},
   "outputs": [
    {
     "name": "stdout",
     "output_type": "stream",
     "text": [
      "karakter canlisız\n"
     ]
    }
   ],
   "source": [
    "if not karaktercanli:\n",
    "    print(\"karakter canlisız\")"
   ]
  },
  {
   "cell_type": "code",
   "execution_count": 24,
   "id": "ac0d7ed0",
   "metadata": {},
   "outputs": [],
   "source": [
    "benimString=\"Ayhan celik\""
   ]
  },
  {
   "cell_type": "code",
   "execution_count": 25,
   "id": "69572ebc",
   "metadata": {},
   "outputs": [
    {
     "name": "stdout",
     "output_type": "stream",
     "text": [
      "eşit değildir\n"
     ]
    }
   ],
   "source": [
    "if benimString==\"ayhan celik\" :\n",
    "    print(\"eşittir\")\n",
    "else :\n",
    "    print(\"eşit değildir\")"
   ]
  },
  {
   "cell_type": "code",
   "execution_count": 30,
   "id": "223ed6a7",
   "metadata": {},
   "outputs": [
    {
     "name": "stdout",
     "output_type": "stream",
     "text": [
      "yok\n"
     ]
    }
   ],
   "source": [
    "if \"d\" in benimString:\n",
    "    print(\"var\")\n",
    "else:\n",
    "    print(\"yok\")"
   ]
  },
  {
   "cell_type": "code",
   "execution_count": 31,
   "id": "bdec55d9",
   "metadata": {},
   "outputs": [],
   "source": [
    "listem=[10,20,30,40,50]"
   ]
  },
  {
   "cell_type": "code",
   "execution_count": 32,
   "id": "effdc3c8",
   "metadata": {},
   "outputs": [],
   "source": [
    "if 60 in listem:\n",
    "    print(\"var\")\n",
    "    "
   ]
  },
  {
   "cell_type": "code",
   "execution_count": 33,
   "id": "9d8da195",
   "metadata": {},
   "outputs": [],
   "source": [
    "benimsozlük={\"muz\":400,\"elma\":450,\"kiraz\":600}"
   ]
  },
  {
   "cell_type": "code",
   "execution_count": 34,
   "id": "0bd8cb13",
   "metadata": {},
   "outputs": [
    {
     "name": "stdout",
     "output_type": "stream",
     "text": [
      "var\n"
     ]
    }
   ],
   "source": [
    "if \"muz\"in benimsozlük.keys():\n",
    "    print(\"var\")"
   ]
  },
  {
   "cell_type": "code",
   "execution_count": 36,
   "id": "b4dd9fc7",
   "metadata": {},
   "outputs": [
    {
     "name": "stdout",
     "output_type": "stream",
     "text": [
      "hayir\n"
     ]
    }
   ],
   "source": [
    "if 500 in benimsozlük.values():\n",
    "    print(\"evet\")\n",
    "else:\n",
    "    print(\"hayir\")"
   ]
  },
  {
   "cell_type": "code",
   "execution_count": null,
   "id": "ce2039cb",
   "metadata": {},
   "outputs": [],
   "source": []
  }
 ],
 "metadata": {
  "kernelspec": {
   "display_name": "Python 3 (ipykernel)",
   "language": "python",
   "name": "python3"
  },
  "language_info": {
   "codemirror_mode": {
    "name": "ipython",
    "version": 3
   },
   "file_extension": ".py",
   "mimetype": "text/x-python",
   "name": "python",
   "nbconvert_exporter": "python",
   "pygments_lexer": "ipython3",
   "version": "3.11.4"
  }
 },
 "nbformat": 4,
 "nbformat_minor": 5
}
