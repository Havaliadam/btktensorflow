{
 "cells": [
  {
   "cell_type": "code",
   "execution_count": 20,
   "id": "fbe9adfd",
   "metadata": {},
   "outputs": [],
   "source": [
    "class meyve():\n",
    "    \n",
    "    \n",
    "    def __init__(self,isim,kalori):\n",
    "        self.isim=isim\n",
    "        self.kalori=kalori\n",
    "    def __str__(self):\n",
    "        return f\" {self.isim} şu kadar kaloriye sahiptir:{self.kalori}\"\n",
    "    def __len__(self):\n",
    "        return self.kalori"
   ]
  },
  {
   "cell_type": "code",
   "execution_count": 21,
   "id": "3743cac9",
   "metadata": {},
   "outputs": [],
   "source": [
    "muz=meyve(\"muz\",200)"
   ]
  },
  {
   "cell_type": "code",
   "execution_count": 22,
   "id": "c847e312",
   "metadata": {},
   "outputs": [
    {
     "data": {
      "text/plain": [
       "200"
      ]
     },
     "execution_count": 22,
     "metadata": {},
     "output_type": "execute_result"
    }
   ],
   "source": [
    "muz.kalori"
   ]
  },
  {
   "cell_type": "code",
   "execution_count": 23,
   "id": "e4c14df7",
   "metadata": {},
   "outputs": [
    {
     "name": "stdout",
     "output_type": "stream",
     "text": [
      " muz şu kadar kaloriye sahiptir:200\n"
     ]
    }
   ],
   "source": [
    "print(muz)"
   ]
  },
  {
   "cell_type": "code",
   "execution_count": 24,
   "id": "514d3da1",
   "metadata": {},
   "outputs": [],
   "source": [
    "benimliste=[1,2,3,\"a\",4,5,6.5]"
   ]
  },
  {
   "cell_type": "code",
   "execution_count": 25,
   "id": "4b0c3c4c",
   "metadata": {},
   "outputs": [
    {
     "name": "stdout",
     "output_type": "stream",
     "text": [
      "[1, 2, 3, 'a', 4, 5, 6.5]\n"
     ]
    }
   ],
   "source": [
    "print(benimliste)"
   ]
  },
  {
   "cell_type": "code",
   "execution_count": 26,
   "id": "5dc45a7f",
   "metadata": {},
   "outputs": [
    {
     "data": {
      "text/plain": [
       "7"
      ]
     },
     "execution_count": 26,
     "metadata": {},
     "output_type": "execute_result"
    }
   ],
   "source": [
    "len(benimliste)"
   ]
  },
  {
   "cell_type": "code",
   "execution_count": 27,
   "id": "18f8bf2b",
   "metadata": {},
   "outputs": [
    {
     "data": {
      "text/plain": [
       "200"
      ]
     },
     "execution_count": 27,
     "metadata": {},
     "output_type": "execute_result"
    }
   ],
   "source": [
    "len(muz)"
   ]
  },
  {
   "cell_type": "code",
   "execution_count": 28,
   "id": "1168e995",
   "metadata": {},
   "outputs": [],
   "source": [
    "elma=meyve(\"elma\",400)"
   ]
  },
  {
   "cell_type": "code",
   "execution_count": 29,
   "id": "35d2daec",
   "metadata": {},
   "outputs": [
    {
     "name": "stdout",
     "output_type": "stream",
     "text": [
      " elma şu kadar kaloriye sahiptir:400\n"
     ]
    }
   ],
   "source": [
    "print(elma)"
   ]
  },
  {
   "cell_type": "code",
   "execution_count": 30,
   "id": "a3c69fc7",
   "metadata": {},
   "outputs": [
    {
     "data": {
      "text/plain": [
       "400"
      ]
     },
     "execution_count": 30,
     "metadata": {},
     "output_type": "execute_result"
    }
   ],
   "source": [
    "len(elma)"
   ]
  },
  {
   "cell_type": "code",
   "execution_count": null,
   "id": "9977ee6f",
   "metadata": {},
   "outputs": [],
   "source": []
  }
 ],
 "metadata": {
  "kernelspec": {
   "display_name": "Python 3 (ipykernel)",
   "language": "python",
   "name": "python3"
  },
  "language_info": {
   "codemirror_mode": {
    "name": "ipython",
    "version": 3
   },
   "file_extension": ".py",
   "mimetype": "text/x-python",
   "name": "python",
   "nbconvert_exporter": "python",
   "pygments_lexer": "ipython3",
   "version": "3.11.4"
  }
 },
 "nbformat": 4,
 "nbformat_minor": 5
}
