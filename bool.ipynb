{
 "cells": [
  {
   "cell_type": "code",
   "execution_count": 1,
   "id": "d4daaf9d",
   "metadata": {},
   "outputs": [],
   "source": [
    "benimbool=True"
   ]
  },
  {
   "cell_type": "code",
   "execution_count": 2,
   "id": "2ca93995",
   "metadata": {},
   "outputs": [
    {
     "data": {
      "text/plain": [
       "True"
      ]
     },
     "execution_count": 2,
     "metadata": {},
     "output_type": "execute_result"
    }
   ],
   "source": [
    "benimbool"
   ]
  },
  {
   "cell_type": "code",
   "execution_count": 3,
   "id": "93d0ffc1",
   "metadata": {},
   "outputs": [
    {
     "data": {
      "text/plain": [
       "bool"
      ]
     },
     "execution_count": 3,
     "metadata": {},
     "output_type": "execute_result"
    }
   ],
   "source": [
    "type(benimbool)"
   ]
  },
  {
   "cell_type": "code",
   "execution_count": 4,
   "id": "c08e6d1f",
   "metadata": {},
   "outputs": [],
   "source": [
    "benimbool=False"
   ]
  },
  {
   "cell_type": "code",
   "execution_count": 5,
   "id": "3e911d94",
   "metadata": {},
   "outputs": [
    {
     "data": {
      "text/plain": [
       "False"
      ]
     },
     "execution_count": 5,
     "metadata": {},
     "output_type": "execute_result"
    }
   ],
   "source": [
    "benimbool"
   ]
  },
  {
   "cell_type": "code",
   "execution_count": 6,
   "id": "1849bfe2",
   "metadata": {},
   "outputs": [
    {
     "data": {
      "text/plain": [
       "bool"
      ]
     },
     "execution_count": 6,
     "metadata": {},
     "output_type": "execute_result"
    }
   ],
   "source": [
    "type(benimbool)"
   ]
  },
  {
   "cell_type": "code",
   "execution_count": 7,
   "id": "b7e87f51",
   "metadata": {},
   "outputs": [
    {
     "data": {
      "text/plain": [
       "False"
      ]
     },
     "execution_count": 7,
     "metadata": {},
     "output_type": "execute_result"
    }
   ],
   "source": [
    "10<5"
   ]
  },
  {
   "cell_type": "code",
   "execution_count": 8,
   "id": "4b1322c9",
   "metadata": {},
   "outputs": [
    {
     "data": {
      "text/plain": [
       "True"
      ]
     },
     "execution_count": 8,
     "metadata": {},
     "output_type": "execute_result"
    }
   ],
   "source": [
    "10>5"
   ]
  },
  {
   "cell_type": "code",
   "execution_count": 9,
   "id": "7c12207a",
   "metadata": {},
   "outputs": [
    {
     "ename": "SyntaxError",
     "evalue": "cannot assign to literal here. Maybe you meant '==' instead of '='? (2975699964.py, line 1)",
     "output_type": "error",
     "traceback": [
      "\u001b[1;36m  Cell \u001b[1;32mIn[9], line 1\u001b[1;36m\u001b[0m\n\u001b[1;33m    10=10\u001b[0m\n\u001b[1;37m    ^\u001b[0m\n\u001b[1;31mSyntaxError\u001b[0m\u001b[1;31m:\u001b[0m cannot assign to literal here. Maybe you meant '==' instead of '='?\n"
     ]
    }
   ],
   "source": [
    "10=10"
   ]
  },
  {
   "cell_type": "code",
   "execution_count": 10,
   "id": "08f1a9e9",
   "metadata": {},
   "outputs": [
    {
     "data": {
      "text/plain": [
       "True"
      ]
     },
     "execution_count": 10,
     "metadata": {},
     "output_type": "execute_result"
    }
   ],
   "source": [
    "10==10"
   ]
  },
  {
   "cell_type": "code",
   "execution_count": 11,
   "id": "38dbe50a",
   "metadata": {},
   "outputs": [],
   "source": [
    "listem=[1000,5000,4000,1000,3000,4000]"
   ]
  },
  {
   "cell_type": "code",
   "execution_count": 12,
   "id": "2ea6df59",
   "metadata": {},
   "outputs": [
    {
     "data": {
      "text/plain": [
       "6"
      ]
     },
     "execution_count": 12,
     "metadata": {},
     "output_type": "execute_result"
    }
   ],
   "source": [
    "len(listem)"
   ]
  },
  {
   "cell_type": "code",
   "execution_count": 13,
   "id": "e2dee0af",
   "metadata": {},
   "outputs": [
    {
     "data": {
      "text/plain": [
       "18000"
      ]
     },
     "execution_count": 13,
     "metadata": {},
     "output_type": "execute_result"
    }
   ],
   "source": [
    "sum(listem)"
   ]
  },
  {
   "cell_type": "code",
   "execution_count": 14,
   "id": "31636995",
   "metadata": {},
   "outputs": [],
   "source": [
    "ortalama=sum(listem)/len(listem)"
   ]
  },
  {
   "cell_type": "code",
   "execution_count": 15,
   "id": "de98da7b",
   "metadata": {},
   "outputs": [
    {
     "data": {
      "text/plain": [
       "3000.0"
      ]
     },
     "execution_count": 15,
     "metadata": {},
     "output_type": "execute_result"
    }
   ],
   "source": [
    "ortalama"
   ]
  },
  {
   "cell_type": "code",
   "execution_count": 19,
   "id": "fedd4788",
   "metadata": {},
   "outputs": [
    {
     "data": {
      "text/plain": [
       "False"
      ]
     },
     "execution_count": 19,
     "metadata": {},
     "output_type": "execute_result"
    }
   ],
   "source": [
    "listem[3]>ortalama"
   ]
  },
  {
   "cell_type": "code",
   "execution_count": 23,
   "id": "f9c46841",
   "metadata": {},
   "outputs": [
    {
     "name": "stdout",
     "output_type": "stream",
     "text": [
      "maaş bilgisi giriniz:5000\n"
     ]
    }
   ],
   "source": [
    "maas_bilgisi=input(\"maaş bilgisi giriniz:\")"
   ]
  },
  {
   "cell_type": "code",
   "execution_count": 24,
   "id": "78765bc7",
   "metadata": {},
   "outputs": [
    {
     "ename": "TypeError",
     "evalue": "'>' not supported between instances of 'str' and 'int'",
     "output_type": "error",
     "traceback": [
      "\u001b[1;31m---------------------------------------------------------------------------\u001b[0m",
      "\u001b[1;31mTypeError\u001b[0m                                 Traceback (most recent call last)",
      "Cell \u001b[1;32mIn[24], line 1\u001b[0m\n\u001b[1;32m----> 1\u001b[0m maas_bilgisi\u001b[38;5;241m>\u001b[39m\u001b[38;5;241m6000\u001b[39m\n",
      "\u001b[1;31mTypeError\u001b[0m: '>' not supported between instances of 'str' and 'int'"
     ]
    }
   ],
   "source": [
    "maas_bilgisi>6000"
   ]
  },
  {
   "cell_type": "code",
   "execution_count": 25,
   "id": "6507cf19",
   "metadata": {},
   "outputs": [
    {
     "data": {
      "text/plain": [
       "str"
      ]
     },
     "execution_count": 25,
     "metadata": {},
     "output_type": "execute_result"
    }
   ],
   "source": [
    "type(maas_bilgisi)"
   ]
  },
  {
   "cell_type": "code",
   "execution_count": 26,
   "id": "5f15c09e",
   "metadata": {},
   "outputs": [],
   "source": [
    "maas_bilgisi=int(maas_bilgisi)"
   ]
  },
  {
   "cell_type": "code",
   "execution_count": 27,
   "id": "3e34f659",
   "metadata": {},
   "outputs": [
    {
     "data": {
      "text/plain": [
       "True"
      ]
     },
     "execution_count": 27,
     "metadata": {},
     "output_type": "execute_result"
    }
   ],
   "source": [
    "maas_bilgisi>ortalama"
   ]
  },
  {
   "cell_type": "code",
   "execution_count": null,
   "id": "06b6b3ad",
   "metadata": {},
   "outputs": [],
   "source": []
  }
 ],
 "metadata": {
  "kernelspec": {
   "display_name": "Python 3 (ipykernel)",
   "language": "python",
   "name": "python3"
  },
  "language_info": {
   "codemirror_mode": {
    "name": "ipython",
    "version": 3
   },
   "file_extension": ".py",
   "mimetype": "text/x-python",
   "name": "python",
   "nbconvert_exporter": "python",
   "pygments_lexer": "ipython3",
   "version": "3.11.4"
  }
 },
 "nbformat": 4,
 "nbformat_minor": 5
}
