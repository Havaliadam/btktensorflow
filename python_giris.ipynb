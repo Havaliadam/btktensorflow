{
 "cells": [
  {
   "cell_type": "code",
   "execution_count": 1,
   "id": "e339568e",
   "metadata": {},
   "outputs": [
    {
     "data": {
      "text/plain": [
       "25"
      ]
     },
     "execution_count": 1,
     "metadata": {},
     "output_type": "execute_result"
    }
   ],
   "source": [
    "5*5"
   ]
  },
  {
   "cell_type": "code",
   "execution_count": 2,
   "id": "17b19421",
   "metadata": {},
   "outputs": [
    {
     "name": "stdout",
     "output_type": "stream",
     "text": [
      "25\n"
     ]
    }
   ],
   "source": [
    "print(5*5)"
   ]
  },
  {
   "cell_type": "markdown",
   "id": "fdce2abf",
   "metadata": {},
   "source": [
    "1000+2500"
   ]
  },
  {
   "cell_type": "code",
   "execution_count": 3,
   "id": "bcbbef5a",
   "metadata": {},
   "outputs": [
    {
     "data": {
      "text/plain": [
       "3500"
      ]
     },
     "execution_count": 3,
     "metadata": {},
     "output_type": "execute_result"
    }
   ],
   "source": [
    "1000+2500"
   ]
  },
  {
   "cell_type": "code",
   "execution_count": 5,
   "id": "11379788",
   "metadata": {},
   "outputs": [
    {
     "data": {
      "text/plain": [
       "'python'"
      ]
     },
     "execution_count": 5,
     "metadata": {},
     "output_type": "execute_result"
    }
   ],
   "source": [
    "\"python\""
   ]
  },
  {
   "cell_type": "code",
   "execution_count": 6,
   "id": "dd5493b0",
   "metadata": {},
   "outputs": [],
   "source": [
    "x=5"
   ]
  },
  {
   "cell_type": "code",
   "execution_count": 7,
   "id": "11bc5d66",
   "metadata": {},
   "outputs": [],
   "source": [
    "y=4"
   ]
  },
  {
   "cell_type": "code",
   "execution_count": 12,
   "id": "32278a00",
   "metadata": {},
   "outputs": [
    {
     "data": {
      "text/plain": [
       "24"
      ]
     },
     "execution_count": 12,
     "metadata": {},
     "output_type": "execute_result"
    }
   ],
   "source": [
    "x*y"
   ]
  },
  {
   "cell_type": "code",
   "execution_count": 9,
   "id": "4918ddc9",
   "metadata": {},
   "outputs": [],
   "source": [
    "x=6"
   ]
  },
  {
   "cell_type": "code",
   "execution_count": 10,
   "id": "0fcc2023",
   "metadata": {},
   "outputs": [
    {
     "data": {
      "text/plain": [
       "24"
      ]
     },
     "execution_count": 10,
     "metadata": {},
     "output_type": "execute_result"
    }
   ],
   "source": [
    "x*y"
   ]
  },
  {
   "cell_type": "code",
   "execution_count": 11,
   "id": "5fe37721",
   "metadata": {},
   "outputs": [
    {
     "data": {
      "text/plain": [
       "6"
      ]
     },
     "execution_count": 11,
     "metadata": {},
     "output_type": "execute_result"
    }
   ],
   "source": [
    "x"
   ]
  },
  {
   "cell_type": "code",
   "execution_count": 13,
   "id": "876a110b",
   "metadata": {},
   "outputs": [
    {
     "data": {
      "text/plain": [
       "40"
      ]
     },
     "execution_count": 13,
     "metadata": {},
     "output_type": "execute_result"
    }
   ],
   "source": [
    "y*10"
   ]
  },
  {
   "cell_type": "code",
   "execution_count": 1,
   "id": "faa6b8d7",
   "metadata": {},
   "outputs": [],
   "source": [
    "benimdegisken=10\n",
    "benimdigerdegisken=20"
   ]
  },
  {
   "cell_type": "code",
   "execution_count": 2,
   "id": "b20d1bc2",
   "metadata": {},
   "outputs": [
    {
     "data": {
      "text/plain": [
       "30"
      ]
     },
     "execution_count": 2,
     "metadata": {},
     "output_type": "execute_result"
    }
   ],
   "source": [
    "benimdegisken+benimdigerdegisken"
   ]
  },
  {
   "cell_type": "code",
   "execution_count": 4,
   "id": "40f99a98",
   "metadata": {},
   "outputs": [
    {
     "ename": "SyntaxError",
     "evalue": "invalid syntax. Perhaps you forgot a comma? (3433066530.py, line 1)",
     "output_type": "error",
     "traceback": [
      "\u001b[1;36m  Cell \u001b[1;32mIn[4], line 1\u001b[1;36m\u001b[0m\n\u001b[1;33m    type(benimdegisken,benimdiger\u001b[0m\n\u001b[1;37m                       ^\u001b[0m\n\u001b[1;31mSyntaxError\u001b[0m\u001b[1;31m:\u001b[0m invalid syntax. Perhaps you forgot a comma?\n"
     ]
    }
   ],
   "source": [
    "type(benimdegisken\n",
    " )"
   ]
  },
  {
   "cell_type": "markdown",
   "id": "e9154636",
   "metadata": {},
   "source": [
    "##\n",
    "integer"
   ]
  },
  {
   "cell_type": "code",
   "execution_count": 6,
   "id": "5de0c6d9",
   "metadata": {},
   "outputs": [],
   "source": [
    "sonuc=benimdigerdegisken/benimdegisken"
   ]
  },
  {
   "cell_type": "code",
   "execution_count": 7,
   "id": "ba3ecea0",
   "metadata": {},
   "outputs": [
    {
     "data": {
      "text/plain": [
       "2.0"
      ]
     },
     "execution_count": 7,
     "metadata": {},
     "output_type": "execute_result"
    }
   ],
   "source": [
    "sonuc"
   ]
  },
  {
   "cell_type": "code",
   "execution_count": 8,
   "id": "0082503a",
   "metadata": {},
   "outputs": [
    {
     "data": {
      "text/plain": [
       "float"
      ]
     },
     "execution_count": 8,
     "metadata": {},
     "output_type": "execute_result"
    }
   ],
   "source": [
    "type(sonuc)"
   ]
  },
  {
   "cell_type": "code",
   "execution_count": 9,
   "id": "21b1cf17",
   "metadata": {},
   "outputs": [],
   "source": [
    "a=3\n",
    "b=2"
   ]
  },
  {
   "cell_type": "code",
   "execution_count": 10,
   "id": "62ae2a32",
   "metadata": {},
   "outputs": [
    {
     "data": {
      "text/plain": [
       "1.5"
      ]
     },
     "execution_count": 10,
     "metadata": {},
     "output_type": "execute_result"
    }
   ],
   "source": [
    "a/b"
   ]
  },
  {
   "cell_type": "code",
   "execution_count": 11,
   "id": "989dc0d8",
   "metadata": {},
   "outputs": [
    {
     "data": {
      "text/plain": [
       "6"
      ]
     },
     "execution_count": 11,
     "metadata": {},
     "output_type": "execute_result"
    }
   ],
   "source": [
    "a*b"
   ]
  },
  {
   "cell_type": "code",
   "execution_count": 12,
   "id": "14153f76",
   "metadata": {},
   "outputs": [],
   "source": [
    "pi=3.14"
   ]
  },
  {
   "cell_type": "code",
   "execution_count": 13,
   "id": "b3b5c3e9",
   "metadata": {},
   "outputs": [
    {
     "data": {
      "text/plain": [
       "float"
      ]
     },
     "execution_count": 13,
     "metadata": {},
     "output_type": "execute_result"
    }
   ],
   "source": [
    "type(pi)"
   ]
  },
  {
   "cell_type": "code",
   "execution_count": 14,
   "id": "a905a8b4",
   "metadata": {},
   "outputs": [],
   "source": [
    "a=5"
   ]
  },
  {
   "cell_type": "code",
   "execution_count": 15,
   "id": "fbb57a70",
   "metadata": {},
   "outputs": [
    {
     "data": {
      "text/plain": [
       "int"
      ]
     },
     "execution_count": 15,
     "metadata": {},
     "output_type": "execute_result"
    }
   ],
   "source": [
    "type(a)"
   ]
  },
  {
   "cell_type": "code",
   "execution_count": 16,
   "id": "757cb873",
   "metadata": {},
   "outputs": [
    {
     "data": {
      "text/plain": [
       "8.14"
      ]
     },
     "execution_count": 16,
     "metadata": {},
     "output_type": "execute_result"
    }
   ],
   "source": [
    "a+pi"
   ]
  },
  {
   "cell_type": "code",
   "execution_count": 17,
   "id": "e2f5ab67",
   "metadata": {},
   "outputs": [
    {
     "data": {
      "text/plain": [
       "15.700000000000001"
      ]
     },
     "execution_count": 17,
     "metadata": {},
     "output_type": "execute_result"
    }
   ],
   "source": [
    "a*pi"
   ]
  },
  {
   "cell_type": "code",
   "execution_count": 18,
   "id": "4f0fc0f5",
   "metadata": {},
   "outputs": [
    {
     "data": {
      "text/plain": [
       "1.592356687898089"
      ]
     },
     "execution_count": 18,
     "metadata": {},
     "output_type": "execute_result"
    }
   ],
   "source": [
    "a/pi"
   ]
  },
  {
   "cell_type": "code",
   "execution_count": 19,
   "id": "b6457fa8",
   "metadata": {},
   "outputs": [],
   "source": [
    "a=5\n",
    "b=4"
   ]
  },
  {
   "cell_type": "code",
   "execution_count": 22,
   "id": "460a0d0b",
   "metadata": {},
   "outputs": [],
   "source": [
    "sonuc=a+b"
   ]
  },
  {
   "cell_type": "code",
   "execution_count": 21,
   "id": "ff15c038",
   "metadata": {},
   "outputs": [
    {
     "data": {
      "text/plain": [
       "int"
      ]
     },
     "execution_count": 21,
     "metadata": {},
     "output_type": "execute_result"
    }
   ],
   "source": [
    "type(sonuc)"
   ]
  },
  {
   "cell_type": "code",
   "execution_count": 23,
   "id": "4f7efa75",
   "metadata": {},
   "outputs": [],
   "source": [
    "sonuc=a*b"
   ]
  },
  {
   "cell_type": "code",
   "execution_count": 24,
   "id": "7f692d56",
   "metadata": {},
   "outputs": [
    {
     "data": {
      "text/plain": [
       "int"
      ]
     },
     "execution_count": 24,
     "metadata": {},
     "output_type": "execute_result"
    }
   ],
   "source": [
    "type(sonuc)"
   ]
  },
  {
   "cell_type": "markdown",
   "id": "6327d8cf",
   "metadata": {},
   "source": [
    "## MATEMATİKSEL İŞLEMLER\n",
    "\n",
    "\n"
   ]
  },
  {
   "cell_type": "code",
   "execution_count": 25,
   "id": "e5c97654",
   "metadata": {},
   "outputs": [],
   "source": [
    "x=5\n",
    "y=3"
   ]
  },
  {
   "cell_type": "code",
   "execution_count": 26,
   "id": "dadf002f",
   "metadata": {},
   "outputs": [
    {
     "data": {
      "text/plain": [
       "15"
      ]
     },
     "execution_count": 26,
     "metadata": {},
     "output_type": "execute_result"
    }
   ],
   "source": [
    "x*y"
   ]
  },
  {
   "cell_type": "code",
   "execution_count": 27,
   "id": "3da6dca9",
   "metadata": {},
   "outputs": [
    {
     "data": {
      "text/plain": [
       "150"
      ]
     },
     "execution_count": 27,
     "metadata": {},
     "output_type": "execute_result"
    }
   ],
   "source": [
    "x*y*10"
   ]
  },
  {
   "cell_type": "code",
   "execution_count": 28,
   "id": "45ad91b0",
   "metadata": {},
   "outputs": [
    {
     "data": {
      "text/plain": [
       "0"
      ]
     },
     "execution_count": 28,
     "metadata": {},
     "output_type": "execute_result"
    }
   ],
   "source": [
    "x^5"
   ]
  },
  {
   "cell_type": "code",
   "execution_count": 29,
   "id": "80c0944e",
   "metadata": {},
   "outputs": [
    {
     "ename": "SyntaxError",
     "evalue": "invalid syntax (1867996915.py, line 1)",
     "output_type": "error",
     "traceback": [
      "\u001b[1;36m  Cell \u001b[1;32mIn[29], line 1\u001b[1;36m\u001b[0m\n\u001b[1;33m    x^^4\u001b[0m\n\u001b[1;37m      ^\u001b[0m\n\u001b[1;31mSyntaxError\u001b[0m\u001b[1;31m:\u001b[0m invalid syntax\n"
     ]
    }
   ],
   "source": [
    "x^^4"
   ]
  },
  {
   "cell_type": "code",
   "execution_count": 30,
   "id": "dabd09f4",
   "metadata": {},
   "outputs": [
    {
     "data": {
      "text/plain": [
       "625"
      ]
     },
     "execution_count": 30,
     "metadata": {},
     "output_type": "execute_result"
    }
   ],
   "source": [
    "x*x*x*x"
   ]
  },
  {
   "cell_type": "code",
   "execution_count": 31,
   "id": "1feb5eda",
   "metadata": {},
   "outputs": [
    {
     "data": {
      "text/plain": [
       "625"
      ]
     },
     "execution_count": 31,
     "metadata": {},
     "output_type": "execute_result"
    }
   ],
   "source": [
    "x **4"
   ]
  },
  {
   "cell_type": "code",
   "execution_count": 32,
   "id": "b01ec143",
   "metadata": {},
   "outputs": [
    {
     "data": {
      "text/plain": [
       "0"
      ]
     },
     "execution_count": 32,
     "metadata": {},
     "output_type": "execute_result"
    }
   ],
   "source": [
    "#reminder-kalanı bulmak\n",
    "\n",
    "10%2"
   ]
  },
  {
   "cell_type": "code",
   "execution_count": 33,
   "id": "ee8940ad",
   "metadata": {},
   "outputs": [
    {
     "data": {
      "text/plain": [
       "1"
      ]
     },
     "execution_count": 33,
     "metadata": {},
     "output_type": "execute_result"
    }
   ],
   "source": [
    "11%2"
   ]
  },
  {
   "cell_type": "code",
   "execution_count": 34,
   "id": "c40d119b",
   "metadata": {},
   "outputs": [
    {
     "data": {
      "text/plain": [
       "2"
      ]
     },
     "execution_count": 34,
     "metadata": {},
     "output_type": "execute_result"
    }
   ],
   "source": [
    "11%3"
   ]
  },
  {
   "cell_type": "code",
   "execution_count": 36,
   "id": "755420d5",
   "metadata": {},
   "outputs": [],
   "source": [
    "kullanici_yasi=10"
   ]
  },
  {
   "cell_type": "code",
   "execution_count": 37,
   "id": "841ab804",
   "metadata": {},
   "outputs": [],
   "source": [
    "##camelCaseOrnek  snake_case "
   ]
  },
  {
   "cell_type": "code",
   "execution_count": 38,
   "id": "48a21d49",
   "metadata": {},
   "outputs": [
    {
     "data": {
      "text/plain": [
       "16.666666666666668"
      ]
     },
     "execution_count": 38,
     "metadata": {},
     "output_type": "execute_result"
    }
   ],
   "source": [
    "kullanici_yasi*5/3"
   ]
  },
  {
   "cell_type": "code",
   "execution_count": 39,
   "id": "b727eb93",
   "metadata": {},
   "outputs": [
    {
     "name": "stdout",
     "output_type": "stream",
     "text": [
      "kullanıcı yaşı giriniz:15\n"
     ]
    },
    {
     "data": {
      "text/plain": [
       "15"
      ]
     },
     "execution_count": 39,
     "metadata": {},
     "output_type": "execute_result"
    }
   ],
   "source": [
    "int(input(\"kullanıcı yaşı giriniz:\"))"
   ]
  },
  {
   "cell_type": "code",
   "execution_count": 40,
   "id": "2ad57d90",
   "metadata": {},
   "outputs": [
    {
     "name": "stdout",
     "output_type": "stream",
     "text": [
      "yasi giriniz:40\n"
     ]
    }
   ],
   "source": [
    "kullaniciyasi=input(\"yasi giriniz:\")"
   ]
  },
  {
   "cell_type": "code",
   "execution_count": 42,
   "id": "ee0e3d3d",
   "metadata": {},
   "outputs": [
    {
     "data": {
      "text/plain": [
       "str"
      ]
     },
     "execution_count": 42,
     "metadata": {},
     "output_type": "execute_result"
    }
   ],
   "source": [
    "type(kullaniciyasi)"
   ]
  },
  {
   "cell_type": "code",
   "execution_count": 43,
   "id": "8336c7ea",
   "metadata": {},
   "outputs": [
    {
     "data": {
      "text/plain": [
       "'4040404040'"
      ]
     },
     "execution_count": 43,
     "metadata": {},
     "output_type": "execute_result"
    }
   ],
   "source": [
    "kullaniciyasi*5"
   ]
  },
  {
   "cell_type": "markdown",
   "id": "bc669ba7",
   "metadata": {},
   "source": [
    "## STRİNG "
   ]
  },
  {
   "cell_type": "code",
   "execution_count": 44,
   "id": "68120517",
   "metadata": {},
   "outputs": [
    {
     "data": {
      "text/plain": [
       "'MERHABA DÜNYA'"
      ]
     },
     "execution_count": 44,
     "metadata": {},
     "output_type": "execute_result"
    }
   ],
   "source": [
    "\"MERHABA DÜNYA\""
   ]
  },
  {
   "cell_type": "code",
   "execution_count": 45,
   "id": "b28764cf",
   "metadata": {},
   "outputs": [],
   "source": [
    "x=\"merhaba dünya\""
   ]
  },
  {
   "cell_type": "code",
   "execution_count": 46,
   "id": "1fe07ee8",
   "metadata": {},
   "outputs": [
    {
     "data": {
      "text/plain": [
       "str"
      ]
     },
     "execution_count": 46,
     "metadata": {},
     "output_type": "execute_result"
    }
   ],
   "source": [
    "type(x)"
   ]
  },
  {
   "cell_type": "code",
   "execution_count": 47,
   "id": "259d21fa",
   "metadata": {},
   "outputs": [],
   "source": [
    "x=10"
   ]
  },
  {
   "cell_type": "code",
   "execution_count": 48,
   "id": "c9edd965",
   "metadata": {},
   "outputs": [],
   "source": [
    "x=20.5"
   ]
  },
  {
   "cell_type": "code",
   "execution_count": 49,
   "id": "b7b36202",
   "metadata": {},
   "outputs": [],
   "source": [
    "x=\"hello\""
   ]
  },
  {
   "cell_type": "code",
   "execution_count": 50,
   "id": "a8f123cb",
   "metadata": {},
   "outputs": [],
   "source": [
    "y='yeni string'"
   ]
  },
  {
   "cell_type": "code",
   "execution_count": 51,
   "id": "126374dd",
   "metadata": {},
   "outputs": [
    {
     "data": {
      "text/plain": [
       "str"
      ]
     },
     "execution_count": 51,
     "metadata": {},
     "output_type": "execute_result"
    }
   ],
   "source": [
    "type(y)"
   ]
  },
  {
   "cell_type": "code",
   "execution_count": 52,
   "id": "9c31516c",
   "metadata": {},
   "outputs": [
    {
     "data": {
      "text/plain": [
       "\"atıl'ın yeri\""
      ]
     },
     "execution_count": 52,
     "metadata": {},
     "output_type": "execute_result"
    }
   ],
   "source": [
    "\"atıl'ın yeri\""
   ]
  },
  {
   "cell_type": "code",
   "execution_count": 53,
   "id": "74da4a25",
   "metadata": {},
   "outputs": [],
   "source": [
    "a=5"
   ]
  },
  {
   "cell_type": "code",
   "execution_count": 54,
   "id": "d9aab26a",
   "metadata": {},
   "outputs": [
    {
     "data": {
      "text/plain": [
       "'Yeni string'"
      ]
     },
     "execution_count": 54,
     "metadata": {},
     "output_type": "execute_result"
    }
   ],
   "source": [
    "y.capitalize()"
   ]
  },
  {
   "cell_type": "code",
   "execution_count": 55,
   "id": "d5c88560",
   "metadata": {},
   "outputs": [
    {
     "data": {
      "text/plain": [
       "<function str.capitalize()>"
      ]
     },
     "execution_count": 55,
     "metadata": {},
     "output_type": "execute_result"
    }
   ],
   "source": [
    "y.capitalize"
   ]
  },
  {
   "cell_type": "code",
   "execution_count": 58,
   "id": "3237f75a",
   "metadata": {},
   "outputs": [
    {
     "data": {
      "text/plain": [
       "'yeni string'"
      ]
     },
     "execution_count": 58,
     "metadata": {},
     "output_type": "execute_result"
    }
   ],
   "source": [
    "y.casefold()"
   ]
  },
  {
   "cell_type": "code",
   "execution_count": 59,
   "id": "0f476232",
   "metadata": {},
   "outputs": [
    {
     "data": {
      "text/plain": [
       "True"
      ]
     },
     "execution_count": 59,
     "metadata": {},
     "output_type": "execute_result"
    }
   ],
   "source": [
    "y.islower()"
   ]
  },
  {
   "cell_type": "code",
   "execution_count": 60,
   "id": "a80e1390",
   "metadata": {},
   "outputs": [
    {
     "data": {
      "text/plain": [
       "['yeni', 'string']"
      ]
     },
     "execution_count": 60,
     "metadata": {},
     "output_type": "execute_result"
    }
   ],
   "source": [
    "y.split()"
   ]
  },
  {
   "cell_type": "code",
   "execution_count": 61,
   "id": "a93cca98",
   "metadata": {},
   "outputs": [],
   "source": [
    "benimString=\"ayhan çelik\""
   ]
  },
  {
   "cell_type": "code",
   "execution_count": 66,
   "id": "092d4c98",
   "metadata": {},
   "outputs": [
    {
     "name": "stdout",
     "output_type": "stream",
     "text": [
      "yasi giriniz:25\n"
     ]
    }
   ],
   "source": [
    "benimInput=input(\"yasi giriniz:\")"
   ]
  },
  {
   "cell_type": "code",
   "execution_count": 67,
   "id": "29c44215",
   "metadata": {},
   "outputs": [
    {
     "data": {
      "text/plain": [
       "str"
      ]
     },
     "execution_count": 67,
     "metadata": {},
     "output_type": "execute_result"
    }
   ],
   "source": [
    "type(benimInput)"
   ]
  },
  {
   "cell_type": "code",
   "execution_count": 68,
   "id": "3c12ab03",
   "metadata": {},
   "outputs": [
    {
     "name": "stdout",
     "output_type": "stream",
     "text": [
      "yaş giriniz25\n"
     ]
    }
   ],
   "source": [
    "benimInput=int(input(\"yaş giriniz\"))"
   ]
  },
  {
   "cell_type": "code",
   "execution_count": 69,
   "id": "fe79dc83",
   "metadata": {},
   "outputs": [
    {
     "data": {
      "text/plain": [
       "int"
      ]
     },
     "execution_count": 69,
     "metadata": {},
     "output_type": "execute_result"
    }
   ],
   "source": [
    "type(benimInput)"
   ]
  },
  {
   "cell_type": "code",
   "execution_count": 70,
   "id": "4ffa4ab1",
   "metadata": {},
   "outputs": [
    {
     "data": {
      "text/plain": [
       "20.0"
      ]
     },
     "execution_count": 70,
     "metadata": {},
     "output_type": "execute_result"
    }
   ],
   "source": [
    "benimInput/5*4"
   ]
  },
  {
   "cell_type": "code",
   "execution_count": 71,
   "id": "19b75248",
   "metadata": {},
   "outputs": [],
   "source": [
    "k=\"samancıoglu\""
   ]
  },
  {
   "cell_type": "code",
   "execution_count": 72,
   "id": "1ac468b0",
   "metadata": {},
   "outputs": [
    {
     "data": {
      "text/plain": [
       "11"
      ]
     },
     "execution_count": 72,
     "metadata": {},
     "output_type": "execute_result"
    }
   ],
   "source": [
    "len(k)"
   ]
  },
  {
   "cell_type": "code",
   "execution_count": 76,
   "id": "98f33599",
   "metadata": {},
   "outputs": [
    {
     "name": "stdout",
     "output_type": "stream",
     "text": [
      "merhaba\n",
      " python\n"
     ]
    }
   ],
   "source": [
    "print(\"merhaba\\n python\")"
   ]
  },
  {
   "cell_type": "markdown",
   "id": "64af8c79",
   "metadata": {},
   "source": [
    "## SLİNCİNG"
   ]
  },
  {
   "cell_type": "code",
   "execution_count": 77,
   "id": "f0761d15",
   "metadata": {},
   "outputs": [],
   "source": [
    "isimString=\"atıl samancıoğlu\""
   ]
  },
  {
   "cell_type": "code",
   "execution_count": 78,
   "id": "389c0010",
   "metadata": {},
   "outputs": [
    {
     "data": {
      "text/plain": [
       "'atıl samancıoğlu'"
      ]
     },
     "execution_count": 78,
     "metadata": {},
     "output_type": "execute_result"
    }
   ],
   "source": [
    "isimString"
   ]
  },
  {
   "cell_type": "markdown",
   "id": "e13d3b6b",
   "metadata": {},
   "source": [
    "## ındex"
   ]
  },
  {
   "cell_type": "code",
   "execution_count": 79,
   "id": "0de8a70f",
   "metadata": {},
   "outputs": [
    {
     "data": {
      "text/plain": [
       "'t'"
      ]
     },
     "execution_count": 79,
     "metadata": {},
     "output_type": "execute_result"
    }
   ],
   "source": [
    "isimString[1]"
   ]
  },
  {
   "cell_type": "code",
   "execution_count": 80,
   "id": "412e5f08",
   "metadata": {},
   "outputs": [
    {
     "data": {
      "text/plain": [
       "'m'"
      ]
     },
     "execution_count": 80,
     "metadata": {},
     "output_type": "execute_result"
    }
   ],
   "source": [
    "isimString[7]"
   ]
  },
  {
   "cell_type": "code",
   "execution_count": 81,
   "id": "6dab3fe7",
   "metadata": {},
   "outputs": [
    {
     "data": {
      "text/plain": [
       "' '"
      ]
     },
     "execution_count": 81,
     "metadata": {},
     "output_type": "execute_result"
    }
   ],
   "source": [
    "isimString[4]"
   ]
  },
  {
   "cell_type": "code",
   "execution_count": 83,
   "id": "b5a67ee9",
   "metadata": {},
   "outputs": [
    {
     "data": {
      "text/plain": [
       "'u'"
      ]
     },
     "execution_count": 83,
     "metadata": {},
     "output_type": "execute_result"
    }
   ],
   "source": [
    "isimString[-1]"
   ]
  },
  {
   "cell_type": "code",
   "execution_count": 84,
   "id": "d5fb34f5",
   "metadata": {},
   "outputs": [
    {
     "data": {
      "text/plain": [
       "'au'"
      ]
     },
     "execution_count": 84,
     "metadata": {},
     "output_type": "execute_result"
    }
   ],
   "source": [
    "isimString[0]+isimString[-1]"
   ]
  },
  {
   "cell_type": "code",
   "execution_count": 85,
   "id": "e44f4426",
   "metadata": {},
   "outputs": [],
   "source": [
    "yeniString=\"0123456789\""
   ]
  },
  {
   "cell_type": "code",
   "execution_count": 87,
   "id": "9fc5e5ee",
   "metadata": {},
   "outputs": [
    {
     "data": {
      "text/plain": [
       "'0'"
      ]
     },
     "execution_count": 87,
     "metadata": {},
     "output_type": "execute_result"
    }
   ],
   "source": [
    "yeniString[0]"
   ]
  },
  {
   "cell_type": "code",
   "execution_count": 88,
   "id": "dbe794fc",
   "metadata": {},
   "outputs": [
    {
     "data": {
      "text/plain": [
       "str"
      ]
     },
     "execution_count": 88,
     "metadata": {},
     "output_type": "execute_result"
    }
   ],
   "source": [
    "type(yeniString[5])"
   ]
  },
  {
   "cell_type": "code",
   "execution_count": 89,
   "id": "cada3bbe",
   "metadata": {},
   "outputs": [
    {
     "data": {
      "text/plain": [
       "'23456789'"
      ]
     },
     "execution_count": 89,
     "metadata": {},
     "output_type": "execute_result"
    }
   ],
   "source": [
    "yeniString[2::]"
   ]
  },
  {
   "cell_type": "code",
   "execution_count": 90,
   "id": "e746a8f8",
   "metadata": {},
   "outputs": [
    {
     "data": {
      "text/plain": [
       "'234'"
      ]
     },
     "execution_count": 90,
     "metadata": {},
     "output_type": "execute_result"
    }
   ],
   "source": [
    "yeniString[2:5]"
   ]
  },
  {
   "cell_type": "code",
   "execution_count": 91,
   "id": "e23b4bd8",
   "metadata": {},
   "outputs": [
    {
     "data": {
      "text/plain": [
       "'2345'"
      ]
     },
     "execution_count": 91,
     "metadata": {},
     "output_type": "execute_result"
    }
   ],
   "source": [
    "yeniString[2:6]"
   ]
  },
  {
   "cell_type": "code",
   "execution_count": 92,
   "id": "118e0875",
   "metadata": {},
   "outputs": [],
   "source": [
    "harf=\"abcdefgh\""
   ]
  },
  {
   "cell_type": "code",
   "execution_count": 93,
   "id": "9e069dd5",
   "metadata": {},
   "outputs": [
    {
     "data": {
      "text/plain": [
       "'defgh'"
      ]
     },
     "execution_count": 93,
     "metadata": {},
     "output_type": "execute_result"
    }
   ],
   "source": [
    "harf[3:]"
   ]
  },
  {
   "cell_type": "code",
   "execution_count": 94,
   "id": "839a2b73",
   "metadata": {},
   "outputs": [
    {
     "data": {
      "text/plain": [
       "'ab'"
      ]
     },
     "execution_count": 94,
     "metadata": {},
     "output_type": "execute_result"
    }
   ],
   "source": [
    "harf[:2]"
   ]
  },
  {
   "cell_type": "markdown",
   "id": "e96da93b",
   "metadata": {},
   "source": [
    "## kesme"
   ]
  },
  {
   "cell_type": "code",
   "execution_count": 95,
   "id": "035cdfd0",
   "metadata": {},
   "outputs": [],
   "source": [
    "gelenVeri=\"Ahmetyasi65\""
   ]
  },
  {
   "cell_type": "code",
   "execution_count": 100,
   "id": "87303db1",
   "metadata": {},
   "outputs": [
    {
     "data": {
      "text/plain": [
       "'me'"
      ]
     },
     "execution_count": 100,
     "metadata": {},
     "output_type": "execute_result"
    }
   ],
   "source": [
    "gelenVeri[2:4]"
   ]
  },
  {
   "cell_type": "code",
   "execution_count": 101,
   "id": "140414ab",
   "metadata": {},
   "outputs": [],
   "source": [
    "##stepsize"
   ]
  },
  {
   "cell_type": "code",
   "execution_count": 106,
   "id": "bc8d984b",
   "metadata": {},
   "outputs": [
    {
     "data": {
      "text/plain": [
       "'Aea6'"
      ]
     },
     "execution_count": 106,
     "metadata": {},
     "output_type": "execute_result"
    }
   ],
   "source": [
    "gelenVeri[::3]"
   ]
  },
  {
   "cell_type": "code",
   "execution_count": 107,
   "id": "d157641b",
   "metadata": {},
   "outputs": [
    {
     "data": {
      "text/plain": [
       "'hts'"
      ]
     },
     "execution_count": 107,
     "metadata": {},
     "output_type": "execute_result"
    }
   ],
   "source": [
    "gelenVeri[1:10:3]"
   ]
  },
  {
   "cell_type": "code",
   "execution_count": 108,
   "id": "6f13b83a",
   "metadata": {},
   "outputs": [
    {
     "data": {
      "text/plain": [
       "'56isaytemhA'"
      ]
     },
     "execution_count": 108,
     "metadata": {},
     "output_type": "execute_result"
    }
   ],
   "source": [
    "gelenVeri[::-1]"
   ]
  },
  {
   "cell_type": "code",
   "execution_count": 109,
   "id": "28a5c845",
   "metadata": {},
   "outputs": [],
   "source": [
    "benimIsmin=\"ayhan\""
   ]
  },
  {
   "cell_type": "code",
   "execution_count": 110,
   "id": "a500e8e6",
   "metadata": {},
   "outputs": [
    {
     "data": {
      "text/plain": [
       "'Ayhan'"
      ]
     },
     "execution_count": 110,
     "metadata": {},
     "output_type": "execute_result"
    }
   ],
   "source": [
    "benimIsmin.capitalize()"
   ]
  },
  {
   "cell_type": "code",
   "execution_count": 111,
   "id": "0c09a6b2",
   "metadata": {},
   "outputs": [],
   "source": [
    "benimyeniIsmin=benimIsmin.capitalize()"
   ]
  },
  {
   "cell_type": "code",
   "execution_count": 112,
   "id": "1264de4a",
   "metadata": {},
   "outputs": [
    {
     "data": {
      "text/plain": [
       "'ayhan'"
      ]
     },
     "execution_count": 112,
     "metadata": {},
     "output_type": "execute_result"
    }
   ],
   "source": [
    "benimIsmin"
   ]
  },
  {
   "cell_type": "code",
   "execution_count": 113,
   "id": "dd4859ee",
   "metadata": {},
   "outputs": [],
   "source": [
    "listeler=benimTamIsmin=\"ayhan çelik\""
   ]
  },
  {
   "cell_type": "code",
   "execution_count": 114,
   "id": "318586ff",
   "metadata": {},
   "outputs": [
    {
     "data": {
      "text/plain": [
       "['ayhan', 'çelik']"
      ]
     },
     "execution_count": 114,
     "metadata": {},
     "output_type": "execute_result"
    }
   ],
   "source": [
    "benimTamIsmin.split()"
   ]
  },
  {
   "cell_type": "code",
   "execution_count": 115,
   "id": "21773d9f",
   "metadata": {},
   "outputs": [
    {
     "data": {
      "text/plain": [
       "list"
      ]
     },
     "execution_count": 115,
     "metadata": {},
     "output_type": "execute_result"
    }
   ],
   "source": [
    "type(benimTamIsmin.split())"
   ]
  },
  {
   "cell_type": "code",
   "execution_count": 116,
   "id": "ae837320",
   "metadata": {},
   "outputs": [
    {
     "ename": "NameError",
     "evalue": "name 'listeler' is not defined",
     "output_type": "error",
     "traceback": [
      "\u001b[1;31m---------------------------------------------------------------------------\u001b[0m",
      "\u001b[1;31mNameError\u001b[0m                                 Traceback (most recent call last)",
      "Cell \u001b[1;32mIn[116], line 1\u001b[0m\n\u001b[1;32m----> 1\u001b[0m listeler\n",
      "\u001b[1;31mNameError\u001b[0m: name 'listeler' is not defined"
     ]
    }
   ],
   "source": [
    "#upper büyük\n",
    "#lower kücük\n",
    "#"
   ]
  },
  {
   "cell_type": "code",
   "execution_count": null,
   "id": "48d627f5",
   "metadata": {},
   "outputs": [],
   "source": []
  }
 ],
 "metadata": {
  "kernelspec": {
   "display_name": "Python 3 (ipykernel)",
   "language": "python",
   "name": "python3"
  },
  "language_info": {
   "codemirror_mode": {
    "name": "ipython",
    "version": 3
   },
   "file_extension": ".py",
   "mimetype": "text/x-python",
   "name": "python",
   "nbconvert_exporter": "python",
   "pygments_lexer": "ipython3",
   "version": "3.11.4"
  }
 },
 "nbformat": 4,
 "nbformat_minor": 5
}
