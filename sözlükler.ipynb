{
 "cells": [
  {
   "cell_type": "code",
   "execution_count": 1,
   "id": "8bd53f1d",
   "metadata": {},
   "outputs": [],
   "source": [
    "benimlistem=[1,2,3]"
   ]
  },
  {
   "cell_type": "code",
   "execution_count": 2,
   "id": "6efd2ffc",
   "metadata": {},
   "outputs": [
    {
     "data": {
      "text/plain": [
       "1"
      ]
     },
     "execution_count": 2,
     "metadata": {},
     "output_type": "execute_result"
    }
   ],
   "source": [
    "benimlistem[0]"
   ]
  },
  {
   "cell_type": "markdown",
   "id": "f3fb8064",
   "metadata": {},
   "source": [
    "## key-value pairing anahtar kelime-değer eşleşmesi"
   ]
  },
  {
   "cell_type": "code",
   "execution_count": 4,
   "id": "30005e35",
   "metadata": {},
   "outputs": [],
   "source": [
    "benimyemeklerim=[\"elma\",\"karpuz\",\"muz\"]"
   ]
  },
  {
   "cell_type": "code",
   "execution_count": 5,
   "id": "47c91875",
   "metadata": {},
   "outputs": [],
   "source": [
    "benimkalori=[100,200,300]"
   ]
  },
  {
   "cell_type": "code",
   "execution_count": 6,
   "id": "8e6ca6a8",
   "metadata": {},
   "outputs": [
    {
     "data": {
      "text/plain": [
       "'karpuz'"
      ]
     },
     "execution_count": 6,
     "metadata": {},
     "output_type": "execute_result"
    }
   ],
   "source": [
    "benimyemeklerim[1]"
   ]
  },
  {
   "cell_type": "code",
   "execution_count": 7,
   "id": "fb210c8d",
   "metadata": {},
   "outputs": [
    {
     "data": {
      "text/plain": [
       "200"
      ]
     },
     "execution_count": 7,
     "metadata": {},
     "output_type": "execute_result"
    }
   ],
   "source": [
    "benimkalori[1]"
   ]
  },
  {
   "cell_type": "code",
   "execution_count": 8,
   "id": "e46e0489",
   "metadata": {},
   "outputs": [],
   "source": [
    "benimyemeklerim={\"elma\":100,\"karpuz\":200,\"kiraz\":300}"
   ]
  },
  {
   "cell_type": "code",
   "execution_count": 11,
   "id": "03ea4b07",
   "metadata": {},
   "outputs": [
    {
     "data": {
      "text/plain": [
       "dict"
      ]
     },
     "execution_count": 11,
     "metadata": {},
     "output_type": "execute_result"
    }
   ],
   "source": [
    "type(benimyemeklerim)"
   ]
  },
  {
   "cell_type": "code",
   "execution_count": 12,
   "id": "91bd3980",
   "metadata": {},
   "outputs": [
    {
     "data": {
      "text/plain": [
       "100"
      ]
     },
     "execution_count": 12,
     "metadata": {},
     "output_type": "execute_result"
    }
   ],
   "source": [
    "benimyemeklerim[\"elma\"]"
   ]
  },
  {
   "cell_type": "code",
   "execution_count": 13,
   "id": "ca6be1d1",
   "metadata": {},
   "outputs": [],
   "source": [
    "benimyemeklerim[\"elma\"]=400"
   ]
  },
  {
   "cell_type": "code",
   "execution_count": 14,
   "id": "152d0b6e",
   "metadata": {},
   "outputs": [
    {
     "data": {
      "text/plain": [
       "{'elma': 400, 'karpuz': 200, 'kiraz': 300}"
      ]
     },
     "execution_count": 14,
     "metadata": {},
     "output_type": "execute_result"
    }
   ],
   "source": [
    "benimyemeklerim"
   ]
  },
  {
   "cell_type": "code",
   "execution_count": 15,
   "id": "6c649f34",
   "metadata": {},
   "outputs": [],
   "source": [
    "degisiksozluk={1:\"atıl\",2:\"ayhan\"}"
   ]
  },
  {
   "cell_type": "code",
   "execution_count": 16,
   "id": "81e7ff80",
   "metadata": {},
   "outputs": [
    {
     "data": {
      "text/plain": [
       "'atıl'"
      ]
     },
     "execution_count": 16,
     "metadata": {},
     "output_type": "execute_result"
    }
   ],
   "source": [
    "degisiksozluk[1]"
   ]
  },
  {
   "cell_type": "code",
   "execution_count": 20,
   "id": "54841a17",
   "metadata": {},
   "outputs": [],
   "source": [
    "Dictory={\"anahtar\":100,\"anahtar2\":[10,20,30,40,4,5,\"ayhan\"],\"anahtar3\":{\"anahtar9\":4}}"
   ]
  },
  {
   "cell_type": "code",
   "execution_count": 21,
   "id": "b6be0b84",
   "metadata": {},
   "outputs": [
    {
     "data": {
      "text/plain": [
       "dict_keys(['anahtar', 'anahtar2', 'anahtar3'])"
      ]
     },
     "execution_count": 21,
     "metadata": {},
     "output_type": "execute_result"
    }
   ],
   "source": [
    "Dictory.keys()"
   ]
  },
  {
   "cell_type": "code",
   "execution_count": 22,
   "id": "2866aa62",
   "metadata": {},
   "outputs": [
    {
     "data": {
      "text/plain": [
       "dict_values([100, [10, 20, 30, 40, 4, 5, 'ayhan'], {'anahtar9': 4}])"
      ]
     },
     "execution_count": 22,
     "metadata": {},
     "output_type": "execute_result"
    }
   ],
   "source": [
    "Dictory.values()"
   ]
  },
  {
   "cell_type": "code",
   "execution_count": 24,
   "id": "b0796547",
   "metadata": {},
   "outputs": [
    {
     "data": {
      "text/plain": [
       "'ayhan'"
      ]
     },
     "execution_count": 24,
     "metadata": {},
     "output_type": "execute_result"
    }
   ],
   "source": [
    "Dictory[\"anahtar2\"][-1]"
   ]
  },
  {
   "cell_type": "code",
   "execution_count": 26,
   "id": "ba702837",
   "metadata": {},
   "outputs": [
    {
     "data": {
      "text/plain": [
       "4"
      ]
     },
     "execution_count": 26,
     "metadata": {},
     "output_type": "execute_result"
    }
   ],
   "source": [
    "Dictory[\"anahtar3\"][\"anahtar9\"]"
   ]
  },
  {
   "cell_type": "code",
   "execution_count": null,
   "id": "2967c765",
   "metadata": {},
   "outputs": [],
   "source": []
  }
 ],
 "metadata": {
  "kernelspec": {
   "display_name": "Python 3 (ipykernel)",
   "language": "python",
   "name": "python3"
  },
  "language_info": {
   "codemirror_mode": {
    "name": "ipython",
    "version": 3
   },
   "file_extension": ".py",
   "mimetype": "text/x-python",
   "name": "python",
   "nbconvert_exporter": "python",
   "pygments_lexer": "ipython3",
   "version": "3.11.4"
  }
 },
 "nbformat": 4,
 "nbformat_minor": 5
}
