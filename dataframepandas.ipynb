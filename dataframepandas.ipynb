{
 "cells": [
  {
   "cell_type": "code",
   "execution_count": 1,
   "id": "120b344a",
   "metadata": {},
   "outputs": [],
   "source": [
    "import pandas as pd\n",
    "import numpy as np "
   ]
  },
  {
   "cell_type": "code",
   "execution_count": 2,
   "id": "6210cd17",
   "metadata": {},
   "outputs": [],
   "source": [
    "data=np.random.randn(4,3)"
   ]
  },
  {
   "cell_type": "code",
   "execution_count": 3,
   "id": "a706f38a",
   "metadata": {},
   "outputs": [
    {
     "data": {
      "text/plain": [
       "array([[-0.90367072,  0.81716587,  0.97855413],\n",
       "       [ 1.43402237, -1.58379246,  1.02669085],\n",
       "       [-0.07974774,  0.97523991, -0.36980457],\n",
       "       [-0.05343914, -0.16118364,  0.20879093]])"
      ]
     },
     "execution_count": 3,
     "metadata": {},
     "output_type": "execute_result"
    }
   ],
   "source": [
    "data"
   ]
  },
  {
   "cell_type": "code",
   "execution_count": 4,
   "id": "c6b5bcff",
   "metadata": {},
   "outputs": [],
   "source": [
    "dataFrame=pd.DataFrame(data)"
   ]
  },
  {
   "cell_type": "code",
   "execution_count": 5,
   "id": "06dc182c",
   "metadata": {},
   "outputs": [
    {
     "data": {
      "text/plain": [
       "pandas.core.series.Series"
      ]
     },
     "execution_count": 5,
     "metadata": {},
     "output_type": "execute_result"
    }
   ],
   "source": [
    "type(dataFrame[0])"
   ]
  },
  {
   "cell_type": "code",
   "execution_count": 6,
   "id": "3722c22f",
   "metadata": {},
   "outputs": [
    {
     "data": {
      "text/html": [
       "<div>\n",
       "<style scoped>\n",
       "    .dataframe tbody tr th:only-of-type {\n",
       "        vertical-align: middle;\n",
       "    }\n",
       "\n",
       "    .dataframe tbody tr th {\n",
       "        vertical-align: top;\n",
       "    }\n",
       "\n",
       "    .dataframe thead th {\n",
       "        text-align: right;\n",
       "    }\n",
       "</style>\n",
       "<table border=\"1\" class=\"dataframe\">\n",
       "  <thead>\n",
       "    <tr style=\"text-align: right;\">\n",
       "      <th></th>\n",
       "      <th>0</th>\n",
       "      <th>1</th>\n",
       "      <th>2</th>\n",
       "    </tr>\n",
       "  </thead>\n",
       "  <tbody>\n",
       "    <tr>\n",
       "      <th>0</th>\n",
       "      <td>-0.903671</td>\n",
       "      <td>0.817166</td>\n",
       "      <td>0.978554</td>\n",
       "    </tr>\n",
       "    <tr>\n",
       "      <th>1</th>\n",
       "      <td>1.434022</td>\n",
       "      <td>-1.583792</td>\n",
       "      <td>1.026691</td>\n",
       "    </tr>\n",
       "    <tr>\n",
       "      <th>2</th>\n",
       "      <td>-0.079748</td>\n",
       "      <td>0.975240</td>\n",
       "      <td>-0.369805</td>\n",
       "    </tr>\n",
       "    <tr>\n",
       "      <th>3</th>\n",
       "      <td>-0.053439</td>\n",
       "      <td>-0.161184</td>\n",
       "      <td>0.208791</td>\n",
       "    </tr>\n",
       "  </tbody>\n",
       "</table>\n",
       "</div>"
      ],
      "text/plain": [
       "          0         1         2\n",
       "0 -0.903671  0.817166  0.978554\n",
       "1  1.434022 -1.583792  1.026691\n",
       "2 -0.079748  0.975240 -0.369805\n",
       "3 -0.053439 -0.161184  0.208791"
      ]
     },
     "execution_count": 6,
     "metadata": {},
     "output_type": "execute_result"
    }
   ],
   "source": [
    "dataFrame"
   ]
  },
  {
   "cell_type": "code",
   "execution_count": 7,
   "id": "ccd60eb6",
   "metadata": {},
   "outputs": [],
   "source": [
    "yeniDataFrame=pd.DataFrame(data,index=[\"ayhan\",\"arda\",\"demir\",\"kaya\"],columns=[\"maas\",\"yas\",\"saat\"])"
   ]
  },
  {
   "cell_type": "code",
   "execution_count": 8,
   "id": "ff609409",
   "metadata": {},
   "outputs": [
    {
     "data": {
      "text/html": [
       "<div>\n",
       "<style scoped>\n",
       "    .dataframe tbody tr th:only-of-type {\n",
       "        vertical-align: middle;\n",
       "    }\n",
       "\n",
       "    .dataframe tbody tr th {\n",
       "        vertical-align: top;\n",
       "    }\n",
       "\n",
       "    .dataframe thead th {\n",
       "        text-align: right;\n",
       "    }\n",
       "</style>\n",
       "<table border=\"1\" class=\"dataframe\">\n",
       "  <thead>\n",
       "    <tr style=\"text-align: right;\">\n",
       "      <th></th>\n",
       "      <th>maas</th>\n",
       "      <th>yas</th>\n",
       "      <th>saat</th>\n",
       "    </tr>\n",
       "  </thead>\n",
       "  <tbody>\n",
       "    <tr>\n",
       "      <th>ayhan</th>\n",
       "      <td>-0.903671</td>\n",
       "      <td>0.817166</td>\n",
       "      <td>0.978554</td>\n",
       "    </tr>\n",
       "    <tr>\n",
       "      <th>arda</th>\n",
       "      <td>1.434022</td>\n",
       "      <td>-1.583792</td>\n",
       "      <td>1.026691</td>\n",
       "    </tr>\n",
       "    <tr>\n",
       "      <th>demir</th>\n",
       "      <td>-0.079748</td>\n",
       "      <td>0.975240</td>\n",
       "      <td>-0.369805</td>\n",
       "    </tr>\n",
       "    <tr>\n",
       "      <th>kaya</th>\n",
       "      <td>-0.053439</td>\n",
       "      <td>-0.161184</td>\n",
       "      <td>0.208791</td>\n",
       "    </tr>\n",
       "  </tbody>\n",
       "</table>\n",
       "</div>"
      ],
      "text/plain": [
       "           maas       yas      saat\n",
       "ayhan -0.903671  0.817166  0.978554\n",
       "arda   1.434022 -1.583792  1.026691\n",
       "demir -0.079748  0.975240 -0.369805\n",
       "kaya  -0.053439 -0.161184  0.208791"
      ]
     },
     "execution_count": 8,
     "metadata": {},
     "output_type": "execute_result"
    }
   ],
   "source": [
    "yeniDataFrame"
   ]
  },
  {
   "cell_type": "code",
   "execution_count": 9,
   "id": "dd72dcea",
   "metadata": {},
   "outputs": [
    {
     "data": {
      "text/plain": [
       "ayhan    0.817166\n",
       "arda    -1.583792\n",
       "demir    0.975240\n",
       "kaya    -0.161184\n",
       "Name: yas, dtype: float64"
      ]
     },
     "execution_count": 9,
     "metadata": {},
     "output_type": "execute_result"
    }
   ],
   "source": [
    "yeniDataFrame[\"yas\"]"
   ]
  },
  {
   "cell_type": "code",
   "execution_count": 10,
   "id": "a98162ea",
   "metadata": {},
   "outputs": [
    {
     "data": {
      "text/plain": [
       "ayhan    0.978554\n",
       "arda     1.026691\n",
       "demir   -0.369805\n",
       "kaya     0.208791\n",
       "Name: saat, dtype: float64"
      ]
     },
     "execution_count": 10,
     "metadata": {},
     "output_type": "execute_result"
    }
   ],
   "source": [
    "yeniDataFrame[\"saat\"]"
   ]
  },
  {
   "cell_type": "code",
   "execution_count": 11,
   "id": "1beaf464",
   "metadata": {},
   "outputs": [
    {
     "data": {
      "text/html": [
       "<div>\n",
       "<style scoped>\n",
       "    .dataframe tbody tr th:only-of-type {\n",
       "        vertical-align: middle;\n",
       "    }\n",
       "\n",
       "    .dataframe tbody tr th {\n",
       "        vertical-align: top;\n",
       "    }\n",
       "\n",
       "    .dataframe thead th {\n",
       "        text-align: right;\n",
       "    }\n",
       "</style>\n",
       "<table border=\"1\" class=\"dataframe\">\n",
       "  <thead>\n",
       "    <tr style=\"text-align: right;\">\n",
       "      <th></th>\n",
       "      <th>maas</th>\n",
       "      <th>yas</th>\n",
       "    </tr>\n",
       "  </thead>\n",
       "  <tbody>\n",
       "    <tr>\n",
       "      <th>ayhan</th>\n",
       "      <td>-0.903671</td>\n",
       "      <td>0.817166</td>\n",
       "    </tr>\n",
       "    <tr>\n",
       "      <th>arda</th>\n",
       "      <td>1.434022</td>\n",
       "      <td>-1.583792</td>\n",
       "    </tr>\n",
       "    <tr>\n",
       "      <th>demir</th>\n",
       "      <td>-0.079748</td>\n",
       "      <td>0.975240</td>\n",
       "    </tr>\n",
       "    <tr>\n",
       "      <th>kaya</th>\n",
       "      <td>-0.053439</td>\n",
       "      <td>-0.161184</td>\n",
       "    </tr>\n",
       "  </tbody>\n",
       "</table>\n",
       "</div>"
      ],
      "text/plain": [
       "           maas       yas\n",
       "ayhan -0.903671  0.817166\n",
       "arda   1.434022 -1.583792\n",
       "demir -0.079748  0.975240\n",
       "kaya  -0.053439 -0.161184"
      ]
     },
     "execution_count": 11,
     "metadata": {},
     "output_type": "execute_result"
    }
   ],
   "source": [
    "yeniDataFrame[[\"maas\",\"yas\"]]"
   ]
  },
  {
   "cell_type": "code",
   "execution_count": 12,
   "id": "4ee75837",
   "metadata": {},
   "outputs": [
    {
     "data": {
      "text/plain": [
       "maas   -0.903671\n",
       "yas     0.817166\n",
       "saat    0.978554\n",
       "Name: ayhan, dtype: float64"
      ]
     },
     "execution_count": 12,
     "metadata": {},
     "output_type": "execute_result"
    }
   ],
   "source": [
    "yeniDataFrame.loc[\"ayhan\"]"
   ]
  },
  {
   "cell_type": "code",
   "execution_count": 13,
   "id": "2311750a",
   "metadata": {},
   "outputs": [
    {
     "data": {
      "text/plain": [
       "maas    1.434022\n",
       "yas    -1.583792\n",
       "saat    1.026691\n",
       "Name: arda, dtype: float64"
      ]
     },
     "execution_count": 13,
     "metadata": {},
     "output_type": "execute_result"
    }
   ],
   "source": [
    "yeniDataFrame.loc[\"arda\"]"
   ]
  },
  {
   "cell_type": "code",
   "execution_count": 14,
   "id": "71875ca1",
   "metadata": {},
   "outputs": [
    {
     "data": {
      "text/plain": [
       "maas    1.434022\n",
       "yas    -1.583792\n",
       "saat    1.026691\n",
       "Name: arda, dtype: float64"
      ]
     },
     "execution_count": 14,
     "metadata": {},
     "output_type": "execute_result"
    }
   ],
   "source": [
    "yeniDataFrame.iloc[1]"
   ]
  },
  {
   "cell_type": "code",
   "execution_count": 15,
   "id": "cc3b9b34",
   "metadata": {},
   "outputs": [
    {
     "data": {
      "text/html": [
       "<div>\n",
       "<style scoped>\n",
       "    .dataframe tbody tr th:only-of-type {\n",
       "        vertical-align: middle;\n",
       "    }\n",
       "\n",
       "    .dataframe tbody tr th {\n",
       "        vertical-align: top;\n",
       "    }\n",
       "\n",
       "    .dataframe thead th {\n",
       "        text-align: right;\n",
       "    }\n",
       "</style>\n",
       "<table border=\"1\" class=\"dataframe\">\n",
       "  <thead>\n",
       "    <tr style=\"text-align: right;\">\n",
       "      <th></th>\n",
       "      <th>maas</th>\n",
       "      <th>yas</th>\n",
       "      <th>saat</th>\n",
       "    </tr>\n",
       "  </thead>\n",
       "  <tbody>\n",
       "    <tr>\n",
       "      <th>ayhan</th>\n",
       "      <td>-0.903671</td>\n",
       "      <td>0.817166</td>\n",
       "      <td>0.978554</td>\n",
       "    </tr>\n",
       "    <tr>\n",
       "      <th>arda</th>\n",
       "      <td>1.434022</td>\n",
       "      <td>-1.583792</td>\n",
       "      <td>1.026691</td>\n",
       "    </tr>\n",
       "    <tr>\n",
       "      <th>demir</th>\n",
       "      <td>-0.079748</td>\n",
       "      <td>0.975240</td>\n",
       "      <td>-0.369805</td>\n",
       "    </tr>\n",
       "    <tr>\n",
       "      <th>kaya</th>\n",
       "      <td>-0.053439</td>\n",
       "      <td>-0.161184</td>\n",
       "      <td>0.208791</td>\n",
       "    </tr>\n",
       "  </tbody>\n",
       "</table>\n",
       "</div>"
      ],
      "text/plain": [
       "           maas       yas      saat\n",
       "ayhan -0.903671  0.817166  0.978554\n",
       "arda   1.434022 -1.583792  1.026691\n",
       "demir -0.079748  0.975240 -0.369805\n",
       "kaya  -0.053439 -0.161184  0.208791"
      ]
     },
     "execution_count": 15,
     "metadata": {},
     "output_type": "execute_result"
    }
   ],
   "source": [
    "yeniDataFrame"
   ]
  },
  {
   "cell_type": "code",
   "execution_count": 16,
   "id": "6fb41ce2",
   "metadata": {},
   "outputs": [
    {
     "data": {
      "text/plain": [
       "ayhan   -0.903671\n",
       "arda     1.434022\n",
       "demir   -0.079748\n",
       "kaya    -0.053439\n",
       "Name: maas, dtype: float64"
      ]
     },
     "execution_count": 16,
     "metadata": {},
     "output_type": "execute_result"
    }
   ],
   "source": [
    "yeniDataFrame[\"maas\"]"
   ]
  },
  {
   "cell_type": "code",
   "execution_count": 17,
   "id": "b73b72bf",
   "metadata": {},
   "outputs": [],
   "source": [
    "yeniDataFrame[\"emeklik yas\"]=yeniDataFrame['yas']+yeniDataFrame['yas']"
   ]
  },
  {
   "cell_type": "code",
   "execution_count": 18,
   "id": "57a3b659",
   "metadata": {},
   "outputs": [
    {
     "data": {
      "text/html": [
       "<div>\n",
       "<style scoped>\n",
       "    .dataframe tbody tr th:only-of-type {\n",
       "        vertical-align: middle;\n",
       "    }\n",
       "\n",
       "    .dataframe tbody tr th {\n",
       "        vertical-align: top;\n",
       "    }\n",
       "\n",
       "    .dataframe thead th {\n",
       "        text-align: right;\n",
       "    }\n",
       "</style>\n",
       "<table border=\"1\" class=\"dataframe\">\n",
       "  <thead>\n",
       "    <tr style=\"text-align: right;\">\n",
       "      <th></th>\n",
       "      <th>maas</th>\n",
       "      <th>yas</th>\n",
       "      <th>saat</th>\n",
       "      <th>emeklik yas</th>\n",
       "    </tr>\n",
       "  </thead>\n",
       "  <tbody>\n",
       "    <tr>\n",
       "      <th>ayhan</th>\n",
       "      <td>-0.903671</td>\n",
       "      <td>0.817166</td>\n",
       "      <td>0.978554</td>\n",
       "      <td>1.634332</td>\n",
       "    </tr>\n",
       "    <tr>\n",
       "      <th>arda</th>\n",
       "      <td>1.434022</td>\n",
       "      <td>-1.583792</td>\n",
       "      <td>1.026691</td>\n",
       "      <td>-3.167585</td>\n",
       "    </tr>\n",
       "    <tr>\n",
       "      <th>demir</th>\n",
       "      <td>-0.079748</td>\n",
       "      <td>0.975240</td>\n",
       "      <td>-0.369805</td>\n",
       "      <td>1.950480</td>\n",
       "    </tr>\n",
       "    <tr>\n",
       "      <th>kaya</th>\n",
       "      <td>-0.053439</td>\n",
       "      <td>-0.161184</td>\n",
       "      <td>0.208791</td>\n",
       "      <td>-0.322367</td>\n",
       "    </tr>\n",
       "  </tbody>\n",
       "</table>\n",
       "</div>"
      ],
      "text/plain": [
       "           maas       yas      saat  emeklik yas\n",
       "ayhan -0.903671  0.817166  0.978554     1.634332\n",
       "arda   1.434022 -1.583792  1.026691    -3.167585\n",
       "demir -0.079748  0.975240 -0.369805     1.950480\n",
       "kaya  -0.053439 -0.161184  0.208791    -0.322367"
      ]
     },
     "execution_count": 18,
     "metadata": {},
     "output_type": "execute_result"
    }
   ],
   "source": [
    "yeniDataFrame"
   ]
  },
  {
   "cell_type": "code",
   "execution_count": 19,
   "id": "2d4db5d9",
   "metadata": {},
   "outputs": [
    {
     "data": {
      "text/html": [
       "<div>\n",
       "<style scoped>\n",
       "    .dataframe tbody tr th:only-of-type {\n",
       "        vertical-align: middle;\n",
       "    }\n",
       "\n",
       "    .dataframe tbody tr th {\n",
       "        vertical-align: top;\n",
       "    }\n",
       "\n",
       "    .dataframe thead th {\n",
       "        text-align: right;\n",
       "    }\n",
       "</style>\n",
       "<table border=\"1\" class=\"dataframe\">\n",
       "  <thead>\n",
       "    <tr style=\"text-align: right;\">\n",
       "      <th></th>\n",
       "      <th>maas</th>\n",
       "      <th>yas</th>\n",
       "      <th>saat</th>\n",
       "    </tr>\n",
       "  </thead>\n",
       "  <tbody>\n",
       "    <tr>\n",
       "      <th>ayhan</th>\n",
       "      <td>-0.903671</td>\n",
       "      <td>0.817166</td>\n",
       "      <td>0.978554</td>\n",
       "    </tr>\n",
       "    <tr>\n",
       "      <th>arda</th>\n",
       "      <td>1.434022</td>\n",
       "      <td>-1.583792</td>\n",
       "      <td>1.026691</td>\n",
       "    </tr>\n",
       "    <tr>\n",
       "      <th>demir</th>\n",
       "      <td>-0.079748</td>\n",
       "      <td>0.975240</td>\n",
       "      <td>-0.369805</td>\n",
       "    </tr>\n",
       "    <tr>\n",
       "      <th>kaya</th>\n",
       "      <td>-0.053439</td>\n",
       "      <td>-0.161184</td>\n",
       "      <td>0.208791</td>\n",
       "    </tr>\n",
       "  </tbody>\n",
       "</table>\n",
       "</div>"
      ],
      "text/plain": [
       "           maas       yas      saat\n",
       "ayhan -0.903671  0.817166  0.978554\n",
       "arda   1.434022 -1.583792  1.026691\n",
       "demir -0.079748  0.975240 -0.369805\n",
       "kaya  -0.053439 -0.161184  0.208791"
      ]
     },
     "execution_count": 19,
     "metadata": {},
     "output_type": "execute_result"
    }
   ],
   "source": [
    "yeniDataFrame.drop(\"emeklik yas\",axis=1)"
   ]
  },
  {
   "cell_type": "code",
   "execution_count": 20,
   "id": "36b6e073",
   "metadata": {},
   "outputs": [
    {
     "data": {
      "text/html": [
       "<div>\n",
       "<style scoped>\n",
       "    .dataframe tbody tr th:only-of-type {\n",
       "        vertical-align: middle;\n",
       "    }\n",
       "\n",
       "    .dataframe tbody tr th {\n",
       "        vertical-align: top;\n",
       "    }\n",
       "\n",
       "    .dataframe thead th {\n",
       "        text-align: right;\n",
       "    }\n",
       "</style>\n",
       "<table border=\"1\" class=\"dataframe\">\n",
       "  <thead>\n",
       "    <tr style=\"text-align: right;\">\n",
       "      <th></th>\n",
       "      <th>maas</th>\n",
       "      <th>yas</th>\n",
       "      <th>saat</th>\n",
       "      <th>emeklik yas</th>\n",
       "    </tr>\n",
       "  </thead>\n",
       "  <tbody>\n",
       "    <tr>\n",
       "      <th>ayhan</th>\n",
       "      <td>-0.903671</td>\n",
       "      <td>0.817166</td>\n",
       "      <td>0.978554</td>\n",
       "      <td>1.634332</td>\n",
       "    </tr>\n",
       "    <tr>\n",
       "      <th>arda</th>\n",
       "      <td>1.434022</td>\n",
       "      <td>-1.583792</td>\n",
       "      <td>1.026691</td>\n",
       "      <td>-3.167585</td>\n",
       "    </tr>\n",
       "    <tr>\n",
       "      <th>kaya</th>\n",
       "      <td>-0.053439</td>\n",
       "      <td>-0.161184</td>\n",
       "      <td>0.208791</td>\n",
       "      <td>-0.322367</td>\n",
       "    </tr>\n",
       "  </tbody>\n",
       "</table>\n",
       "</div>"
      ],
      "text/plain": [
       "           maas       yas      saat  emeklik yas\n",
       "ayhan -0.903671  0.817166  0.978554     1.634332\n",
       "arda   1.434022 -1.583792  1.026691    -3.167585\n",
       "kaya  -0.053439 -0.161184  0.208791    -0.322367"
      ]
     },
     "execution_count": 20,
     "metadata": {},
     "output_type": "execute_result"
    }
   ],
   "source": [
    "yeniDataFrame.drop(\"demir\",axis=0)"
   ]
  },
  {
   "cell_type": "code",
   "execution_count": 21,
   "id": "1c7484f0",
   "metadata": {},
   "outputs": [],
   "source": [
    "yeniDataFrame.drop(\"emeklik yas\",axis=1,inplace=True)"
   ]
  },
  {
   "cell_type": "code",
   "execution_count": 22,
   "id": "eaa00f12",
   "metadata": {},
   "outputs": [
    {
     "data": {
      "text/html": [
       "<div>\n",
       "<style scoped>\n",
       "    .dataframe tbody tr th:only-of-type {\n",
       "        vertical-align: middle;\n",
       "    }\n",
       "\n",
       "    .dataframe tbody tr th {\n",
       "        vertical-align: top;\n",
       "    }\n",
       "\n",
       "    .dataframe thead th {\n",
       "        text-align: right;\n",
       "    }\n",
       "</style>\n",
       "<table border=\"1\" class=\"dataframe\">\n",
       "  <thead>\n",
       "    <tr style=\"text-align: right;\">\n",
       "      <th></th>\n",
       "      <th>maas</th>\n",
       "      <th>yas</th>\n",
       "      <th>saat</th>\n",
       "    </tr>\n",
       "  </thead>\n",
       "  <tbody>\n",
       "    <tr>\n",
       "      <th>ayhan</th>\n",
       "      <td>-0.903671</td>\n",
       "      <td>0.817166</td>\n",
       "      <td>0.978554</td>\n",
       "    </tr>\n",
       "    <tr>\n",
       "      <th>arda</th>\n",
       "      <td>1.434022</td>\n",
       "      <td>-1.583792</td>\n",
       "      <td>1.026691</td>\n",
       "    </tr>\n",
       "    <tr>\n",
       "      <th>demir</th>\n",
       "      <td>-0.079748</td>\n",
       "      <td>0.975240</td>\n",
       "      <td>-0.369805</td>\n",
       "    </tr>\n",
       "    <tr>\n",
       "      <th>kaya</th>\n",
       "      <td>-0.053439</td>\n",
       "      <td>-0.161184</td>\n",
       "      <td>0.208791</td>\n",
       "    </tr>\n",
       "  </tbody>\n",
       "</table>\n",
       "</div>"
      ],
      "text/plain": [
       "           maas       yas      saat\n",
       "ayhan -0.903671  0.817166  0.978554\n",
       "arda   1.434022 -1.583792  1.026691\n",
       "demir -0.079748  0.975240 -0.369805\n",
       "kaya  -0.053439 -0.161184  0.208791"
      ]
     },
     "execution_count": 22,
     "metadata": {},
     "output_type": "execute_result"
    }
   ],
   "source": [
    "yeniDataFrame"
   ]
  },
  {
   "cell_type": "code",
   "execution_count": 23,
   "id": "23703ffb",
   "metadata": {},
   "outputs": [
    {
     "data": {
      "text/plain": [
       "0.8171658650935089"
      ]
     },
     "execution_count": 23,
     "metadata": {},
     "output_type": "execute_result"
    }
   ],
   "source": [
    "yeniDataFrame.loc[\"ayhan\"][\"yas\"]"
   ]
  },
  {
   "cell_type": "code",
   "execution_count": 24,
   "id": "ca1e4f5d",
   "metadata": {},
   "outputs": [
    {
     "data": {
      "text/plain": [
       "0.9752399054536633"
      ]
     },
     "execution_count": 24,
     "metadata": {},
     "output_type": "execute_result"
    }
   ],
   "source": [
    "yeniDataFrame.loc[\"demir\",\"yas\"]"
   ]
  },
  {
   "cell_type": "code",
   "execution_count": 25,
   "id": "56dea4fb",
   "metadata": {},
   "outputs": [
    {
     "data": {
      "text/html": [
       "<div>\n",
       "<style scoped>\n",
       "    .dataframe tbody tr th:only-of-type {\n",
       "        vertical-align: middle;\n",
       "    }\n",
       "\n",
       "    .dataframe tbody tr th {\n",
       "        vertical-align: top;\n",
       "    }\n",
       "\n",
       "    .dataframe thead th {\n",
       "        text-align: right;\n",
       "    }\n",
       "</style>\n",
       "<table border=\"1\" class=\"dataframe\">\n",
       "  <thead>\n",
       "    <tr style=\"text-align: right;\">\n",
       "      <th></th>\n",
       "      <th>maas</th>\n",
       "      <th>yas</th>\n",
       "      <th>saat</th>\n",
       "    </tr>\n",
       "  </thead>\n",
       "  <tbody>\n",
       "    <tr>\n",
       "      <th>ayhan</th>\n",
       "      <td>-0.903671</td>\n",
       "      <td>0.817166</td>\n",
       "      <td>0.978554</td>\n",
       "    </tr>\n",
       "    <tr>\n",
       "      <th>arda</th>\n",
       "      <td>1.434022</td>\n",
       "      <td>-1.583792</td>\n",
       "      <td>1.026691</td>\n",
       "    </tr>\n",
       "    <tr>\n",
       "      <th>demir</th>\n",
       "      <td>-0.079748</td>\n",
       "      <td>0.975240</td>\n",
       "      <td>-0.369805</td>\n",
       "    </tr>\n",
       "    <tr>\n",
       "      <th>kaya</th>\n",
       "      <td>-0.053439</td>\n",
       "      <td>-0.161184</td>\n",
       "      <td>0.208791</td>\n",
       "    </tr>\n",
       "  </tbody>\n",
       "</table>\n",
       "</div>"
      ],
      "text/plain": [
       "           maas       yas      saat\n",
       "ayhan -0.903671  0.817166  0.978554\n",
       "arda   1.434022 -1.583792  1.026691\n",
       "demir -0.079748  0.975240 -0.369805\n",
       "kaya  -0.053439 -0.161184  0.208791"
      ]
     },
     "execution_count": 25,
     "metadata": {},
     "output_type": "execute_result"
    }
   ],
   "source": [
    "yeniDataFrame"
   ]
  },
  {
   "cell_type": "code",
   "execution_count": 26,
   "id": "9ad2de2d",
   "metadata": {},
   "outputs": [],
   "source": [
    "booleanFrame=yeniDataFrame<0"
   ]
  },
  {
   "cell_type": "code",
   "execution_count": 27,
   "id": "0d46831e",
   "metadata": {},
   "outputs": [
    {
     "data": {
      "text/html": [
       "<div>\n",
       "<style scoped>\n",
       "    .dataframe tbody tr th:only-of-type {\n",
       "        vertical-align: middle;\n",
       "    }\n",
       "\n",
       "    .dataframe tbody tr th {\n",
       "        vertical-align: top;\n",
       "    }\n",
       "\n",
       "    .dataframe thead th {\n",
       "        text-align: right;\n",
       "    }\n",
       "</style>\n",
       "<table border=\"1\" class=\"dataframe\">\n",
       "  <thead>\n",
       "    <tr style=\"text-align: right;\">\n",
       "      <th></th>\n",
       "      <th>maas</th>\n",
       "      <th>yas</th>\n",
       "      <th>saat</th>\n",
       "    </tr>\n",
       "  </thead>\n",
       "  <tbody>\n",
       "    <tr>\n",
       "      <th>ayhan</th>\n",
       "      <td>True</td>\n",
       "      <td>False</td>\n",
       "      <td>False</td>\n",
       "    </tr>\n",
       "    <tr>\n",
       "      <th>arda</th>\n",
       "      <td>False</td>\n",
       "      <td>True</td>\n",
       "      <td>False</td>\n",
       "    </tr>\n",
       "    <tr>\n",
       "      <th>demir</th>\n",
       "      <td>True</td>\n",
       "      <td>False</td>\n",
       "      <td>True</td>\n",
       "    </tr>\n",
       "    <tr>\n",
       "      <th>kaya</th>\n",
       "      <td>True</td>\n",
       "      <td>True</td>\n",
       "      <td>False</td>\n",
       "    </tr>\n",
       "  </tbody>\n",
       "</table>\n",
       "</div>"
      ],
      "text/plain": [
       "        maas    yas   saat\n",
       "ayhan   True  False  False\n",
       "arda   False   True  False\n",
       "demir   True  False   True\n",
       "kaya    True   True  False"
      ]
     },
     "execution_count": 27,
     "metadata": {},
     "output_type": "execute_result"
    }
   ],
   "source": [
    "booleanFrame"
   ]
  },
  {
   "cell_type": "code",
   "execution_count": 28,
   "id": "8f9a5229",
   "metadata": {},
   "outputs": [
    {
     "data": {
      "text/html": [
       "<div>\n",
       "<style scoped>\n",
       "    .dataframe tbody tr th:only-of-type {\n",
       "        vertical-align: middle;\n",
       "    }\n",
       "\n",
       "    .dataframe tbody tr th {\n",
       "        vertical-align: top;\n",
       "    }\n",
       "\n",
       "    .dataframe thead th {\n",
       "        text-align: right;\n",
       "    }\n",
       "</style>\n",
       "<table border=\"1\" class=\"dataframe\">\n",
       "  <thead>\n",
       "    <tr style=\"text-align: right;\">\n",
       "      <th></th>\n",
       "      <th>maas</th>\n",
       "      <th>yas</th>\n",
       "      <th>saat</th>\n",
       "    </tr>\n",
       "  </thead>\n",
       "  <tbody>\n",
       "    <tr>\n",
       "      <th>ayhan</th>\n",
       "      <td>-0.903671</td>\n",
       "      <td>NaN</td>\n",
       "      <td>NaN</td>\n",
       "    </tr>\n",
       "    <tr>\n",
       "      <th>arda</th>\n",
       "      <td>NaN</td>\n",
       "      <td>-1.583792</td>\n",
       "      <td>NaN</td>\n",
       "    </tr>\n",
       "    <tr>\n",
       "      <th>demir</th>\n",
       "      <td>-0.079748</td>\n",
       "      <td>NaN</td>\n",
       "      <td>-0.369805</td>\n",
       "    </tr>\n",
       "    <tr>\n",
       "      <th>kaya</th>\n",
       "      <td>-0.053439</td>\n",
       "      <td>-0.161184</td>\n",
       "      <td>NaN</td>\n",
       "    </tr>\n",
       "  </tbody>\n",
       "</table>\n",
       "</div>"
      ],
      "text/plain": [
       "           maas       yas      saat\n",
       "ayhan -0.903671       NaN       NaN\n",
       "arda        NaN -1.583792       NaN\n",
       "demir -0.079748       NaN -0.369805\n",
       "kaya  -0.053439 -0.161184       NaN"
      ]
     },
     "execution_count": 28,
     "metadata": {},
     "output_type": "execute_result"
    }
   ],
   "source": [
    "yeniDataFrame[booleanFrame]"
   ]
  },
  {
   "cell_type": "code",
   "execution_count": 29,
   "id": "03d7e2d1",
   "metadata": {},
   "outputs": [
    {
     "data": {
      "text/html": [
       "<div>\n",
       "<style scoped>\n",
       "    .dataframe tbody tr th:only-of-type {\n",
       "        vertical-align: middle;\n",
       "    }\n",
       "\n",
       "    .dataframe tbody tr th {\n",
       "        vertical-align: top;\n",
       "    }\n",
       "\n",
       "    .dataframe thead th {\n",
       "        text-align: right;\n",
       "    }\n",
       "</style>\n",
       "<table border=\"1\" class=\"dataframe\">\n",
       "  <thead>\n",
       "    <tr style=\"text-align: right;\">\n",
       "      <th></th>\n",
       "      <th>maas</th>\n",
       "      <th>yas</th>\n",
       "      <th>saat</th>\n",
       "    </tr>\n",
       "  </thead>\n",
       "  <tbody>\n",
       "    <tr>\n",
       "      <th>ayhan</th>\n",
       "      <td>-0.903671</td>\n",
       "      <td>NaN</td>\n",
       "      <td>NaN</td>\n",
       "    </tr>\n",
       "    <tr>\n",
       "      <th>arda</th>\n",
       "      <td>NaN</td>\n",
       "      <td>-1.583792</td>\n",
       "      <td>NaN</td>\n",
       "    </tr>\n",
       "    <tr>\n",
       "      <th>demir</th>\n",
       "      <td>-0.079748</td>\n",
       "      <td>NaN</td>\n",
       "      <td>-0.369805</td>\n",
       "    </tr>\n",
       "    <tr>\n",
       "      <th>kaya</th>\n",
       "      <td>-0.053439</td>\n",
       "      <td>-0.161184</td>\n",
       "      <td>NaN</td>\n",
       "    </tr>\n",
       "  </tbody>\n",
       "</table>\n",
       "</div>"
      ],
      "text/plain": [
       "           maas       yas      saat\n",
       "ayhan -0.903671       NaN       NaN\n",
       "arda        NaN -1.583792       NaN\n",
       "demir -0.079748       NaN -0.369805\n",
       "kaya  -0.053439 -0.161184       NaN"
      ]
     },
     "execution_count": 29,
     "metadata": {},
     "output_type": "execute_result"
    }
   ],
   "source": [
    "yeniDataFrame[yeniDataFrame<0]"
   ]
  },
  {
   "cell_type": "code",
   "execution_count": 30,
   "id": "b076945f",
   "metadata": {},
   "outputs": [
    {
     "data": {
      "text/html": [
       "<div>\n",
       "<style scoped>\n",
       "    .dataframe tbody tr th:only-of-type {\n",
       "        vertical-align: middle;\n",
       "    }\n",
       "\n",
       "    .dataframe tbody tr th {\n",
       "        vertical-align: top;\n",
       "    }\n",
       "\n",
       "    .dataframe thead th {\n",
       "        text-align: right;\n",
       "    }\n",
       "</style>\n",
       "<table border=\"1\" class=\"dataframe\">\n",
       "  <thead>\n",
       "    <tr style=\"text-align: right;\">\n",
       "      <th></th>\n",
       "      <th>maas</th>\n",
       "      <th>yas</th>\n",
       "      <th>saat</th>\n",
       "    </tr>\n",
       "  </thead>\n",
       "  <tbody>\n",
       "    <tr>\n",
       "      <th>ayhan</th>\n",
       "      <td>-0.903671</td>\n",
       "      <td>0.817166</td>\n",
       "      <td>0.978554</td>\n",
       "    </tr>\n",
       "    <tr>\n",
       "      <th>demir</th>\n",
       "      <td>-0.079748</td>\n",
       "      <td>0.975240</td>\n",
       "      <td>-0.369805</td>\n",
       "    </tr>\n",
       "  </tbody>\n",
       "</table>\n",
       "</div>"
      ],
      "text/plain": [
       "           maas       yas      saat\n",
       "ayhan -0.903671  0.817166  0.978554\n",
       "demir -0.079748  0.975240 -0.369805"
      ]
     },
     "execution_count": 30,
     "metadata": {},
     "output_type": "execute_result"
    }
   ],
   "source": [
    "yeniDataFrame[yeniDataFrame[\"yas\"]>0]"
   ]
  },
  {
   "cell_type": "code",
   "execution_count": 31,
   "id": "2e660c12",
   "metadata": {},
   "outputs": [
    {
     "data": {
      "text/html": [
       "<div>\n",
       "<style scoped>\n",
       "    .dataframe tbody tr th:only-of-type {\n",
       "        vertical-align: middle;\n",
       "    }\n",
       "\n",
       "    .dataframe tbody tr th {\n",
       "        vertical-align: top;\n",
       "    }\n",
       "\n",
       "    .dataframe thead th {\n",
       "        text-align: right;\n",
       "    }\n",
       "</style>\n",
       "<table border=\"1\" class=\"dataframe\">\n",
       "  <thead>\n",
       "    <tr style=\"text-align: right;\">\n",
       "      <th></th>\n",
       "      <th>maas</th>\n",
       "      <th>yas</th>\n",
       "      <th>saat</th>\n",
       "    </tr>\n",
       "  </thead>\n",
       "  <tbody>\n",
       "    <tr>\n",
       "      <th>ayhan</th>\n",
       "      <td>-0.903671</td>\n",
       "      <td>0.817166</td>\n",
       "      <td>0.978554</td>\n",
       "    </tr>\n",
       "    <tr>\n",
       "      <th>arda</th>\n",
       "      <td>1.434022</td>\n",
       "      <td>-1.583792</td>\n",
       "      <td>1.026691</td>\n",
       "    </tr>\n",
       "    <tr>\n",
       "      <th>kaya</th>\n",
       "      <td>-0.053439</td>\n",
       "      <td>-0.161184</td>\n",
       "      <td>0.208791</td>\n",
       "    </tr>\n",
       "  </tbody>\n",
       "</table>\n",
       "</div>"
      ],
      "text/plain": [
       "           maas       yas      saat\n",
       "ayhan -0.903671  0.817166  0.978554\n",
       "arda   1.434022 -1.583792  1.026691\n",
       "kaya  -0.053439 -0.161184  0.208791"
      ]
     },
     "execution_count": 31,
     "metadata": {},
     "output_type": "execute_result"
    }
   ],
   "source": [
    "yeniDataFrame[yeniDataFrame[\"saat\"]>0]"
   ]
  },
  {
   "cell_type": "code",
   "execution_count": 32,
   "id": "2ca8f3dd",
   "metadata": {},
   "outputs": [
    {
     "data": {
      "text/html": [
       "<div>\n",
       "<style scoped>\n",
       "    .dataframe tbody tr th:only-of-type {\n",
       "        vertical-align: middle;\n",
       "    }\n",
       "\n",
       "    .dataframe tbody tr th {\n",
       "        vertical-align: top;\n",
       "    }\n",
       "\n",
       "    .dataframe thead th {\n",
       "        text-align: right;\n",
       "    }\n",
       "</style>\n",
       "<table border=\"1\" class=\"dataframe\">\n",
       "  <thead>\n",
       "    <tr style=\"text-align: right;\">\n",
       "      <th></th>\n",
       "      <th>maas</th>\n",
       "      <th>yas</th>\n",
       "      <th>saat</th>\n",
       "    </tr>\n",
       "  </thead>\n",
       "  <tbody>\n",
       "    <tr>\n",
       "      <th>ayhan</th>\n",
       "      <td>-0.903671</td>\n",
       "      <td>0.817166</td>\n",
       "      <td>0.978554</td>\n",
       "    </tr>\n",
       "    <tr>\n",
       "      <th>arda</th>\n",
       "      <td>1.434022</td>\n",
       "      <td>-1.583792</td>\n",
       "      <td>1.026691</td>\n",
       "    </tr>\n",
       "    <tr>\n",
       "      <th>demir</th>\n",
       "      <td>-0.079748</td>\n",
       "      <td>0.975240</td>\n",
       "      <td>-0.369805</td>\n",
       "    </tr>\n",
       "    <tr>\n",
       "      <th>kaya</th>\n",
       "      <td>-0.053439</td>\n",
       "      <td>-0.161184</td>\n",
       "      <td>0.208791</td>\n",
       "    </tr>\n",
       "  </tbody>\n",
       "</table>\n",
       "</div>"
      ],
      "text/plain": [
       "           maas       yas      saat\n",
       "ayhan -0.903671  0.817166  0.978554\n",
       "arda   1.434022 -1.583792  1.026691\n",
       "demir -0.079748  0.975240 -0.369805\n",
       "kaya  -0.053439 -0.161184  0.208791"
      ]
     },
     "execution_count": 32,
     "metadata": {},
     "output_type": "execute_result"
    }
   ],
   "source": [
    "yeniDataFrame"
   ]
  },
  {
   "cell_type": "code",
   "execution_count": 33,
   "id": "c4247e11",
   "metadata": {},
   "outputs": [
    {
     "data": {
      "text/html": [
       "<div>\n",
       "<style scoped>\n",
       "    .dataframe tbody tr th:only-of-type {\n",
       "        vertical-align: middle;\n",
       "    }\n",
       "\n",
       "    .dataframe tbody tr th {\n",
       "        vertical-align: top;\n",
       "    }\n",
       "\n",
       "    .dataframe thead th {\n",
       "        text-align: right;\n",
       "    }\n",
       "</style>\n",
       "<table border=\"1\" class=\"dataframe\">\n",
       "  <thead>\n",
       "    <tr style=\"text-align: right;\">\n",
       "      <th></th>\n",
       "      <th>index</th>\n",
       "      <th>maas</th>\n",
       "      <th>yas</th>\n",
       "      <th>saat</th>\n",
       "    </tr>\n",
       "  </thead>\n",
       "  <tbody>\n",
       "    <tr>\n",
       "      <th>0</th>\n",
       "      <td>ayhan</td>\n",
       "      <td>-0.903671</td>\n",
       "      <td>0.817166</td>\n",
       "      <td>0.978554</td>\n",
       "    </tr>\n",
       "    <tr>\n",
       "      <th>1</th>\n",
       "      <td>arda</td>\n",
       "      <td>1.434022</td>\n",
       "      <td>-1.583792</td>\n",
       "      <td>1.026691</td>\n",
       "    </tr>\n",
       "    <tr>\n",
       "      <th>2</th>\n",
       "      <td>demir</td>\n",
       "      <td>-0.079748</td>\n",
       "      <td>0.975240</td>\n",
       "      <td>-0.369805</td>\n",
       "    </tr>\n",
       "    <tr>\n",
       "      <th>3</th>\n",
       "      <td>kaya</td>\n",
       "      <td>-0.053439</td>\n",
       "      <td>-0.161184</td>\n",
       "      <td>0.208791</td>\n",
       "    </tr>\n",
       "  </tbody>\n",
       "</table>\n",
       "</div>"
      ],
      "text/plain": [
       "   index      maas       yas      saat\n",
       "0  ayhan -0.903671  0.817166  0.978554\n",
       "1   arda  1.434022 -1.583792  1.026691\n",
       "2  demir -0.079748  0.975240 -0.369805\n",
       "3   kaya -0.053439 -0.161184  0.208791"
      ]
     },
     "execution_count": 33,
     "metadata": {},
     "output_type": "execute_result"
    }
   ],
   "source": [
    "yeniDataFrame.reset_index()"
   ]
  },
  {
   "cell_type": "code",
   "execution_count": 34,
   "id": "da5f4cef",
   "metadata": {},
   "outputs": [
    {
     "data": {
      "text/html": [
       "<div>\n",
       "<style scoped>\n",
       "    .dataframe tbody tr th:only-of-type {\n",
       "        vertical-align: middle;\n",
       "    }\n",
       "\n",
       "    .dataframe tbody tr th {\n",
       "        vertical-align: top;\n",
       "    }\n",
       "\n",
       "    .dataframe thead th {\n",
       "        text-align: right;\n",
       "    }\n",
       "</style>\n",
       "<table border=\"1\" class=\"dataframe\">\n",
       "  <thead>\n",
       "    <tr style=\"text-align: right;\">\n",
       "      <th></th>\n",
       "      <th>maas</th>\n",
       "      <th>yas</th>\n",
       "      <th>saat</th>\n",
       "    </tr>\n",
       "  </thead>\n",
       "  <tbody>\n",
       "    <tr>\n",
       "      <th>ayhan</th>\n",
       "      <td>-0.903671</td>\n",
       "      <td>0.817166</td>\n",
       "      <td>0.978554</td>\n",
       "    </tr>\n",
       "    <tr>\n",
       "      <th>arda</th>\n",
       "      <td>1.434022</td>\n",
       "      <td>-1.583792</td>\n",
       "      <td>1.026691</td>\n",
       "    </tr>\n",
       "    <tr>\n",
       "      <th>demir</th>\n",
       "      <td>-0.079748</td>\n",
       "      <td>0.975240</td>\n",
       "      <td>-0.369805</td>\n",
       "    </tr>\n",
       "    <tr>\n",
       "      <th>kaya</th>\n",
       "      <td>-0.053439</td>\n",
       "      <td>-0.161184</td>\n",
       "      <td>0.208791</td>\n",
       "    </tr>\n",
       "  </tbody>\n",
       "</table>\n",
       "</div>"
      ],
      "text/plain": [
       "           maas       yas      saat\n",
       "ayhan -0.903671  0.817166  0.978554\n",
       "arda   1.434022 -1.583792  1.026691\n",
       "demir -0.079748  0.975240 -0.369805\n",
       "kaya  -0.053439 -0.161184  0.208791"
      ]
     },
     "execution_count": 34,
     "metadata": {},
     "output_type": "execute_result"
    }
   ],
   "source": [
    "yeniDataFrame"
   ]
  },
  {
   "cell_type": "code",
   "execution_count": 35,
   "id": "3517f9e8",
   "metadata": {},
   "outputs": [
    {
     "data": {
      "text/html": [
       "<div>\n",
       "<style scoped>\n",
       "    .dataframe tbody tr th:only-of-type {\n",
       "        vertical-align: middle;\n",
       "    }\n",
       "\n",
       "    .dataframe tbody tr th {\n",
       "        vertical-align: top;\n",
       "    }\n",
       "\n",
       "    .dataframe thead th {\n",
       "        text-align: right;\n",
       "    }\n",
       "</style>\n",
       "<table border=\"1\" class=\"dataframe\">\n",
       "  <thead>\n",
       "    <tr style=\"text-align: right;\">\n",
       "      <th></th>\n",
       "      <th>maas</th>\n",
       "      <th>yas</th>\n",
       "      <th>saat</th>\n",
       "    </tr>\n",
       "  </thead>\n",
       "  <tbody>\n",
       "    <tr>\n",
       "      <th>ayhan</th>\n",
       "      <td>-0.903671</td>\n",
       "      <td>0.817166</td>\n",
       "      <td>0.978554</td>\n",
       "    </tr>\n",
       "    <tr>\n",
       "      <th>arda</th>\n",
       "      <td>1.434022</td>\n",
       "      <td>-1.583792</td>\n",
       "      <td>1.026691</td>\n",
       "    </tr>\n",
       "    <tr>\n",
       "      <th>demir</th>\n",
       "      <td>-0.079748</td>\n",
       "      <td>0.975240</td>\n",
       "      <td>-0.369805</td>\n",
       "    </tr>\n",
       "    <tr>\n",
       "      <th>kaya</th>\n",
       "      <td>-0.053439</td>\n",
       "      <td>-0.161184</td>\n",
       "      <td>0.208791</td>\n",
       "    </tr>\n",
       "  </tbody>\n",
       "</table>\n",
       "</div>"
      ],
      "text/plain": [
       "           maas       yas      saat\n",
       "ayhan -0.903671  0.817166  0.978554\n",
       "arda   1.434022 -1.583792  1.026691\n",
       "demir -0.079748  0.975240 -0.369805\n",
       "kaya  -0.053439 -0.161184  0.208791"
      ]
     },
     "execution_count": 35,
     "metadata": {},
     "output_type": "execute_result"
    }
   ],
   "source": [
    "yeniDataFrame"
   ]
  },
  {
   "cell_type": "code",
   "execution_count": 36,
   "id": "4bc2c737",
   "metadata": {},
   "outputs": [],
   "source": [
    "yeniIndexlistesi=[\"ayh\",\"ard\",\"dem\",\"kay\"]"
   ]
  },
  {
   "cell_type": "code",
   "execution_count": 37,
   "id": "d00ad6dd",
   "metadata": {},
   "outputs": [],
   "source": [
    "yeniDataFrame[\"yeni indeks\"]=yeniIndexlistesi"
   ]
  },
  {
   "cell_type": "code",
   "execution_count": 38,
   "id": "89608b3c",
   "metadata": {},
   "outputs": [
    {
     "data": {
      "text/html": [
       "<div>\n",
       "<style scoped>\n",
       "    .dataframe tbody tr th:only-of-type {\n",
       "        vertical-align: middle;\n",
       "    }\n",
       "\n",
       "    .dataframe tbody tr th {\n",
       "        vertical-align: top;\n",
       "    }\n",
       "\n",
       "    .dataframe thead th {\n",
       "        text-align: right;\n",
       "    }\n",
       "</style>\n",
       "<table border=\"1\" class=\"dataframe\">\n",
       "  <thead>\n",
       "    <tr style=\"text-align: right;\">\n",
       "      <th></th>\n",
       "      <th>maas</th>\n",
       "      <th>yas</th>\n",
       "      <th>saat</th>\n",
       "      <th>yeni indeks</th>\n",
       "    </tr>\n",
       "  </thead>\n",
       "  <tbody>\n",
       "    <tr>\n",
       "      <th>ayhan</th>\n",
       "      <td>-0.903671</td>\n",
       "      <td>0.817166</td>\n",
       "      <td>0.978554</td>\n",
       "      <td>ayh</td>\n",
       "    </tr>\n",
       "    <tr>\n",
       "      <th>arda</th>\n",
       "      <td>1.434022</td>\n",
       "      <td>-1.583792</td>\n",
       "      <td>1.026691</td>\n",
       "      <td>ard</td>\n",
       "    </tr>\n",
       "    <tr>\n",
       "      <th>demir</th>\n",
       "      <td>-0.079748</td>\n",
       "      <td>0.975240</td>\n",
       "      <td>-0.369805</td>\n",
       "      <td>dem</td>\n",
       "    </tr>\n",
       "    <tr>\n",
       "      <th>kaya</th>\n",
       "      <td>-0.053439</td>\n",
       "      <td>-0.161184</td>\n",
       "      <td>0.208791</td>\n",
       "      <td>kay</td>\n",
       "    </tr>\n",
       "  </tbody>\n",
       "</table>\n",
       "</div>"
      ],
      "text/plain": [
       "           maas       yas      saat yeni indeks\n",
       "ayhan -0.903671  0.817166  0.978554         ayh\n",
       "arda   1.434022 -1.583792  1.026691         ard\n",
       "demir -0.079748  0.975240 -0.369805         dem\n",
       "kaya  -0.053439 -0.161184  0.208791         kay"
      ]
     },
     "execution_count": 38,
     "metadata": {},
     "output_type": "execute_result"
    }
   ],
   "source": [
    "yeniDataFrame"
   ]
  },
  {
   "cell_type": "code",
   "execution_count": 39,
   "id": "70835c60",
   "metadata": {},
   "outputs": [
    {
     "data": {
      "text/html": [
       "<div>\n",
       "<style scoped>\n",
       "    .dataframe tbody tr th:only-of-type {\n",
       "        vertical-align: middle;\n",
       "    }\n",
       "\n",
       "    .dataframe tbody tr th {\n",
       "        vertical-align: top;\n",
       "    }\n",
       "\n",
       "    .dataframe thead th {\n",
       "        text-align: right;\n",
       "    }\n",
       "</style>\n",
       "<table border=\"1\" class=\"dataframe\">\n",
       "  <thead>\n",
       "    <tr style=\"text-align: right;\">\n",
       "      <th></th>\n",
       "      <th>maas</th>\n",
       "      <th>yas</th>\n",
       "      <th>saat</th>\n",
       "    </tr>\n",
       "    <tr>\n",
       "      <th>yeni indeks</th>\n",
       "      <th></th>\n",
       "      <th></th>\n",
       "      <th></th>\n",
       "    </tr>\n",
       "  </thead>\n",
       "  <tbody>\n",
       "    <tr>\n",
       "      <th>ayh</th>\n",
       "      <td>-0.903671</td>\n",
       "      <td>0.817166</td>\n",
       "      <td>0.978554</td>\n",
       "    </tr>\n",
       "    <tr>\n",
       "      <th>ard</th>\n",
       "      <td>1.434022</td>\n",
       "      <td>-1.583792</td>\n",
       "      <td>1.026691</td>\n",
       "    </tr>\n",
       "    <tr>\n",
       "      <th>dem</th>\n",
       "      <td>-0.079748</td>\n",
       "      <td>0.975240</td>\n",
       "      <td>-0.369805</td>\n",
       "    </tr>\n",
       "    <tr>\n",
       "      <th>kay</th>\n",
       "      <td>-0.053439</td>\n",
       "      <td>-0.161184</td>\n",
       "      <td>0.208791</td>\n",
       "    </tr>\n",
       "  </tbody>\n",
       "</table>\n",
       "</div>"
      ],
      "text/plain": [
       "                 maas       yas      saat\n",
       "yeni indeks                              \n",
       "ayh         -0.903671  0.817166  0.978554\n",
       "ard          1.434022 -1.583792  1.026691\n",
       "dem         -0.079748  0.975240 -0.369805\n",
       "kay         -0.053439 -0.161184  0.208791"
      ]
     },
     "execution_count": 39,
     "metadata": {},
     "output_type": "execute_result"
    }
   ],
   "source": [
    "yeniDataFrame.set_index(\"yeni indeks\")"
   ]
  },
  {
   "cell_type": "code",
   "execution_count": 40,
   "id": "12cced8c",
   "metadata": {},
   "outputs": [],
   "source": [
    "yeniDataFrame.set_index(\"yeni indeks\",inplace=True)"
   ]
  },
  {
   "cell_type": "code",
   "execution_count": 41,
   "id": "f5decdc2",
   "metadata": {},
   "outputs": [
    {
     "data": {
      "text/html": [
       "<div>\n",
       "<style scoped>\n",
       "    .dataframe tbody tr th:only-of-type {\n",
       "        vertical-align: middle;\n",
       "    }\n",
       "\n",
       "    .dataframe tbody tr th {\n",
       "        vertical-align: top;\n",
       "    }\n",
       "\n",
       "    .dataframe thead th {\n",
       "        text-align: right;\n",
       "    }\n",
       "</style>\n",
       "<table border=\"1\" class=\"dataframe\">\n",
       "  <thead>\n",
       "    <tr style=\"text-align: right;\">\n",
       "      <th></th>\n",
       "      <th>maas</th>\n",
       "      <th>yas</th>\n",
       "      <th>saat</th>\n",
       "    </tr>\n",
       "    <tr>\n",
       "      <th>yeni indeks</th>\n",
       "      <th></th>\n",
       "      <th></th>\n",
       "      <th></th>\n",
       "    </tr>\n",
       "  </thead>\n",
       "  <tbody>\n",
       "    <tr>\n",
       "      <th>ayh</th>\n",
       "      <td>-0.903671</td>\n",
       "      <td>0.817166</td>\n",
       "      <td>0.978554</td>\n",
       "    </tr>\n",
       "    <tr>\n",
       "      <th>ard</th>\n",
       "      <td>1.434022</td>\n",
       "      <td>-1.583792</td>\n",
       "      <td>1.026691</td>\n",
       "    </tr>\n",
       "    <tr>\n",
       "      <th>dem</th>\n",
       "      <td>-0.079748</td>\n",
       "      <td>0.975240</td>\n",
       "      <td>-0.369805</td>\n",
       "    </tr>\n",
       "    <tr>\n",
       "      <th>kay</th>\n",
       "      <td>-0.053439</td>\n",
       "      <td>-0.161184</td>\n",
       "      <td>0.208791</td>\n",
       "    </tr>\n",
       "  </tbody>\n",
       "</table>\n",
       "</div>"
      ],
      "text/plain": [
       "                 maas       yas      saat\n",
       "yeni indeks                              \n",
       "ayh         -0.903671  0.817166  0.978554\n",
       "ard          1.434022 -1.583792  1.026691\n",
       "dem         -0.079748  0.975240 -0.369805\n",
       "kay         -0.053439 -0.161184  0.208791"
      ]
     },
     "execution_count": 41,
     "metadata": {},
     "output_type": "execute_result"
    }
   ],
   "source": [
    "yeniDataFrame"
   ]
  },
  {
   "cell_type": "code",
   "execution_count": 42,
   "id": "ee246104",
   "metadata": {},
   "outputs": [
    {
     "data": {
      "text/plain": [
       "maas   -0.903671\n",
       "yas     0.817166\n",
       "saat    0.978554\n",
       "Name: ayh, dtype: float64"
      ]
     },
     "execution_count": 42,
     "metadata": {},
     "output_type": "execute_result"
    }
   ],
   "source": [
    "yeniDataFrame.loc[\"ayh\"]"
   ]
  },
  {
   "cell_type": "code",
   "execution_count": 43,
   "id": "4456bbeb",
   "metadata": {},
   "outputs": [],
   "source": [
    "oneIndexler=[\"simpson\",\"simpson\",\"simpson\",\"southpark\",\"southpark\",\"southpark\"]"
   ]
  },
  {
   "cell_type": "code",
   "execution_count": 44,
   "id": "35fa628e",
   "metadata": {},
   "outputs": [],
   "source": [
    "icIndexler=[\"homer\",\"bart\",\"marge\",\"cartman\",\"kenny\",\"kyle\"]"
   ]
  },
  {
   "cell_type": "code",
   "execution_count": 45,
   "id": "97606b2d",
   "metadata": {},
   "outputs": [],
   "source": [
    "birlesmisIndeks=list(zip(oneIndexler,icIndexler))"
   ]
  },
  {
   "cell_type": "code",
   "execution_count": 46,
   "id": "0037db79",
   "metadata": {},
   "outputs": [
    {
     "data": {
      "text/plain": [
       "[('simpson', 'homer'),\n",
       " ('simpson', 'bart'),\n",
       " ('simpson', 'marge'),\n",
       " ('southpark', 'cartman'),\n",
       " ('southpark', 'kenny'),\n",
       " ('southpark', 'kyle')]"
      ]
     },
     "execution_count": 46,
     "metadata": {},
     "output_type": "execute_result"
    }
   ],
   "source": [
    "birlesmisIndeks"
   ]
  },
  {
   "cell_type": "code",
   "execution_count": 47,
   "id": "40078d8b",
   "metadata": {},
   "outputs": [],
   "source": [
    "birlesmisIndeks=pd.MultiIndex.from_tuples(birlesmisIndeks)"
   ]
  },
  {
   "cell_type": "code",
   "execution_count": 48,
   "id": "c030f540",
   "metadata": {},
   "outputs": [
    {
     "data": {
      "text/plain": [
       "pandas.core.indexes.multi.MultiIndex"
      ]
     },
     "execution_count": 48,
     "metadata": {},
     "output_type": "execute_result"
    }
   ],
   "source": [
    "type(birlesmisIndeks)"
   ]
  },
  {
   "cell_type": "code",
   "execution_count": 49,
   "id": "27514676",
   "metadata": {},
   "outputs": [
    {
     "data": {
      "text/plain": [
       "MultiIndex([(  'simpson',   'homer'),\n",
       "            (  'simpson',    'bart'),\n",
       "            (  'simpson',   'marge'),\n",
       "            ('southpark', 'cartman'),\n",
       "            ('southpark',   'kenny'),\n",
       "            ('southpark',    'kyle')],\n",
       "           )"
      ]
     },
     "execution_count": 49,
     "metadata": {},
     "output_type": "execute_result"
    }
   ],
   "source": [
    "birlesmisIndeks"
   ]
  },
  {
   "cell_type": "code",
   "execution_count": 50,
   "id": "0a38d92f",
   "metadata": {},
   "outputs": [],
   "source": [
    "benimcizgiflmliste=[[40,\"a\"],[10,\"b\"],[29,\"c\"],[40,\"d\"],[9,\"e\"],[9,\"f\"]]"
   ]
  },
  {
   "cell_type": "code",
   "execution_count": 51,
   "id": "f09d8460",
   "metadata": {},
   "outputs": [],
   "source": [
    "cizgiflmnumpydizi=np.array(benimcizgiflmliste)"
   ]
  },
  {
   "cell_type": "code",
   "execution_count": 52,
   "id": "88b34dc2",
   "metadata": {},
   "outputs": [],
   "source": [
    "cizgiflmDataFrame=pd.DataFrame(cizgiflmnumpydizi,index=birlesmisIndeks,columns=[\"yas\",\"meslek\"])"
   ]
  },
  {
   "cell_type": "code",
   "execution_count": 53,
   "id": "8ede68ab",
   "metadata": {},
   "outputs": [
    {
     "data": {
      "text/html": [
       "<div>\n",
       "<style scoped>\n",
       "    .dataframe tbody tr th:only-of-type {\n",
       "        vertical-align: middle;\n",
       "    }\n",
       "\n",
       "    .dataframe tbody tr th {\n",
       "        vertical-align: top;\n",
       "    }\n",
       "\n",
       "    .dataframe thead th {\n",
       "        text-align: right;\n",
       "    }\n",
       "</style>\n",
       "<table border=\"1\" class=\"dataframe\">\n",
       "  <thead>\n",
       "    <tr style=\"text-align: right;\">\n",
       "      <th></th>\n",
       "      <th></th>\n",
       "      <th>yas</th>\n",
       "      <th>meslek</th>\n",
       "    </tr>\n",
       "  </thead>\n",
       "  <tbody>\n",
       "    <tr>\n",
       "      <th rowspan=\"3\" valign=\"top\">simpson</th>\n",
       "      <th>homer</th>\n",
       "      <td>40</td>\n",
       "      <td>a</td>\n",
       "    </tr>\n",
       "    <tr>\n",
       "      <th>bart</th>\n",
       "      <td>10</td>\n",
       "      <td>b</td>\n",
       "    </tr>\n",
       "    <tr>\n",
       "      <th>marge</th>\n",
       "      <td>29</td>\n",
       "      <td>c</td>\n",
       "    </tr>\n",
       "    <tr>\n",
       "      <th rowspan=\"3\" valign=\"top\">southpark</th>\n",
       "      <th>cartman</th>\n",
       "      <td>40</td>\n",
       "      <td>d</td>\n",
       "    </tr>\n",
       "    <tr>\n",
       "      <th>kenny</th>\n",
       "      <td>9</td>\n",
       "      <td>e</td>\n",
       "    </tr>\n",
       "    <tr>\n",
       "      <th>kyle</th>\n",
       "      <td>9</td>\n",
       "      <td>f</td>\n",
       "    </tr>\n",
       "  </tbody>\n",
       "</table>\n",
       "</div>"
      ],
      "text/plain": [
       "                  yas meslek\n",
       "simpson   homer    40      a\n",
       "          bart     10      b\n",
       "          marge    29      c\n",
       "southpark cartman  40      d\n",
       "          kenny     9      e\n",
       "          kyle      9      f"
      ]
     },
     "execution_count": 53,
     "metadata": {},
     "output_type": "execute_result"
    }
   ],
   "source": [
    "cizgiflmDataFrame"
   ]
  },
  {
   "cell_type": "code",
   "execution_count": 54,
   "id": "34aa5c5f",
   "metadata": {},
   "outputs": [
    {
     "data": {
      "text/html": [
       "<div>\n",
       "<style scoped>\n",
       "    .dataframe tbody tr th:only-of-type {\n",
       "        vertical-align: middle;\n",
       "    }\n",
       "\n",
       "    .dataframe tbody tr th {\n",
       "        vertical-align: top;\n",
       "    }\n",
       "\n",
       "    .dataframe thead th {\n",
       "        text-align: right;\n",
       "    }\n",
       "</style>\n",
       "<table border=\"1\" class=\"dataframe\">\n",
       "  <thead>\n",
       "    <tr style=\"text-align: right;\">\n",
       "      <th></th>\n",
       "      <th>yas</th>\n",
       "      <th>meslek</th>\n",
       "    </tr>\n",
       "  </thead>\n",
       "  <tbody>\n",
       "    <tr>\n",
       "      <th>homer</th>\n",
       "      <td>40</td>\n",
       "      <td>a</td>\n",
       "    </tr>\n",
       "    <tr>\n",
       "      <th>bart</th>\n",
       "      <td>10</td>\n",
       "      <td>b</td>\n",
       "    </tr>\n",
       "    <tr>\n",
       "      <th>marge</th>\n",
       "      <td>29</td>\n",
       "      <td>c</td>\n",
       "    </tr>\n",
       "  </tbody>\n",
       "</table>\n",
       "</div>"
      ],
      "text/plain": [
       "      yas meslek\n",
       "homer  40      a\n",
       "bart   10      b\n",
       "marge  29      c"
      ]
     },
     "execution_count": 54,
     "metadata": {},
     "output_type": "execute_result"
    }
   ],
   "source": [
    "cizgiflmDataFrame.loc[\"simpson\"]"
   ]
  },
  {
   "cell_type": "code",
   "execution_count": 55,
   "id": "d9f80ce6",
   "metadata": {},
   "outputs": [
    {
     "data": {
      "text/plain": [
       "yas       9\n",
       "meslek    e\n",
       "Name: kenny, dtype: object"
      ]
     },
     "execution_count": 55,
     "metadata": {},
     "output_type": "execute_result"
    }
   ],
   "source": [
    "cizgiflmDataFrame.loc[\"southpark\"].loc[\"kenny\"]"
   ]
  },
  {
   "cell_type": "code",
   "execution_count": 56,
   "id": "431b3f06",
   "metadata": {},
   "outputs": [],
   "source": [
    "cizgiflmDataFrame.index.names=[\"film adi\",\"isim\"]"
   ]
  },
  {
   "cell_type": "code",
   "execution_count": 58,
   "id": "7378bd34",
   "metadata": {},
   "outputs": [
    {
     "data": {
      "text/html": [
       "<div>\n",
       "<style scoped>\n",
       "    .dataframe tbody tr th:only-of-type {\n",
       "        vertical-align: middle;\n",
       "    }\n",
       "\n",
       "    .dataframe tbody tr th {\n",
       "        vertical-align: top;\n",
       "    }\n",
       "\n",
       "    .dataframe thead th {\n",
       "        text-align: right;\n",
       "    }\n",
       "</style>\n",
       "<table border=\"1\" class=\"dataframe\">\n",
       "  <thead>\n",
       "    <tr style=\"text-align: right;\">\n",
       "      <th></th>\n",
       "      <th></th>\n",
       "      <th>yas</th>\n",
       "      <th>meslek</th>\n",
       "    </tr>\n",
       "    <tr>\n",
       "      <th>film adi</th>\n",
       "      <th>isim</th>\n",
       "      <th></th>\n",
       "      <th></th>\n",
       "    </tr>\n",
       "  </thead>\n",
       "  <tbody>\n",
       "    <tr>\n",
       "      <th rowspan=\"3\" valign=\"top\">simpson</th>\n",
       "      <th>homer</th>\n",
       "      <td>40</td>\n",
       "      <td>a</td>\n",
       "    </tr>\n",
       "    <tr>\n",
       "      <th>bart</th>\n",
       "      <td>10</td>\n",
       "      <td>b</td>\n",
       "    </tr>\n",
       "    <tr>\n",
       "      <th>marge</th>\n",
       "      <td>29</td>\n",
       "      <td>c</td>\n",
       "    </tr>\n",
       "    <tr>\n",
       "      <th rowspan=\"3\" valign=\"top\">southpark</th>\n",
       "      <th>cartman</th>\n",
       "      <td>40</td>\n",
       "      <td>d</td>\n",
       "    </tr>\n",
       "    <tr>\n",
       "      <th>kenny</th>\n",
       "      <td>9</td>\n",
       "      <td>e</td>\n",
       "    </tr>\n",
       "    <tr>\n",
       "      <th>kyle</th>\n",
       "      <td>9</td>\n",
       "      <td>f</td>\n",
       "    </tr>\n",
       "  </tbody>\n",
       "</table>\n",
       "</div>"
      ],
      "text/plain": [
       "                  yas meslek\n",
       "film adi  isim              \n",
       "simpson   homer    40      a\n",
       "          bart     10      b\n",
       "          marge    29      c\n",
       "southpark cartman  40      d\n",
       "          kenny     9      e\n",
       "          kyle      9      f"
      ]
     },
     "execution_count": 58,
     "metadata": {},
     "output_type": "execute_result"
    }
   ],
   "source": [
    "cizgiflmDataFrame"
   ]
  },
  {
   "cell_type": "code",
   "execution_count": null,
   "id": "d1111174",
   "metadata": {},
   "outputs": [],
   "source": []
  }
 ],
 "metadata": {
  "kernelspec": {
   "display_name": "Python 3 (ipykernel)",
   "language": "python",
   "name": "python3"
  },
  "language_info": {
   "codemirror_mode": {
    "name": "ipython",
    "version": 3
   },
   "file_extension": ".py",
   "mimetype": "text/x-python",
   "name": "python",
   "nbconvert_exporter": "python",
   "pygments_lexer": "ipython3",
   "version": "3.11.4"
  }
 },
 "nbformat": 4,
 "nbformat_minor": 5
}
