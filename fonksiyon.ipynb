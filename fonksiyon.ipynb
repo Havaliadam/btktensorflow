{
 "cells": [
  {
   "cell_type": "code",
   "execution_count": 1,
   "id": "9cf5092e",
   "metadata": {},
   "outputs": [],
   "source": [
    "benimadim=\"ayhan\""
   ]
  },
  {
   "cell_type": "code",
   "execution_count": 3,
   "id": "c8b966b8",
   "metadata": {},
   "outputs": [
    {
     "data": {
      "text/plain": [
       "'AYHAN'"
      ]
     },
     "execution_count": 3,
     "metadata": {},
     "output_type": "execute_result"
    }
   ],
   "source": [
    "benimadim.upper()"
   ]
  },
  {
   "cell_type": "code",
   "execution_count": 4,
   "id": "80d44257",
   "metadata": {},
   "outputs": [
    {
     "data": {
      "text/plain": [
       "'ayhan'"
      ]
     },
     "execution_count": 4,
     "metadata": {},
     "output_type": "execute_result"
    }
   ],
   "source": [
    "benimadim"
   ]
  },
  {
   "cell_type": "code",
   "execution_count": 5,
   "id": "d99aa23f",
   "metadata": {},
   "outputs": [],
   "source": [
    "buyukharf=benimadim.upper()"
   ]
  },
  {
   "cell_type": "code",
   "execution_count": 6,
   "id": "6f02cc40",
   "metadata": {},
   "outputs": [
    {
     "data": {
      "text/plain": [
       "'AYHAN'"
      ]
     },
     "execution_count": 6,
     "metadata": {},
     "output_type": "execute_result"
    }
   ],
   "source": [
    "buyukharf"
   ]
  },
  {
   "cell_type": "code",
   "execution_count": 7,
   "id": "53946430",
   "metadata": {},
   "outputs": [
    {
     "data": {
      "text/plain": [
       "'ayhan'"
      ]
     },
     "execution_count": 7,
     "metadata": {},
     "output_type": "execute_result"
    }
   ],
   "source": [
    "benimadim"
   ]
  },
  {
   "cell_type": "code",
   "execution_count": 8,
   "id": "5b916b93",
   "metadata": {},
   "outputs": [
    {
     "name": "stdout",
     "output_type": "stream",
     "text": [
      "Help on built-in function upper:\n",
      "\n",
      "upper() method of builtins.str instance\n",
      "    Return a copy of the string converted to uppercase.\n",
      "\n"
     ]
    }
   ],
   "source": [
    "help(benimadim.upper)"
   ]
  },
  {
   "cell_type": "code",
   "execution_count": 9,
   "id": "3b9dbc91",
   "metadata": {},
   "outputs": [],
   "source": [
    "def ilkfonksiyon():\n",
    "    print(\"ilk fnk\")\n",
    "    \n",
    "    "
   ]
  },
  {
   "cell_type": "code",
   "execution_count": 12,
   "id": "3dca9432",
   "metadata": {},
   "outputs": [
    {
     "name": "stdout",
     "output_type": "stream",
     "text": [
      "ilk fnk\n"
     ]
    }
   ],
   "source": [
    "ilkfonksiyon()"
   ]
  },
  {
   "cell_type": "markdown",
   "id": "2cb9ab46",
   "metadata": {},
   "source": [
    "## input return"
   ]
  },
  {
   "cell_type": "code",
   "execution_count": 13,
   "id": "e2c6b49e",
   "metadata": {},
   "outputs": [],
   "source": [
    "def merhabadunya(yazdırlacakisim):\n",
    "    print(\"merhaba dünya\")\n",
    "    print(yazdırlacakisim)"
   ]
  },
  {
   "cell_type": "code",
   "execution_count": 14,
   "id": "f1e6a6c5",
   "metadata": {},
   "outputs": [
    {
     "name": "stdout",
     "output_type": "stream",
     "text": [
      "merhaba dünya\n",
      "ayhan\n"
     ]
    }
   ],
   "source": [
    "merhabadunya(\"ayhan\")"
   ]
  },
  {
   "cell_type": "code",
   "execution_count": 15,
   "id": "af09cf63",
   "metadata": {},
   "outputs": [],
   "source": [
    "def merhaba(isim=\"ayhan\"):\n",
    "    print(\"merhaba\")\n",
    "    print(isim)\n"
   ]
  },
  {
   "cell_type": "code",
   "execution_count": 16,
   "id": "05627446",
   "metadata": {},
   "outputs": [
    {
     "name": "stdout",
     "output_type": "stream",
     "text": [
      "merhaba\n",
      "ayhan\n"
     ]
    }
   ],
   "source": [
    "merhaba()"
   ]
  },
  {
   "cell_type": "code",
   "execution_count": 17,
   "id": "eea0bff8",
   "metadata": {},
   "outputs": [],
   "source": [
    "def toplama(num1,num2):\n",
    "    sonuc=num1+num2\n",
    "    print(sonuc)"
   ]
  },
  {
   "cell_type": "code",
   "execution_count": 18,
   "id": "2e8040ab",
   "metadata": {},
   "outputs": [
    {
     "name": "stdout",
     "output_type": "stream",
     "text": [
      "11\n"
     ]
    }
   ],
   "source": [
    "toplama(5,6)"
   ]
  },
  {
   "cell_type": "code",
   "execution_count": 19,
   "id": "05dc7ffa",
   "metadata": {},
   "outputs": [],
   "source": [
    "def supertoplama(num1,num2,num3):\n",
    "    sonuc=num1+num2+num3\n",
    "    return sonuc"
   ]
  },
  {
   "cell_type": "code",
   "execution_count": 20,
   "id": "982bfeb5",
   "metadata": {},
   "outputs": [
    {
     "data": {
      "text/plain": [
       "220"
      ]
     },
     "execution_count": 20,
     "metadata": {},
     "output_type": "execute_result"
    }
   ],
   "source": [
    "supertoplama(65,80,75)"
   ]
  },
  {
   "cell_type": "code",
   "execution_count": 21,
   "id": "c28a71e9",
   "metadata": {},
   "outputs": [],
   "source": [
    "def summation_2(*args):\n",
    "    return sum(args)"
   ]
  },
  {
   "cell_type": "code",
   "execution_count": 22,
   "id": "f6d69131",
   "metadata": {},
   "outputs": [
    {
     "data": {
      "text/plain": [
       "60"
      ]
     },
     "execution_count": 22,
     "metadata": {},
     "output_type": "execute_result"
    }
   ],
   "source": [
    "summation_2(10,20,30)\n"
   ]
  },
  {
   "cell_type": "code",
   "execution_count": 23,
   "id": "ce1b6234",
   "metadata": {},
   "outputs": [],
   "source": [
    "def keyword_func(**kwargs):\n",
    "    if \"Metallica\" in kwargs:\n",
    "        print(\"Heavy Metalll!\")\n",
    "    else:\n",
    "        print(\"Rock is dead!!\")"
   ]
  },
  {
   "cell_type": "code",
   "execution_count": 24,
   "id": "f7f0dfac",
   "metadata": {},
   "outputs": [
    {
     "name": "stdout",
     "output_type": "stream",
     "text": [
      "Heavy Metalll!\n"
     ]
    }
   ],
   "source": [
    "keyword_func(Metallica=10,Madonna=5,Muslum=4)"
   ]
  },
  {
   "cell_type": "code",
   "execution_count": null,
   "id": "a6385caf",
   "metadata": {},
   "outputs": [],
   "source": [
    " "
   ]
  }
 ],
 "metadata": {
  "kernelspec": {
   "display_name": "Python 3 (ipykernel)",
   "language": "python",
   "name": "python3"
  },
  "language_info": {
   "codemirror_mode": {
    "name": "ipython",
    "version": 3
   },
   "file_extension": ".py",
   "mimetype": "text/x-python",
   "name": "python",
   "nbconvert_exporter": "python",
   "pygments_lexer": "ipython3",
   "version": "3.11.4"
  }
 },
 "nbformat": 4,
 "nbformat_minor": 5
}
