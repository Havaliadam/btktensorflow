{
 "cells": [
  {
   "cell_type": "code",
   "execution_count": 1,
   "id": "273bf12a",
   "metadata": {},
   "outputs": [],
   "source": [
    "benimlistem=[1,2,\"a\",4,5]"
   ]
  },
  {
   "cell_type": "code",
   "execution_count": 2,
   "id": "64477086",
   "metadata": {},
   "outputs": [
    {
     "data": {
      "text/plain": [
       "2"
      ]
     },
     "execution_count": 2,
     "metadata": {},
     "output_type": "execute_result"
    }
   ],
   "source": [
    "benimlistem[1]"
   ]
  },
  {
   "cell_type": "code",
   "execution_count": 3,
   "id": "d142efee",
   "metadata": {},
   "outputs": [],
   "source": [
    "benimlistem[0]=100"
   ]
  },
  {
   "cell_type": "code",
   "execution_count": 4,
   "id": "92480647",
   "metadata": {},
   "outputs": [
    {
     "data": {
      "text/plain": [
       "[100, 2, 'a', 4, 5]"
      ]
     },
     "execution_count": 4,
     "metadata": {},
     "output_type": "execute_result"
    }
   ],
   "source": [
    "benimlistem"
   ]
  },
  {
   "cell_type": "code",
   "execution_count": 6,
   "id": "2cdf6cd6",
   "metadata": {},
   "outputs": [],
   "source": [
    "turtle=(1,2,\"a\",4.5)"
   ]
  },
  {
   "cell_type": "code",
   "execution_count": 7,
   "id": "70c479a6",
   "metadata": {},
   "outputs": [
    {
     "data": {
      "text/plain": [
       "(1, 2, 'a', 4.5)"
      ]
     },
     "execution_count": 7,
     "metadata": {},
     "output_type": "execute_result"
    }
   ],
   "source": [
    "turtle"
   ]
  },
  {
   "cell_type": "code",
   "execution_count": 8,
   "id": "5f778829",
   "metadata": {},
   "outputs": [
    {
     "data": {
      "text/plain": [
       "1"
      ]
     },
     "execution_count": 8,
     "metadata": {},
     "output_type": "execute_result"
    }
   ],
   "source": [
    "turtle[0]"
   ]
  },
  {
   "cell_type": "code",
   "execution_count": 9,
   "id": "8eb0e47f",
   "metadata": {},
   "outputs": [
    {
     "data": {
      "text/plain": [
       "'a'"
      ]
     },
     "execution_count": 9,
     "metadata": {},
     "output_type": "execute_result"
    }
   ],
   "source": [
    "turtle[2]"
   ]
  },
  {
   "cell_type": "code",
   "execution_count": 11,
   "id": "16efffdf",
   "metadata": {},
   "outputs": [],
   "source": [
    "#turtle[0]=\"b\""
   ]
  },
  {
   "cell_type": "code",
   "execution_count": 13,
   "id": "ef992620",
   "metadata": {},
   "outputs": [
    {
     "data": {
      "text/plain": [
       "1"
      ]
     },
     "execution_count": 13,
     "metadata": {},
     "output_type": "execute_result"
    }
   ],
   "source": [
    "turtle.count(1)"
   ]
  },
  {
   "cell_type": "code",
   "execution_count": 14,
   "id": "d67d658c",
   "metadata": {},
   "outputs": [
    {
     "data": {
      "text/plain": [
       "3"
      ]
     },
     "execution_count": 14,
     "metadata": {},
     "output_type": "execute_result"
    }
   ],
   "source": [
    "turtle.index(4.5)"
   ]
  },
  {
   "cell_type": "code",
   "execution_count": null,
   "id": "cc87e462",
   "metadata": {},
   "outputs": [],
   "source": []
  }
 ],
 "metadata": {
  "kernelspec": {
   "display_name": "Python 3 (ipykernel)",
   "language": "python",
   "name": "python3"
  },
  "language_info": {
   "codemirror_mode": {
    "name": "ipython",
    "version": 3
   },
   "file_extension": ".py",
   "mimetype": "text/x-python",
   "name": "python",
   "nbconvert_exporter": "python",
   "pygments_lexer": "ipython3",
   "version": "3.11.4"
  }
 },
 "nbformat": 4,
 "nbformat_minor": 5
}
