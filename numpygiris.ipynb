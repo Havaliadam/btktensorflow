{
 "cells": [
  {
   "cell_type": "code",
   "execution_count": 1,
   "id": "563a7476",
   "metadata": {},
   "outputs": [],
   "source": [
    "import numpy as np"
   ]
  },
  {
   "cell_type": "markdown",
   "id": "67428c9a",
   "metadata": {},
   "source": [
    "## numpy array"
   ]
  },
  {
   "cell_type": "code",
   "execution_count": 2,
   "id": "5dccd624",
   "metadata": {},
   "outputs": [],
   "source": [
    "benimliste=[20,30,40]"
   ]
  },
  {
   "cell_type": "code",
   "execution_count": 3,
   "id": "d08b733d",
   "metadata": {},
   "outputs": [
    {
     "data": {
      "text/plain": [
       "list"
      ]
     },
     "execution_count": 3,
     "metadata": {},
     "output_type": "execute_result"
    }
   ],
   "source": [
    "type(benimliste)"
   ]
  },
  {
   "cell_type": "code",
   "execution_count": 6,
   "id": "13e95e09",
   "metadata": {},
   "outputs": [
    {
     "data": {
      "text/plain": [
       "array([20, 30, 40])"
      ]
     },
     "execution_count": 6,
     "metadata": {},
     "output_type": "execute_result"
    }
   ],
   "source": [
    "np.array(benimliste)"
   ]
  },
  {
   "cell_type": "code",
   "execution_count": 7,
   "id": "116db04f",
   "metadata": {},
   "outputs": [],
   "source": [
    "matrix=[[10,20,30],[40,50,60],[70,80,90]]"
   ]
  },
  {
   "cell_type": "code",
   "execution_count": 8,
   "id": "523552d3",
   "metadata": {},
   "outputs": [
    {
     "data": {
      "text/plain": [
       "list"
      ]
     },
     "execution_count": 8,
     "metadata": {},
     "output_type": "execute_result"
    }
   ],
   "source": [
    "type(matrix)"
   ]
  },
  {
   "cell_type": "code",
   "execution_count": 9,
   "id": "04836913",
   "metadata": {},
   "outputs": [
    {
     "data": {
      "text/plain": [
       "20"
      ]
     },
     "execution_count": 9,
     "metadata": {},
     "output_type": "execute_result"
    }
   ],
   "source": [
    "matrix[0][1]"
   ]
  },
  {
   "cell_type": "code",
   "execution_count": 10,
   "id": "d2f1692b",
   "metadata": {},
   "outputs": [
    {
     "data": {
      "text/plain": [
       "array([[10, 20, 30],\n",
       "       [40, 50, 60],\n",
       "       [70, 80, 90]])"
      ]
     },
     "execution_count": 10,
     "metadata": {},
     "output_type": "execute_result"
    }
   ],
   "source": [
    "np.array(matrix)"
   ]
  },
  {
   "cell_type": "markdown",
   "id": "a4ed5d84",
   "metadata": {},
   "source": [
    "## arange"
   ]
  },
  {
   "cell_type": "code",
   "execution_count": 11,
   "id": "85d78ddf",
   "metadata": {},
   "outputs": [
    {
     "data": {
      "text/plain": [
       "array([0, 1, 2, 3, 4, 5, 6, 7, 8, 9])"
      ]
     },
     "execution_count": 11,
     "metadata": {},
     "output_type": "execute_result"
    }
   ],
   "source": [
    "np.arange(0,10)"
   ]
  },
  {
   "cell_type": "code",
   "execution_count": 12,
   "id": "ecbcba5b",
   "metadata": {},
   "outputs": [
    {
     "data": {
      "text/plain": [
       "array([ 0,  3,  6,  9, 12, 15, 18])"
      ]
     },
     "execution_count": 12,
     "metadata": {},
     "output_type": "execute_result"
    }
   ],
   "source": [
    "np.arange(0,20,3)"
   ]
  },
  {
   "cell_type": "markdown",
   "id": "bd1cc07f",
   "metadata": {},
   "source": [
    "## zeros"
   ]
  },
  {
   "cell_type": "code",
   "execution_count": 13,
   "id": "a75d4c4f",
   "metadata": {},
   "outputs": [
    {
     "data": {
      "text/plain": [
       "array([0., 0., 0., 0., 0.])"
      ]
     },
     "execution_count": 13,
     "metadata": {},
     "output_type": "execute_result"
    }
   ],
   "source": [
    "np.zeros(5)"
   ]
  },
  {
   "cell_type": "code",
   "execution_count": 15,
   "id": "75b9e521",
   "metadata": {},
   "outputs": [
    {
     "data": {
      "text/plain": [
       "array([[0., 0., 0., 0., 0.],\n",
       "       [0., 0., 0., 0., 0.],\n",
       "       [0., 0., 0., 0., 0.],\n",
       "       [0., 0., 0., 0., 0.],\n",
       "       [0., 0., 0., 0., 0.]])"
      ]
     },
     "execution_count": 15,
     "metadata": {},
     "output_type": "execute_result"
    }
   ],
   "source": [
    "np.zeros((5,5))"
   ]
  },
  {
   "cell_type": "code",
   "execution_count": 16,
   "id": "bb5f5950",
   "metadata": {},
   "outputs": [
    {
     "data": {
      "text/plain": [
       "array([1., 1., 1., 1., 1.])"
      ]
     },
     "execution_count": 16,
     "metadata": {},
     "output_type": "execute_result"
    }
   ],
   "source": [
    "np.ones(5)"
   ]
  },
  {
   "cell_type": "code",
   "execution_count": 17,
   "id": "ab37d5d0",
   "metadata": {},
   "outputs": [
    {
     "data": {
      "text/plain": [
       "array([[1., 1., 1., 1., 1.],\n",
       "       [1., 1., 1., 1., 1.],\n",
       "       [1., 1., 1., 1., 1.],\n",
       "       [1., 1., 1., 1., 1.],\n",
       "       [1., 1., 1., 1., 1.]])"
      ]
     },
     "execution_count": 17,
     "metadata": {},
     "output_type": "execute_result"
    }
   ],
   "source": [
    "np.ones((5,5))"
   ]
  },
  {
   "cell_type": "markdown",
   "id": "dc53052a",
   "metadata": {},
   "source": [
    "## linspace"
   ]
  },
  {
   "cell_type": "code",
   "execution_count": 18,
   "id": "2533def8",
   "metadata": {},
   "outputs": [
    {
     "data": {
      "text/plain": [
       "array([ 0.,  5., 10., 15., 20.])"
      ]
     },
     "execution_count": 18,
     "metadata": {},
     "output_type": "execute_result"
    }
   ],
   "source": [
    "np.linspace(0,20,5)"
   ]
  },
  {
   "cell_type": "code",
   "execution_count": 19,
   "id": "dd9238ae",
   "metadata": {},
   "outputs": [
    {
     "data": {
      "text/plain": [
       "array([ 0.        ,  0.52631579,  1.05263158,  1.57894737,  2.10526316,\n",
       "        2.63157895,  3.15789474,  3.68421053,  4.21052632,  4.73684211,\n",
       "        5.26315789,  5.78947368,  6.31578947,  6.84210526,  7.36842105,\n",
       "        7.89473684,  8.42105263,  8.94736842,  9.47368421, 10.        ])"
      ]
     },
     "execution_count": 19,
     "metadata": {},
     "output_type": "execute_result"
    }
   ],
   "source": [
    "np.linspace(0,10,20)"
   ]
  },
  {
   "cell_type": "code",
   "execution_count": 20,
   "id": "00a3b916",
   "metadata": {},
   "outputs": [
    {
     "data": {
      "text/plain": [
       "array([  1.        ,   1.49748744,   1.99497487,   2.49246231,\n",
       "         2.98994975,   3.48743719,   3.98492462,   4.48241206,\n",
       "         4.9798995 ,   5.47738693,   5.97487437,   6.47236181,\n",
       "         6.96984925,   7.46733668,   7.96482412,   8.46231156,\n",
       "         8.95979899,   9.45728643,   9.95477387,  10.45226131,\n",
       "        10.94974874,  11.44723618,  11.94472362,  12.44221106,\n",
       "        12.93969849,  13.43718593,  13.93467337,  14.4321608 ,\n",
       "        14.92964824,  15.42713568,  15.92462312,  16.42211055,\n",
       "        16.91959799,  17.41708543,  17.91457286,  18.4120603 ,\n",
       "        18.90954774,  19.40703518,  19.90452261,  20.40201005,\n",
       "        20.89949749,  21.39698492,  21.89447236,  22.3919598 ,\n",
       "        22.88944724,  23.38693467,  23.88442211,  24.38190955,\n",
       "        24.87939698,  25.37688442,  25.87437186,  26.3718593 ,\n",
       "        26.86934673,  27.36683417,  27.86432161,  28.36180905,\n",
       "        28.85929648,  29.35678392,  29.85427136,  30.35175879,\n",
       "        30.84924623,  31.34673367,  31.84422111,  32.34170854,\n",
       "        32.83919598,  33.33668342,  33.83417085,  34.33165829,\n",
       "        34.82914573,  35.32663317,  35.8241206 ,  36.32160804,\n",
       "        36.81909548,  37.31658291,  37.81407035,  38.31155779,\n",
       "        38.80904523,  39.30653266,  39.8040201 ,  40.30150754,\n",
       "        40.79899497,  41.29648241,  41.79396985,  42.29145729,\n",
       "        42.78894472,  43.28643216,  43.7839196 ,  44.28140704,\n",
       "        44.77889447,  45.27638191,  45.77386935,  46.27135678,\n",
       "        46.76884422,  47.26633166,  47.7638191 ,  48.26130653,\n",
       "        48.75879397,  49.25628141,  49.75376884,  50.25125628,\n",
       "        50.74874372,  51.24623116,  51.74371859,  52.24120603,\n",
       "        52.73869347,  53.2361809 ,  53.73366834,  54.23115578,\n",
       "        54.72864322,  55.22613065,  55.72361809,  56.22110553,\n",
       "        56.71859296,  57.2160804 ,  57.71356784,  58.21105528,\n",
       "        58.70854271,  59.20603015,  59.70351759,  60.20100503,\n",
       "        60.69849246,  61.1959799 ,  61.69346734,  62.19095477,\n",
       "        62.68844221,  63.18592965,  63.68341709,  64.18090452,\n",
       "        64.67839196,  65.1758794 ,  65.67336683,  66.17085427,\n",
       "        66.66834171,  67.16582915,  67.66331658,  68.16080402,\n",
       "        68.65829146,  69.15577889,  69.65326633,  70.15075377,\n",
       "        70.64824121,  71.14572864,  71.64321608,  72.14070352,\n",
       "        72.63819095,  73.13567839,  73.63316583,  74.13065327,\n",
       "        74.6281407 ,  75.12562814,  75.62311558,  76.12060302,\n",
       "        76.61809045,  77.11557789,  77.61306533,  78.11055276,\n",
       "        78.6080402 ,  79.10552764,  79.60301508,  80.10050251,\n",
       "        80.59798995,  81.09547739,  81.59296482,  82.09045226,\n",
       "        82.5879397 ,  83.08542714,  83.58291457,  84.08040201,\n",
       "        84.57788945,  85.07537688,  85.57286432,  86.07035176,\n",
       "        86.5678392 ,  87.06532663,  87.56281407,  88.06030151,\n",
       "        88.55778894,  89.05527638,  89.55276382,  90.05025126,\n",
       "        90.54773869,  91.04522613,  91.54271357,  92.04020101,\n",
       "        92.53768844,  93.03517588,  93.53266332,  94.03015075,\n",
       "        94.52763819,  95.02512563,  95.52261307,  96.0201005 ,\n",
       "        96.51758794,  97.01507538,  97.51256281,  98.01005025,\n",
       "        98.50753769,  99.00502513,  99.50251256, 100.        ])"
      ]
     },
     "execution_count": 20,
     "metadata": {},
     "output_type": "execute_result"
    }
   ],
   "source": [
    "np.linspace(1,100,200)"
   ]
  },
  {
   "cell_type": "markdown",
   "id": "a2880d11",
   "metadata": {},
   "source": [
    "## eye"
   ]
  },
  {
   "cell_type": "code",
   "execution_count": 21,
   "id": "cc0b7d56",
   "metadata": {},
   "outputs": [
    {
     "data": {
      "text/plain": [
       "array([[1., 0., 0.],\n",
       "       [0., 1., 0.],\n",
       "       [0., 0., 1.]])"
      ]
     },
     "execution_count": 21,
     "metadata": {},
     "output_type": "execute_result"
    }
   ],
   "source": [
    "np.eye(3)"
   ]
  },
  {
   "cell_type": "markdown",
   "id": "4bf2d0b8",
   "metadata": {},
   "source": [
    "## random"
   ]
  },
  {
   "cell_type": "code",
   "execution_count": 24,
   "id": "863ad825",
   "metadata": {},
   "outputs": [
    {
     "data": {
      "text/plain": [
       "array([[ 0.15092762, -0.10968966,  0.44544246, -1.05959754, -2.14892557,\n",
       "        -0.19195779, -1.11754947,  0.34894477, -0.72676605,  0.27230973,\n",
       "         0.67549852, -0.33476832,  0.66035454, -1.42466835,  0.70830072,\n",
       "         0.00909665,  1.55425712,  0.25959333,  0.60798189,  0.43786979]])"
      ]
     },
     "execution_count": 24,
     "metadata": {},
     "output_type": "execute_result"
    }
   ],
   "source": [
    "np.random.randn(1,20)"
   ]
  },
  {
   "cell_type": "code",
   "execution_count": 25,
   "id": "aaeb2a1f",
   "metadata": {},
   "outputs": [
    {
     "data": {
      "text/plain": [
       "array([[ 1.37286923,  0.56749802, -1.85193992, -1.35170938],\n",
       "       [-0.56638307, -0.93502109,  0.15094914,  0.48415646],\n",
       "       [-0.97848839, -1.40172764,  0.61247154,  0.44561555],\n",
       "       [ 1.50538437,  1.04088581,  0.09988743,  0.17659174]])"
      ]
     },
     "execution_count": 25,
     "metadata": {},
     "output_type": "execute_result"
    }
   ],
   "source": [
    "np.random.randn(4,4)"
   ]
  },
  {
   "cell_type": "code",
   "execution_count": 27,
   "id": "34f8a6c3",
   "metadata": {},
   "outputs": [
    {
     "data": {
      "text/plain": [
       "1"
      ]
     },
     "execution_count": 27,
     "metadata": {},
     "output_type": "execute_result"
    }
   ],
   "source": [
    "np.random.randint(1,30)"
   ]
  },
  {
   "cell_type": "code",
   "execution_count": 28,
   "id": "13855a99",
   "metadata": {},
   "outputs": [
    {
     "data": {
      "text/plain": [
       "array([44, 21, 99,  6, 47])"
      ]
     },
     "execution_count": 28,
     "metadata": {},
     "output_type": "execute_result"
    }
   ],
   "source": [
    "np.random.randint(1,100,5)"
   ]
  },
  {
   "cell_type": "code",
   "execution_count": 29,
   "id": "fe4d1c65",
   "metadata": {},
   "outputs": [],
   "source": [
    "benimdizim=np.arange(30)"
   ]
  },
  {
   "cell_type": "code",
   "execution_count": 30,
   "id": "afbdc967",
   "metadata": {},
   "outputs": [
    {
     "data": {
      "text/plain": [
       "array([ 0,  1,  2,  3,  4,  5,  6,  7,  8,  9, 10, 11, 12, 13, 14, 15, 16,\n",
       "       17, 18, 19, 20, 21, 22, 23, 24, 25, 26, 27, 28, 29])"
      ]
     },
     "execution_count": 30,
     "metadata": {},
     "output_type": "execute_result"
    }
   ],
   "source": [
    "benimdizim"
   ]
  },
  {
   "cell_type": "code",
   "execution_count": 31,
   "id": "2815cd10",
   "metadata": {},
   "outputs": [],
   "source": [
    "bnrandom=np.random.randint(0,40,5)"
   ]
  },
  {
   "cell_type": "code",
   "execution_count": 32,
   "id": "92c77c16",
   "metadata": {},
   "outputs": [
    {
     "data": {
      "text/plain": [
       "array([33,  1, 38, 30,  2])"
      ]
     },
     "execution_count": 32,
     "metadata": {},
     "output_type": "execute_result"
    }
   ],
   "source": [
    "bnrandom"
   ]
  },
  {
   "cell_type": "markdown",
   "id": "4d78cd4e",
   "metadata": {},
   "source": [
    "## dizi method"
   ]
  },
  {
   "cell_type": "code",
   "execution_count": 38,
   "id": "cb900ac6",
   "metadata": {},
   "outputs": [
    {
     "data": {
      "text/plain": [
       "array([[ 0,  1,  2,  3,  4],\n",
       "       [ 5,  6,  7,  8,  9],\n",
       "       [10, 11, 12, 13, 14],\n",
       "       [15, 16, 17, 18, 19],\n",
       "       [20, 21, 22, 23, 24],\n",
       "       [25, 26, 27, 28, 29]])"
      ]
     },
     "execution_count": 38,
     "metadata": {},
     "output_type": "execute_result"
    }
   ],
   "source": [
    "benimdizim.reshape(6,5)"
   ]
  },
  {
   "cell_type": "code",
   "execution_count": 39,
   "id": "32ab5f73",
   "metadata": {},
   "outputs": [
    {
     "data": {
      "text/plain": [
       "29"
      ]
     },
     "execution_count": 39,
     "metadata": {},
     "output_type": "execute_result"
    }
   ],
   "source": [
    "benimdizim.max()"
   ]
  },
  {
   "cell_type": "code",
   "execution_count": 40,
   "id": "7753cfd8",
   "metadata": {},
   "outputs": [
    {
     "data": {
      "text/plain": [
       "0"
      ]
     },
     "execution_count": 40,
     "metadata": {},
     "output_type": "execute_result"
    }
   ],
   "source": [
    "benimdizim.min()"
   ]
  },
  {
   "cell_type": "code",
   "execution_count": 41,
   "id": "9920c8ae",
   "metadata": {},
   "outputs": [
    {
     "data": {
      "text/plain": [
       "38"
      ]
     },
     "execution_count": 41,
     "metadata": {},
     "output_type": "execute_result"
    }
   ],
   "source": [
    "bnrandom.max()"
   ]
  },
  {
   "cell_type": "code",
   "execution_count": 42,
   "id": "58ed69f2",
   "metadata": {},
   "outputs": [
    {
     "data": {
      "text/plain": [
       "1"
      ]
     },
     "execution_count": 42,
     "metadata": {},
     "output_type": "execute_result"
    }
   ],
   "source": [
    "bnrandom.min()"
   ]
  },
  {
   "cell_type": "code",
   "execution_count": 43,
   "id": "718167d3",
   "metadata": {},
   "outputs": [
    {
     "data": {
      "text/plain": [
       "2"
      ]
     },
     "execution_count": 43,
     "metadata": {},
     "output_type": "execute_result"
    }
   ],
   "source": [
    "bnrandom.argmax()"
   ]
  },
  {
   "cell_type": "code",
   "execution_count": 44,
   "id": "f9f72f77",
   "metadata": {},
   "outputs": [
    {
     "data": {
      "text/plain": [
       "1"
      ]
     },
     "execution_count": 44,
     "metadata": {},
     "output_type": "execute_result"
    }
   ],
   "source": [
    "bnrandom.argmin()"
   ]
  },
  {
   "cell_type": "code",
   "execution_count": 49,
   "id": "e45fd27c",
   "metadata": {},
   "outputs": [],
   "source": [
    "rpdizim=benimdizim.reshape(5,6)"
   ]
  },
  {
   "cell_type": "code",
   "execution_count": 50,
   "id": "be6458ee",
   "metadata": {},
   "outputs": [
    {
     "data": {
      "text/plain": [
       "(5, 6)"
      ]
     },
     "execution_count": 50,
     "metadata": {},
     "output_type": "execute_result"
    }
   ],
   "source": [
    "rpdizim.shape"
   ]
  },
  {
   "cell_type": "code",
   "execution_count": null,
   "id": "838b36e3",
   "metadata": {},
   "outputs": [],
   "source": []
  }
 ],
 "metadata": {
  "kernelspec": {
   "display_name": "Python 3 (ipykernel)",
   "language": "python",
   "name": "python3"
  },
  "language_info": {
   "codemirror_mode": {
    "name": "ipython",
    "version": 3
   },
   "file_extension": ".py",
   "mimetype": "text/x-python",
   "name": "python",
   "nbconvert_exporter": "python",
   "pygments_lexer": "ipython3",
   "version": "3.11.4"
  }
 },
 "nbformat": 4,
 "nbformat_minor": 5
}
