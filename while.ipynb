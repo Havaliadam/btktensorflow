{
 "cells": [
  {
   "cell_type": "code",
   "execution_count": 7,
   "id": "a22b4ebd",
   "metadata": {},
   "outputs": [],
   "source": []
  },
  {
   "cell_type": "code",
   "execution_count": 8,
   "id": "d4a56fb7",
   "metadata": {},
   "outputs": [
    {
     "name": "stdout",
     "output_type": "stream",
     "text": [
      "0\n",
      "1\n",
      "2\n",
      "3\n",
      "4\n",
      "5\n",
      "6\n",
      "7\n",
      "8\n",
      "9\n"
     ]
    }
   ],
   "source": [
    "x=0\n",
    "while x<10:\n",
    "    print(x)\n",
    "    x=x+1"
   ]
  },
  {
   "cell_type": "code",
   "execution_count": 9,
   "id": "46054ad0",
   "metadata": {},
   "outputs": [],
   "source": [
    "liste=[1,2,3,4,5]"
   ]
  },
  {
   "cell_type": "code",
   "execution_count": 10,
   "id": "557ac7cf",
   "metadata": {},
   "outputs": [
    {
     "data": {
      "text/plain": [
       "5"
      ]
     },
     "execution_count": 10,
     "metadata": {},
     "output_type": "execute_result"
    }
   ],
   "source": [
    "liste.pop()"
   ]
  },
  {
   "cell_type": "code",
   "execution_count": 11,
   "id": "46d7c703",
   "metadata": {},
   "outputs": [
    {
     "data": {
      "text/plain": [
       "[1, 2, 3, 4]"
      ]
     },
     "execution_count": 11,
     "metadata": {},
     "output_type": "execute_result"
    }
   ],
   "source": [
    "liste"
   ]
  },
  {
   "cell_type": "code",
   "execution_count": 12,
   "id": "cee9bd47",
   "metadata": {},
   "outputs": [],
   "source": [
    "liste.append(5)"
   ]
  },
  {
   "cell_type": "code",
   "execution_count": 13,
   "id": "657c7037",
   "metadata": {},
   "outputs": [
    {
     "data": {
      "text/plain": [
       "[1, 2, 3, 4, 5]"
      ]
     },
     "execution_count": 13,
     "metadata": {},
     "output_type": "execute_result"
    }
   ],
   "source": [
    "liste"
   ]
  },
  {
   "cell_type": "code",
   "execution_count": 15,
   "id": "53a8b972",
   "metadata": {},
   "outputs": [
    {
     "name": "stdout",
     "output_type": "stream",
     "text": [
      "listenin içinde\n",
      "listenin içinde\n",
      "listenin içinde\n"
     ]
    }
   ],
   "source": [
    "while 3 in liste:\n",
    "    print(\"listenin içinde\")\n",
    "    liste.pop()"
   ]
  },
  {
   "cell_type": "code",
   "execution_count": 18,
   "id": "9a62c382",
   "metadata": {},
   "outputs": [],
   "source": [
    "numara=0"
   ]
  },
  {
   "cell_type": "code",
   "execution_count": 19,
   "id": "3a9f20da",
   "metadata": {},
   "outputs": [
    {
     "name": "stdout",
     "output_type": "stream",
     "text": [
      "0\n",
      "1\n",
      "2\n",
      "3\n"
     ]
    }
   ],
   "source": [
    "while numara<5:\n",
    "    if numara==4:\n",
    "        break\n",
    "    print(numara)\n",
    "    numara=numara+1"
   ]
  },
  {
   "cell_type": "code",
   "execution_count": 22,
   "id": "f8655b82",
   "metadata": {},
   "outputs": [],
   "source": [
    "degisken=0"
   ]
  },
  {
   "cell_type": "code",
   "execution_count": 23,
   "id": "af2e165b",
   "metadata": {},
   "outputs": [
    {
     "name": "stdout",
     "output_type": "stream",
     "text": [
      "0\n",
      "1\n",
      "2\n",
      "3\n",
      "4\n",
      "5\n",
      "6\n",
      "7\n",
      "8\n",
      "9\n",
      "10\n",
      "11\n",
      "12\n",
      "13\n",
      "14\n"
     ]
    }
   ],
   "source": [
    "while degisken<15:\n",
    "    print(degisken)\n",
    "    degisken=degisken+1"
   ]
  },
  {
   "cell_type": "code",
   "execution_count": 24,
   "id": "97fcba46",
   "metadata": {},
   "outputs": [
    {
     "name": "stdout",
     "output_type": "stream",
     "text": [
      "yeni değişken değeri:0\n",
      "yeni değişken değeri:5\n",
      "yeni değişken değeri:10\n",
      "yeni değişken değeri:15\n",
      "yeni değişken değeri:20\n",
      "yeni değişken değeri:25\n",
      "yeni değişken değeri:30\n",
      "yeni değişken değeri:35\n",
      "yeni değişken değeri:40\n",
      "yeni değişken değeri:45\n",
      "yeni değişken değeri:50\n",
      "yeni değişken değeri:55\n",
      "yeni değişken değeri:60\n",
      "yeni değişken değeri:65\n",
      "yeni değişken değeri:70\n"
     ]
    }
   ],
   "source": [
    "yenidegisken=0\n",
    "while yenidegisken<15:\n",
    "    print(f'yeni değişken değeri:{yenidegisken*5}')\n",
    "    yenidegisken=yenidegisken+1"
   ]
  },
  {
   "cell_type": "code",
   "execution_count": null,
   "id": "2fc26d4b",
   "metadata": {},
   "outputs": [],
   "source": []
  }
 ],
 "metadata": {
  "kernelspec": {
   "display_name": "Python 3 (ipykernel)",
   "language": "python",
   "name": "python3"
  },
  "language_info": {
   "codemirror_mode": {
    "name": "ipython",
    "version": 3
   },
   "file_extension": ".py",
   "mimetype": "text/x-python",
   "name": "python",
   "nbconvert_exporter": "python",
   "pygments_lexer": "ipython3",
   "version": "3.11.4"
  }
 },
 "nbformat": 4,
 "nbformat_minor": 5
}
