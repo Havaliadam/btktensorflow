{
 "cells": [
  {
   "cell_type": "code",
   "execution_count": 1,
   "id": "a85a06ff",
   "metadata": {},
   "outputs": [],
   "source": [
    "benimlistem=list()"
   ]
  },
  {
   "cell_type": "code",
   "execution_count": 2,
   "id": "fa61ea43",
   "metadata": {},
   "outputs": [
    {
     "data": {
      "text/plain": [
       "list"
      ]
     },
     "execution_count": 2,
     "metadata": {},
     "output_type": "execute_result"
    }
   ],
   "source": [
    "type(benimlistem)"
   ]
  },
  {
   "cell_type": "markdown",
   "id": "161a6c6f",
   "metadata": {},
   "source": [
    "## instance & attribute"
   ]
  },
  {
   "cell_type": "code",
   "execution_count": 3,
   "id": "ecc9a611",
   "metadata": {},
   "outputs": [],
   "source": [
    "superkahramanadi=\"superman\"\n",
    "superkahramanyasi=30\n",
    "superkahramanmeslek=\"pilot\""
   ]
  },
  {
   "cell_type": "code",
   "execution_count": 4,
   "id": "72bc8335",
   "metadata": {},
   "outputs": [],
   "source": [
    "ikincisuperkahramanadi=\"batman\""
   ]
  },
  {
   "cell_type": "code",
   "execution_count": 52,
   "id": "7a8e6b8d",
   "metadata": {},
   "outputs": [],
   "source": [
    "class Superkahraman():\n",
    "    ozelguc=\"ucmak\"\n",
    "    \n",
    "    def __init__(self,isim,yas,meslek):\n",
    "        self.isim=isim\n",
    "        self.yas=yas\n",
    "        self.meslek=meslek\n",
    "        print(\"cagırdı\")\n",
    "    def ornekmethod(self):\n",
    "        print(f\"ben süperkahramanım ve meslegim:{self.meslek}\")\n",
    "        "
   ]
  },
  {
   "cell_type": "code",
   "execution_count": 53,
   "id": "5347974f",
   "metadata": {},
   "outputs": [
    {
     "name": "stdout",
     "output_type": "stream",
     "text": [
      "cagırdı\n"
     ]
    }
   ],
   "source": [
    "superkahram=Superkahraman(\"batman\",40,\"gazeteci\")"
   ]
  },
  {
   "cell_type": "code",
   "execution_count": 54,
   "id": "1ad49c68",
   "metadata": {},
   "outputs": [],
   "source": [
    "superkahram.isim=\"batman\""
   ]
  },
  {
   "cell_type": "code",
   "execution_count": 55,
   "id": "d3ae5e62",
   "metadata": {},
   "outputs": [
    {
     "data": {
      "text/plain": [
       "'batman'"
      ]
     },
     "execution_count": 55,
     "metadata": {},
     "output_type": "execute_result"
    }
   ],
   "source": [
    "superkahram.isim\n"
   ]
  },
  {
   "cell_type": "code",
   "execution_count": 56,
   "id": "fe304442",
   "metadata": {},
   "outputs": [
    {
     "data": {
      "text/plain": [
       "40"
      ]
     },
     "execution_count": 56,
     "metadata": {},
     "output_type": "execute_result"
    }
   ],
   "source": [
    "superkahram.yas"
   ]
  },
  {
   "cell_type": "code",
   "execution_count": 57,
   "id": "b4dfa96a",
   "metadata": {},
   "outputs": [],
   "source": [
    "superkahram.ozelguc=\"koşmak\""
   ]
  },
  {
   "cell_type": "code",
   "execution_count": 58,
   "id": "c0407eda",
   "metadata": {},
   "outputs": [
    {
     "data": {
      "text/plain": [
       "'koşmak'"
      ]
     },
     "execution_count": 58,
     "metadata": {},
     "output_type": "execute_result"
    }
   ],
   "source": [
    "superkahram.ozelguc"
   ]
  },
  {
   "cell_type": "code",
   "execution_count": 59,
   "id": "2815e9c2",
   "metadata": {},
   "outputs": [
    {
     "name": "stdout",
     "output_type": "stream",
     "text": [
      "ben süperkahramanım ve meslegim:gazeteci\n"
     ]
    }
   ],
   "source": [
    "superkahram.ornekmethod()"
   ]
  },
  {
   "cell_type": "code",
   "execution_count": 87,
   "id": "4335ab32",
   "metadata": {},
   "outputs": [],
   "source": [
    "class kopek():\n",
    "    yilcarpani=7\n",
    "  \n",
    "    def __init__(self,yas=5):\n",
    "        \n",
    "        self.yas=yas\n",
    "        self.insanyasi=yas*7\n",
    "    def insanyasinihesapla(self):\n",
    "        return self.yas*kopek.yilcarpani"
   ]
  },
  {
   "cell_type": "code",
   "execution_count": 88,
   "id": "130bb790",
   "metadata": {},
   "outputs": [],
   "source": [
    "benimkopek=kopek()"
   ]
  },
  {
   "cell_type": "code",
   "execution_count": 89,
   "id": "b586f720",
   "metadata": {},
   "outputs": [
    {
     "data": {
      "text/plain": [
       "5"
      ]
     },
     "execution_count": 89,
     "metadata": {},
     "output_type": "execute_result"
    }
   ],
   "source": [
    "benimkopek.yas"
   ]
  },
  {
   "cell_type": "code",
   "execution_count": 90,
   "id": "919f3119",
   "metadata": {},
   "outputs": [
    {
     "data": {
      "text/plain": [
       "35"
      ]
     },
     "execution_count": 90,
     "metadata": {},
     "output_type": "execute_result"
    }
   ],
   "source": [
    "benimkopek.insanyasinihesapla()"
   ]
  },
  {
   "cell_type": "markdown",
   "id": "43afad2a",
   "metadata": {},
   "source": [
    "## inheritance"
   ]
  },
  {
   "cell_type": "code",
   "execution_count": 102,
   "id": "70fb3089",
   "metadata": {},
   "outputs": [],
   "source": [
    "class hayvan():\n",
    "    def __init__(self):\n",
    "        print(\"hayvan sınıfı init cağırdı\")\n",
    "    def method1(self):\n",
    "        print(\"hayvan sınıfı method1 cağırdı\")\n",
    "    def method2(self):\n",
    "        print(\"hayvan sınıfı method2 cağırdı\")"
   ]
  },
  {
   "cell_type": "code",
   "execution_count": 103,
   "id": "f75d137b",
   "metadata": {},
   "outputs": [
    {
     "name": "stdout",
     "output_type": "stream",
     "text": [
      "hayvan sınıfı init cağırdı\n"
     ]
    }
   ],
   "source": [
    "benimhayvan=hayvan()"
   ]
  },
  {
   "cell_type": "code",
   "execution_count": 104,
   "id": "94ee7997",
   "metadata": {},
   "outputs": [
    {
     "name": "stdout",
     "output_type": "stream",
     "text": [
      "hayvan sınıfı method1 cağırdı\n"
     ]
    }
   ],
   "source": [
    "benimhayvan.method1()"
   ]
  },
  {
   "cell_type": "code",
   "execution_count": 105,
   "id": "02f8ff9e",
   "metadata": {},
   "outputs": [
    {
     "name": "stdout",
     "output_type": "stream",
     "text": [
      "hayvan sınıfı method2 cağırdı\n"
     ]
    }
   ],
   "source": [
    "benimhayvan.method2()"
   ]
  },
  {
   "cell_type": "code",
   "execution_count": 106,
   "id": "5b6ec4b8",
   "metadata": {},
   "outputs": [],
   "source": [
    "class kedi(hayvan):\n",
    "    def __init__(self):\n",
    "        hayvan.__init__(self)\n",
    "        print(\"kedi sınıfı oluştu\")\n",
    "        \n",
    "    def miyavla(self):\n",
    "        print(\"miyav\")\n",
    "    def method1(self):\n",
    "        print(\"hayvan sınıfı method1 cağırdı\")    "
   ]
  },
  {
   "cell_type": "code",
   "execution_count": 107,
   "id": "f2b51830",
   "metadata": {},
   "outputs": [
    {
     "name": "stdout",
     "output_type": "stream",
     "text": [
      "hayvan sınıfı init cağırdı\n",
      "kedi sınıfı oluştu\n"
     ]
    }
   ],
   "source": [
    "benimkedi=kedi()"
   ]
  },
  {
   "cell_type": "code",
   "execution_count": 108,
   "id": "c3aa0f6e",
   "metadata": {},
   "outputs": [
    {
     "name": "stdout",
     "output_type": "stream",
     "text": [
      "hayvan sınıfı method1 cağırdı\n"
     ]
    }
   ],
   "source": [
    "benimkedi.method1()"
   ]
  },
  {
   "cell_type": "code",
   "execution_count": 109,
   "id": "68f7b536",
   "metadata": {},
   "outputs": [
    {
     "name": "stdout",
     "output_type": "stream",
     "text": [
      "miyav\n"
     ]
    }
   ],
   "source": [
    "benimkedi.miyavla()"
   ]
  },
  {
   "cell_type": "code",
   "execution_count": 110,
   "id": "49dacb6c",
   "metadata": {},
   "outputs": [
    {
     "name": "stdout",
     "output_type": "stream",
     "text": [
      "hayvan sınıfı method1 cağırdı\n"
     ]
    }
   ],
   "source": [
    "benimkedi.method1()"
   ]
  },
  {
   "cell_type": "code",
   "execution_count": 112,
   "id": "1e850f9f",
   "metadata": {},
   "outputs": [
    {
     "name": "stdout",
     "output_type": "stream",
     "text": [
      "hayvan sınıfı init cağırdı\n"
     ]
    }
   ],
   "source": [
    "digerhayvan=hayvan()"
   ]
  },
  {
   "cell_type": "code",
   "execution_count": 113,
   "id": "a12fb9a5",
   "metadata": {},
   "outputs": [
    {
     "name": "stdout",
     "output_type": "stream",
     "text": [
      "hayvan sınıfı init cağırdı\n",
      "kedi sınıfı oluştu\n"
     ]
    }
   ],
   "source": [
    "digerkedi=kedi()"
   ]
  },
  {
   "cell_type": "code",
   "execution_count": 114,
   "id": "6d63cdbf",
   "metadata": {},
   "outputs": [
    {
     "name": "stdout",
     "output_type": "stream",
     "text": [
      "hayvan sınıfı method1 cağırdı\n"
     ]
    }
   ],
   "source": [
    "digerkedi.method1()"
   ]
  },
  {
   "cell_type": "markdown",
   "id": "912e687c",
   "metadata": {},
   "source": [
    "## polymorphism"
   ]
  },
  {
   "cell_type": "code",
   "execution_count": 122,
   "id": "f89506b0",
   "metadata": {},
   "outputs": [],
   "source": [
    "class elma():\n",
    "    def __init__(self,isim):\n",
    "        self.isim=isim\n",
    "    def bilgiver(self):\n",
    "        return self.isim+\" 100 kalori\""
   ]
  },
  {
   "cell_type": "code",
   "execution_count": 123,
   "id": "9bde4877",
   "metadata": {},
   "outputs": [],
   "source": [
    "class muz():\n",
    "    def __init__(self,isim):\n",
    "        self.isim=isim\n",
    "    def bilgiver(self):\n",
    "        return self.isim+\" 150 kalori\"\n",
    "    "
   ]
  },
  {
   "cell_type": "code",
   "execution_count": 124,
   "id": "4b154a9a",
   "metadata": {},
   "outputs": [],
   "source": [
    "Elma=elma(\"elma\")"
   ]
  },
  {
   "cell_type": "code",
   "execution_count": 125,
   "id": "2464209c",
   "metadata": {},
   "outputs": [
    {
     "data": {
      "text/plain": [
       "'elma 100 kalori'"
      ]
     },
     "execution_count": 125,
     "metadata": {},
     "output_type": "execute_result"
    }
   ],
   "source": [
    "Elma.bilgiver()"
   ]
  },
  {
   "cell_type": "code",
   "execution_count": 126,
   "id": "758cb0df",
   "metadata": {},
   "outputs": [],
   "source": [
    "Muz=muz(\"muz\")"
   ]
  },
  {
   "cell_type": "code",
   "execution_count": 127,
   "id": "c377cbf7",
   "metadata": {},
   "outputs": [
    {
     "data": {
      "text/plain": [
       "'muz 150 kalori'"
      ]
     },
     "execution_count": 127,
     "metadata": {},
     "output_type": "execute_result"
    }
   ],
   "source": [
    "Muz.bilgiver()"
   ]
  },
  {
   "cell_type": "code",
   "execution_count": 128,
   "id": "92ab8862",
   "metadata": {},
   "outputs": [],
   "source": [
    "meyveListesi=[Elma,Muz]"
   ]
  },
  {
   "cell_type": "code",
   "execution_count": 129,
   "id": "9d1afc79",
   "metadata": {},
   "outputs": [
    {
     "name": "stdout",
     "output_type": "stream",
     "text": [
      "elma 100 kalori\n",
      "muz 150 kalori\n"
     ]
    }
   ],
   "source": [
    "for meyve in meyveListesi:\n",
    "    print(meyve.bilgiver())"
   ]
  },
  {
   "cell_type": "code",
   "execution_count": 130,
   "id": "7f72adc0",
   "metadata": {},
   "outputs": [],
   "source": [
    "def bilgial(meyve):\n",
    "    print(meyve.bilgiver())"
   ]
  },
  {
   "cell_type": "code",
   "execution_count": 131,
   "id": "a86b7a7e",
   "metadata": {},
   "outputs": [
    {
     "name": "stdout",
     "output_type": "stream",
     "text": [
      "muz 150 kalori\n"
     ]
    }
   ],
   "source": [
    "bilgial(Muz)"
   ]
  },
  {
   "cell_type": "code",
   "execution_count": 132,
   "id": "c365b65f",
   "metadata": {},
   "outputs": [
    {
     "name": "stdout",
     "output_type": "stream",
     "text": [
      "elma 100 kalori\n"
     ]
    }
   ],
   "source": [
    "bilgial(Elma)"
   ]
  },
  {
   "cell_type": "code",
   "execution_count": null,
   "id": "73b75a3f",
   "metadata": {},
   "outputs": [],
   "source": []
  }
 ],
 "metadata": {
  "kernelspec": {
   "display_name": "Python 3 (ipykernel)",
   "language": "python",
   "name": "python3"
  },
  "language_info": {
   "codemirror_mode": {
    "name": "ipython",
    "version": 3
   },
   "file_extension": ".py",
   "mimetype": "text/x-python",
   "name": "python",
   "nbconvert_exporter": "python",
   "pygments_lexer": "ipython3",
   "version": "3.11.4"
  }
 },
 "nbformat": 4,
 "nbformat_minor": 5
}
