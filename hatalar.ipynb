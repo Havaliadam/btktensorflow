{
 "cells": [
  {
   "cell_type": "code",
   "execution_count": 1,
   "id": "3e9dce63",
   "metadata": {},
   "outputs": [],
   "source": [
    "def toplama(num1,num2):\n",
    "    return num1+num2"
   ]
  },
  {
   "cell_type": "code",
   "execution_count": null,
   "id": "ddc05e34",
   "metadata": {},
   "outputs": [],
   "source": [
    "x=int(input(\"ilk numara gir:\"))\n",
    "\n",
    "y=int(input(\"ikinci numara gir:\"))\n",
    "toplama(x,y)"
   ]
  },
  {
   "cell_type": "markdown",
   "id": "0ce97a47",
   "metadata": {},
   "source": [
    "## try except &else &finally"
   ]
  },
  {
   "cell_type": "code",
   "execution_count": 1,
   "id": "2a478d06",
   "metadata": {},
   "outputs": [
    {
     "name": "stdout",
     "output_type": "stream",
     "text": [
      "numara gir:atıl\n",
      "gerçek no gir \n",
      "finally çağırdı\n",
      "numara gir:5\n",
      "teşekkürkler\n",
      "finally çağırdı\n"
     ]
    }
   ],
   "source": [
    "while True:\n",
    "    try:\n",
    "        benimInt=int(input(\"numara gir:\"))\n",
    "    except:\n",
    "        print(\"gerçek no gir \")\n",
    "        continue\n",
    "    else:\n",
    "        print(\"teşekkürkler\")\n",
    "        break\n",
    "    finally:\n",
    "        print(\"finally çağırdı\")"
   ]
  },
  {
   "cell_type": "code",
   "execution_count": null,
   "id": "c14bfcce",
   "metadata": {},
   "outputs": [],
   "source": []
  },
  {
   "cell_type": "code",
   "execution_count": null,
   "id": "60823e0e",
   "metadata": {},
   "outputs": [],
   "source": []
  },
  {
   "cell_type": "code",
   "execution_count": null,
   "id": "4923c3d9",
   "metadata": {},
   "outputs": [],
   "source": []
  }
 ],
 "metadata": {
  "kernelspec": {
   "display_name": "Python 3 (ipykernel)",
   "language": "python",
   "name": "python3"
  },
  "language_info": {
   "codemirror_mode": {
    "name": "ipython",
    "version": 3
   },
   "file_extension": ".py",
   "mimetype": "text/x-python",
   "name": "python",
   "nbconvert_exporter": "python",
   "pygments_lexer": "ipython3",
   "version": "3.11.4"
  }
 },
 "nbformat": 4,
 "nbformat_minor": 5
}
