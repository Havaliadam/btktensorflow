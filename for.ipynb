{
 "cells": [
  {
   "cell_type": "code",
   "execution_count": 1,
   "id": "b88f38b2",
   "metadata": {},
   "outputs": [],
   "source": [
    "benimlistem=[10,20,30,40,50]"
   ]
  },
  {
   "cell_type": "code",
   "execution_count": 2,
   "id": "b0eb9e14",
   "metadata": {},
   "outputs": [
    {
     "name": "stdout",
     "output_type": "stream",
     "text": [
      "mevcut\n"
     ]
    }
   ],
   "source": [
    "if 10 in benimlistem:\n",
    "    print(\"mevcut\")"
   ]
  },
  {
   "cell_type": "code",
   "execution_count": 4,
   "id": "88893e97",
   "metadata": {},
   "outputs": [
    {
     "data": {
      "text/plain": [
       "33.333333333333336"
      ]
     },
     "execution_count": 4,
     "metadata": {},
     "output_type": "execute_result"
    }
   ],
   "source": [
    "benimlistem[1]*5/3"
   ]
  },
  {
   "cell_type": "code",
   "execution_count": 7,
   "id": "104561ae",
   "metadata": {},
   "outputs": [
    {
     "name": "stdout",
     "output_type": "stream",
     "text": [
      "döngü başladı\n",
      "16.666666666666668\n",
      "33.333333333333336\n",
      "50.0\n",
      "66.66666666666667\n",
      "83.33333333333333\n",
      "döngü bitt\n"
     ]
    }
   ],
   "source": [
    "print(\"döngü başladı\")\n",
    "for numara in benimlistem:\n",
    "    print(numara*5/3)\n",
    "print(\"döngü bitt\")    "
   ]
  },
  {
   "cell_type": "code",
   "execution_count": 8,
   "id": "a6074395",
   "metadata": {},
   "outputs": [
    {
     "name": "stdout",
     "output_type": "stream",
     "text": [
      "16.666666666666668\n",
      "33.333333333333336\n",
      "50.0\n",
      "66.66666666666667\n",
      "83.33333333333333\n"
     ]
    }
   ],
   "source": [
    "for num in benimlistem:\n",
    "    yeninumara=num*5/3\n",
    "    print(yeninumara)"
   ]
  },
  {
   "cell_type": "code",
   "execution_count": 9,
   "id": "a4e77aa7",
   "metadata": {},
   "outputs": [],
   "source": [
    "yeniliste=[1,2,3,4,5,6,7]"
   ]
  },
  {
   "cell_type": "code",
   "execution_count": 13,
   "id": "980c6314",
   "metadata": {},
   "outputs": [
    {
     "name": "stdout",
     "output_type": "stream",
     "text": [
      "tek\n",
      "1\n",
      "cift\n",
      "tek\n",
      "3\n",
      "cift\n",
      "tek\n",
      "5\n",
      "cift\n",
      "tek\n",
      "7\n"
     ]
    }
   ],
   "source": [
    "for rakam in yeniliste:\n",
    "    if rakam%2==0:\n",
    "        print(\"cift\")\n",
    "    else:\n",
    "        print(\"tek\")\n",
    "        print(rakam)"
   ]
  },
  {
   "cell_type": "code",
   "execution_count": 18,
   "id": "f07db7fd",
   "metadata": {},
   "outputs": [],
   "source": [
    "yeniString=\"ayhan celik\""
   ]
  },
  {
   "cell_type": "code",
   "execution_count": 19,
   "id": "597af2cb",
   "metadata": {},
   "outputs": [
    {
     "name": "stdout",
     "output_type": "stream",
     "text": [
      "a\n",
      "y\n",
      "h\n",
      "a\n",
      "n\n",
      " \n",
      "c\n",
      "e\n",
      "l\n",
      "i\n",
      "k\n"
     ]
    }
   ],
   "source": [
    "for harf in yeniString:\n",
    "    print(harf)"
   ]
  },
  {
   "cell_type": "code",
   "execution_count": 20,
   "id": "626561e7",
   "metadata": {},
   "outputs": [],
   "source": [
    "benimTurple={1,2,3,4,5}"
   ]
  },
  {
   "cell_type": "code",
   "execution_count": 22,
   "id": "67b5e7c8",
   "metadata": {},
   "outputs": [
    {
     "name": "stdout",
     "output_type": "stream",
     "text": [
      "-9\n",
      "-8\n",
      "-7\n",
      "-6\n",
      "-5\n"
     ]
    }
   ],
   "source": [
    "for elem in benimTurple:\n",
    "    print(elem-10)"
   ]
  },
  {
   "cell_type": "code",
   "execution_count": 23,
   "id": "6c442a52",
   "metadata": {},
   "outputs": [],
   "source": [
    "koordinatliste=[(10.2,15.2),(32.4,16.2),(40.2,20.5)]"
   ]
  },
  {
   "cell_type": "code",
   "execution_count": 24,
   "id": "e15f1b5f",
   "metadata": {},
   "outputs": [
    {
     "data": {
      "text/plain": [
       "tuple"
      ]
     },
     "execution_count": 24,
     "metadata": {},
     "output_type": "execute_result"
    }
   ],
   "source": [
    "type(koordinatliste[0])"
   ]
  },
  {
   "cell_type": "code",
   "execution_count": 25,
   "id": "39586cbf",
   "metadata": {},
   "outputs": [
    {
     "name": "stdout",
     "output_type": "stream",
     "text": [
      "(10.2, 15.2)\n",
      "(32.4, 16.2)\n",
      "(40.2, 20.5)\n"
     ]
    }
   ],
   "source": [
    "for eleman in koordinatliste:\n",
    "    print(eleman)"
   ]
  },
  {
   "cell_type": "code",
   "execution_count": 26,
   "id": "4f3a3b46",
   "metadata": {},
   "outputs": [
    {
     "name": "stdout",
     "output_type": "stream",
     "text": [
      "10.2\n",
      "32.4\n",
      "40.2\n"
     ]
    }
   ],
   "source": [
    "for (x,y) in koordinatliste:\n",
    "    print(x)\n"
   ]
  },
  {
   "cell_type": "code",
   "execution_count": 27,
   "id": "28c72dcf",
   "metadata": {},
   "outputs": [],
   "source": [
    "benimgaripliste=[(1,2,3),(4,5,6),(7,8,9)]"
   ]
  },
  {
   "cell_type": "code",
   "execution_count": 28,
   "id": "f69da7b0",
   "metadata": {},
   "outputs": [
    {
     "name": "stdout",
     "output_type": "stream",
     "text": [
      "3\n",
      "6\n",
      "9\n"
     ]
    }
   ],
   "source": [
    "for (x,y,z) in benimgaripliste:\n",
    "    print(z)"
   ]
  },
  {
   "cell_type": "code",
   "execution_count": 29,
   "id": "5f6eff7e",
   "metadata": {},
   "outputs": [],
   "source": [
    "benimsozlük={\"muz\":200,\"portakal\":450,\"elma\":500}"
   ]
  },
  {
   "cell_type": "code",
   "execution_count": 31,
   "id": "9f53695d",
   "metadata": {},
   "outputs": [
    {
     "data": {
      "text/plain": [
       "dict_items"
      ]
     },
     "execution_count": 31,
     "metadata": {},
     "output_type": "execute_result"
    }
   ],
   "source": [
    "type(benimsozlük.items())"
   ]
  },
  {
   "cell_type": "code",
   "execution_count": 32,
   "id": "b93dbcd3",
   "metadata": {},
   "outputs": [
    {
     "name": "stdout",
     "output_type": "stream",
     "text": [
      "200 muz\n",
      "450 portakal\n",
      "500 elma\n"
     ]
    }
   ],
   "source": [
    "for(anahtar,deger)in benimsozlük.items():\n",
    "    print(deger,anahtar)"
   ]
  },
  {
   "cell_type": "code",
   "execution_count": null,
   "id": "3987d68d",
   "metadata": {},
   "outputs": [],
   "source": []
  }
 ],
 "metadata": {
  "kernelspec": {
   "display_name": "Python 3 (ipykernel)",
   "language": "python",
   "name": "python3"
  },
  "language_info": {
   "codemirror_mode": {
    "name": "ipython",
    "version": 3
   },
   "file_extension": ".py",
   "mimetype": "text/x-python",
   "name": "python",
   "nbconvert_exporter": "python",
   "pygments_lexer": "ipython3",
   "version": "3.11.4"
  }
 },
 "nbformat": 4,
 "nbformat_minor": 5
}
