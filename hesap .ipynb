{
 "cells": [
  {
   "cell_type": "code",
   "execution_count": null,
   "id": "b88e7727",
   "metadata": {},
   "outputs": [],
   "source": [
    "def calc(x, y, ops):\n",
    "\n",
    "    if ops not in '+-/*':\n",
    "        return 'Choose operator: \"+, -, *, /\"!'\n",
    "\n",
    "    if ops == '+':\n",
    "        return(str(x) + ' ' + ops + ' ' + str(y) + ' = ' + str(x + y))\n",
    "    if ops == '-':\n",
    "        return(str(x) + ' ' + ops + ' ' + str(y) + ' = ' + str(x - y))\n",
    "    if ops == '*':\n",
    "        return(str(x) + ' ' + ops + ' ' + str(y) + ' = ' + str(x * y))\n",
    "    if ops == '/':\n",
    "        return(str(x) + ' ' + ops + ' ' + str(y) + ' = ' + str(x / y))\n",
    "\n",
    "while True:\n",
    "\n",
    "\tx = int(input('Enter first number: '))\n",
    "\ty = int(input('Enter second number: '))\n",
    "\tops = input(\"Choose between +, -, *, / \")\n",
    "\n",
    "\tprint(calc(x, y, ops))"
   ]
  }
 ],
 "metadata": {
  "kernelspec": {
   "display_name": "Python 3 (ipykernel)",
   "language": "python",
   "name": "python3"
  },
  "language_info": {
   "codemirror_mode": {
    "name": "ipython",
    "version": 3
   },
   "file_extension": ".py",
   "mimetype": "text/x-python",
   "name": "python",
   "nbconvert_exporter": "python",
   "pygments_lexer": "ipython3",
   "version": "3.11.4"
  }
 },
 "nbformat": 4,
 "nbformat_minor": 5
}
